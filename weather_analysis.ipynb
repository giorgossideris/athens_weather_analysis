{
 "cells": [
  {
   "cell_type": "markdown",
   "id": "28006f05",
   "metadata": {},
   "source": [
    "# Analysis of Weather in Athens for the period 1955 - 2020\n",
    "* This is a project created in the context of the course: \"Applied Machine Learning\".\n",
    "* Data are obtained from:\n",
    "    1. The National Oceanic and Atmospheric Administration's National Centers for Environmental Information (https://www.ncdc.noaa.gov/cdo-web/)\n",
    "    2. The Helenic Data Service (https://hellenicdataservice.gr/main/)\n",
    "* The analysis will be done on [Jupyter](http://jupyter.org/).\n",
    "---\n",
    "> Georgios Sideris <br />\n",
    "> geosideris@aueb.gr"
   ]
  },
  {
   "cell_type": "markdown",
   "id": "eb1a52e8",
   "metadata": {},
   "source": [
    "## Import packages\n",
    "* To begin with, we will import the packages that we will use in the following segments of the project:\n",
    "    * [NumPy](https://www.numpy.org/)\n",
    "    * [pandas](https://pandas.pydata.org/)\n",
    "    * [matplotlib](https://matplotlib.org/)\n",
    "    * [SciPy](https://www.scipy.org/)\n",
    "* Note that the prementioned packages **must be locally installed too** in order to be used."
   ]
  },
  {
   "cell_type": "code",
   "execution_count": 1,
   "id": "4d091785",
   "metadata": {},
   "outputs": [],
   "source": [
    "import numpy as np\n",
    "import pandas as pd\n",
    "import matplotlib.pyplot as plt\n",
    "import scipy.stats.stats as stats\n",
    "\n",
    "%matplotlib inline"
   ]
  },
  {
   "cell_type": "markdown",
   "id": "ea393edc",
   "metadata": {},
   "source": [
    "## Obtain the Data\n",
    "* The data used for the analysis can be found in the folder <code>data</code>:\n",
    "    * <code>data/hellinikon_noaa.csv</code>: contains the data downloaded from [NOAA](https://www.ncdc.noaa.gov/cdo-web/).\n",
    "    * <code>data/athens_hds.csv</code>: contains the data downloaded from [HDS](https://hellenicdataservice.gr/main/).\n",
    "* We will talk more about them in the following parts.\n"
   ]
  },
  {
   "cell_type": "markdown",
   "id": "e2b0ebb6",
   "metadata": {},
   "source": [
    "### Data from NOAA\n",
    "* The data downloaded from the National Oceanic and Atmospheric Administration's National Centers for Environmental Information refer to the weather station of **Hellinikon** and the period **1955 - 2020**.\n",
    "* To get them, the search feature of the NOAA website was used (https://www.ncdc.noaa.gov/cdo-web/search).\n",
    "* Specifically, the filters used were:\n",
    "    1. Dataset: *Daily Summaries*\n",
    "    2. Date range: *1955-01-01 to 2020-12-31*\n",
    "    3. Search for: *Stations*\n",
    "    4. Search Term: *Hellinikon*  \n",
    "* The station selected for the download is: *HELLINIKON, GR*\n",
    "* The output format chosen is: *Custom GHCN-Daily CSV*\n",
    "* Units were set to: *Metric* (in order to get the data in Celsius and millimeters instead of Fahrenheit and inches)\n",
    "* Lastly the data types for custom output chosen were:\n",
    "    1. Precipitation (PRCP) \n",
    "    2. Average Temperature (TAVG)\n",
    "    3. Maximum temperature (TMAX)\n",
    "    4. Minimum temperature (TMIN)\n",
    "* The downloaded file was renamed to <code>hellinikon_noaa.csv</code> and can be found at the <code>data</code> folder."
   ]
  },
  {
   "cell_type": "markdown",
   "id": "52831d3b",
   "metadata": {},
   "source": [
    "#### Dataframe from NOAA\n",
    "* Next we will generate a dataframe using the <code>data/hellinikon_noaa.csv</code> file."
   ]
  },
  {
   "cell_type": "code",
   "execution_count": 2,
   "id": "ee00b219",
   "metadata": {},
   "outputs": [
    {
     "data": {
      "text/html": [
       "<div>\n",
       "<style scoped>\n",
       "    .dataframe tbody tr th:only-of-type {\n",
       "        vertical-align: middle;\n",
       "    }\n",
       "\n",
       "    .dataframe tbody tr th {\n",
       "        vertical-align: top;\n",
       "    }\n",
       "\n",
       "    .dataframe thead th {\n",
       "        text-align: right;\n",
       "    }\n",
       "</style>\n",
       "<table border=\"1\" class=\"dataframe\">\n",
       "  <thead>\n",
       "    <tr style=\"text-align: right;\">\n",
       "      <th></th>\n",
       "      <th>date</th>\n",
       "      <th>prcp</th>\n",
       "      <th>avg_temp</th>\n",
       "      <th>max_temp</th>\n",
       "      <th>min_temp</th>\n",
       "    </tr>\n",
       "  </thead>\n",
       "  <tbody>\n",
       "    <tr>\n",
       "      <th>0</th>\n",
       "      <td>1955-01-01</td>\n",
       "      <td>0.0</td>\n",
       "      <td>NaN</td>\n",
       "      <td>18.5</td>\n",
       "      <td>10.2</td>\n",
       "    </tr>\n",
       "    <tr>\n",
       "      <th>1</th>\n",
       "      <td>1955-01-02</td>\n",
       "      <td>2.0</td>\n",
       "      <td>NaN</td>\n",
       "      <td>14.4</td>\n",
       "      <td>7.0</td>\n",
       "    </tr>\n",
       "    <tr>\n",
       "      <th>2</th>\n",
       "      <td>1955-01-03</td>\n",
       "      <td>0.0</td>\n",
       "      <td>NaN</td>\n",
       "      <td>15.8</td>\n",
       "      <td>9.6</td>\n",
       "    </tr>\n",
       "    <tr>\n",
       "      <th>3</th>\n",
       "      <td>1955-01-04</td>\n",
       "      <td>0.0</td>\n",
       "      <td>NaN</td>\n",
       "      <td>18.8</td>\n",
       "      <td>7.3</td>\n",
       "    </tr>\n",
       "    <tr>\n",
       "      <th>4</th>\n",
       "      <td>1955-01-05</td>\n",
       "      <td>0.0</td>\n",
       "      <td>NaN</td>\n",
       "      <td>17.9</td>\n",
       "      <td>8.4</td>\n",
       "    </tr>\n",
       "  </tbody>\n",
       "</table>\n",
       "</div>"
      ],
      "text/plain": [
       "        date  prcp  avg_temp  max_temp  min_temp\n",
       "0 1955-01-01   0.0       NaN      18.5      10.2\n",
       "1 1955-01-02   2.0       NaN      14.4       7.0\n",
       "2 1955-01-03   0.0       NaN      15.8       9.6\n",
       "3 1955-01-04   0.0       NaN      18.8       7.3\n",
       "4 1955-01-05   0.0       NaN      17.9       8.4"
      ]
     },
     "execution_count": 2,
     "metadata": {},
     "output_type": "execute_result"
    }
   ],
   "source": [
    "data_hellinikon_noaa = \"data/hellinikon_noaa.csv\"\n",
    "noaa_data = pd.read_csv(data_hellinikon_noaa,\n",
    "                        parse_dates=[\"date\"], \n",
    "                        usecols=range(2, 7), \n",
    "                        header=0, \n",
    "                        names=[\"date\", \"prcp\", \"avg_temp\", \"max_temp\", \"min_temp\"])\n",
    "noaa_data.head(5)"
   ]
  },
  {
   "cell_type": "markdown",
   "id": "3bbca2f0",
   "metadata": {},
   "source": [
    "### Data from HDS\n",
    "* The data from the Helenic Data Service refer to the weather station of **Athens** and the period **2010-2019**.\n",
    "* The relative file (**athens.csv**) can be found online [here](https://data.hellenicdataservice.gr/dataset/66e1c19a-7b0e-456f-b465-b301a1130e3f).\n",
    "* The downloaded file was renamed to <code>athens_hds.csv</code> and can be found at the <code>data</code> folder."
   ]
  },
  {
   "cell_type": "markdown",
   "id": "67eae36b",
   "metadata": {},
   "source": [
    "#### Dataframe from HDS\n",
    "* Next we will generate a dataframe using the <code>data/athens_hds.csv</code> file.\n",
    "* The particular file contains information that we are not interested in (documentation can be found [here](https://data.hellenicdataservice.gr/dataset/66e1c19a-7b0e-456f-b465-b301a1130e3f/resource/a7c024b3-8606-4f08-93e2-2042f5bd6748)), so we will choose only the columns that refer to the *date*, the *average temperature* and the *precipitation* of each day."
   ]
  },
  {
   "cell_type": "code",
   "execution_count": 3,
   "id": "38a03762",
   "metadata": {},
   "outputs": [
    {
     "data": {
      "text/html": [
       "<div>\n",
       "<style scoped>\n",
       "    .dataframe tbody tr th:only-of-type {\n",
       "        vertical-align: middle;\n",
       "    }\n",
       "\n",
       "    .dataframe tbody tr th {\n",
       "        vertical-align: top;\n",
       "    }\n",
       "\n",
       "    .dataframe thead th {\n",
       "        text-align: right;\n",
       "    }\n",
       "</style>\n",
       "<table border=\"1\" class=\"dataframe\">\n",
       "  <thead>\n",
       "    <tr style=\"text-align: right;\">\n",
       "      <th></th>\n",
       "      <th>date</th>\n",
       "      <th>avg_temp</th>\n",
       "      <th>prcp</th>\n",
       "    </tr>\n",
       "  </thead>\n",
       "  <tbody>\n",
       "    <tr>\n",
       "      <th>0</th>\n",
       "      <td>2010-01-01</td>\n",
       "      <td>17.9</td>\n",
       "      <td>0.2</td>\n",
       "    </tr>\n",
       "    <tr>\n",
       "      <th>1</th>\n",
       "      <td>2010-01-02</td>\n",
       "      <td>15.6</td>\n",
       "      <td>0.0</td>\n",
       "    </tr>\n",
       "    <tr>\n",
       "      <th>2</th>\n",
       "      <td>2010-01-03</td>\n",
       "      <td>13.5</td>\n",
       "      <td>0.0</td>\n",
       "    </tr>\n",
       "    <tr>\n",
       "      <th>3</th>\n",
       "      <td>2010-01-04</td>\n",
       "      <td>9.5</td>\n",
       "      <td>0.0</td>\n",
       "    </tr>\n",
       "    <tr>\n",
       "      <th>4</th>\n",
       "      <td>2010-01-05</td>\n",
       "      <td>13.4</td>\n",
       "      <td>0.0</td>\n",
       "    </tr>\n",
       "  </tbody>\n",
       "</table>\n",
       "</div>"
      ],
      "text/plain": [
       "        date avg_temp  prcp\n",
       "0 2010-01-01     17.9   0.2\n",
       "1 2010-01-02     15.6   0.0\n",
       "2 2010-01-03     13.5   0.0\n",
       "3 2010-01-04      9.5   0.0\n",
       "4 2010-01-05     13.4   0.0"
      ]
     },
     "execution_count": 3,
     "metadata": {},
     "output_type": "execute_result"
    }
   ],
   "source": [
    "data_athens_hds = \"data/athens_hds.csv\"\n",
    "hds_data = pd.read_csv(data_athens_hds,\n",
    "                       usecols=[0, 1, 10],\n",
    "                       parse_dates=[\"date\"],\n",
    "                       names=[\"date\", \"avg_temp\", \"prcp\"])\n",
    "hds_data.head(5)"
   ]
  },
  {
   "cell_type": "markdown",
   "id": "4a8d7676",
   "metadata": {},
   "source": [
    "## Explore completeness of data\n",
    "* Before using the generated dataframes we have to clean, explore and complete them."
   ]
  },
  {
   "cell_type": "markdown",
   "id": "4dc8e2c0",
   "metadata": {},
   "source": [
    "### Clean\n",
    "* A first issue, is the fact that the data from HDS contain dashes (\"---\"), for missing values, instead of empty cells."
   ]
  },
  {
   "cell_type": "code",
   "execution_count": 4,
   "id": "6cb5b3de",
   "metadata": {},
   "outputs": [
    {
     "data": {
      "text/plain": [
       "date        datetime64[ns]\n",
       "avg_temp            object\n",
       "prcp               float64\n",
       "dtype: object"
      ]
     },
     "execution_count": 4,
     "metadata": {},
     "output_type": "execute_result"
    }
   ],
   "source": [
    "hds_data.dtypes"
   ]
  },
  {
   "cell_type": "markdown",
   "id": "0b8cf40a",
   "metadata": {},
   "source": [
    "* We can see that the <code>avg_temp</code> column was identified as of object type, instead of float64 (like <code>prcp</code>).\n",
    "* So, we will replace the dashes with <code>nan</code> values and turn the avg_temp column to float."
   ]
  },
  {
   "cell_type": "code",
   "execution_count": 5,
   "id": "8e76ed19",
   "metadata": {},
   "outputs": [
    {
     "data": {
      "text/plain": [
       "date        datetime64[ns]\n",
       "avg_temp           float64\n",
       "prcp               float64\n",
       "dtype: object"
      ]
     },
     "execution_count": 5,
     "metadata": {},
     "output_type": "execute_result"
    }
   ],
   "source": [
    "hds_data[\"avg_temp\"] = hds_data[\"avg_temp\"] \\\n",
    "                       .map(lambda x : float(\"nan\") if x == \"---\" else float(x))\n",
    "hds_data.dtypes"
   ]
  },
  {
   "cell_type": "markdown",
   "id": "44f9560f",
   "metadata": {},
   "source": [
    "* Now the types of the columns look good."
   ]
  },
  {
   "cell_type": "code",
   "execution_count": 6,
   "id": "4072598d",
   "metadata": {},
   "outputs": [
    {
     "data": {
      "text/plain": [
       "date        datetime64[ns]\n",
       "prcp               float64\n",
       "avg_temp           float64\n",
       "max_temp           float64\n",
       "min_temp           float64\n",
       "dtype: object"
      ]
     },
     "execution_count": 6,
     "metadata": {},
     "output_type": "execute_result"
    }
   ],
   "source": [
    "noaa_data.dtypes"
   ]
  },
  {
   "cell_type": "markdown",
   "id": "82528369",
   "metadata": {},
   "source": [
    "* The types of the NOAA dataframe are also good."
   ]
  },
  {
   "cell_type": "markdown",
   "id": "63e1a997",
   "metadata": {},
   "source": [
    "* Another potential problem could be the existence of duplicate dates.\n",
    "* Let's check it!"
   ]
  },
  {
   "cell_type": "code",
   "execution_count": 7,
   "id": "2074a0e6",
   "metadata": {
    "scrolled": true
   },
   "outputs": [
    {
     "data": {
      "text/plain": [
       "(0, 0)"
      ]
     },
     "execution_count": 7,
     "metadata": {},
     "output_type": "execute_result"
    }
   ],
   "source": [
    "noaa_dates = noaa_data[\"date\"]\n",
    "hds_dates = hds_data[\"date\"]\n",
    "noaa_dates.duplicated().sum(), hds_dates.duplicated().sum()"
   ]
  },
  {
   "cell_type": "markdown",
   "id": "bf0a8286",
   "metadata": {},
   "source": [
    "* That's great! We don't have duplicate dates.\n",
    "* Now our data look clean, but are they complete?"
   ]
  },
  {
   "cell_type": "markdown",
   "id": "511b6b09",
   "metadata": {},
   "source": [
    "### Explore\n",
    "* Next we will check if there are **missing dates** or **missing values** from the existing dates.\n",
    "* The <code>noaa_data</code> dataframe will be used as basis, while <code>hds_data</code> will be used as complement."
   ]
  },
  {
   "cell_type": "markdown",
   "id": "f7f18e58",
   "metadata": {},
   "source": [
    "#### Missing dates"
   ]
  },
  {
   "cell_type": "code",
   "execution_count": 8,
   "id": "68e14a69",
   "metadata": {},
   "outputs": [
    {
     "data": {
      "text/plain": [
       "856"
      ]
     },
     "execution_count": 8,
     "metadata": {},
     "output_type": "execute_result"
    }
   ],
   "source": [
    "all_dates = pd.date_range(start='1955-01-01', end='2020/12/31') # a DateTimeIndex of all the days between 1/1/1955 and 31/12/20\n",
    "len(all_dates)-len(noaa_dates)"
   ]
  },
  {
   "cell_type": "markdown",
   "id": "33e45ddc",
   "metadata": {},
   "source": [
    "* It seems like 856 days from the noaa_data_set are missing.\n",
    "* Let's explore more."
   ]
  },
  {
   "cell_type": "code",
   "execution_count": 9,
   "id": "7e024527",
   "metadata": {},
   "outputs": [
    {
     "data": {
      "text/plain": [
       "date\n",
       "2006      2\n",
       "2007      1\n",
       "2012    206\n",
       "2013    355\n",
       "2014    267\n",
       "2016      1\n",
       "2017     23\n",
       "2018      1\n",
       "dtype: int64"
      ]
     },
     "execution_count": 9,
     "metadata": {},
     "output_type": "execute_result"
    }
   ],
   "source": [
    "noaa_missing_dates = all_dates[~all_dates.isin(noaa_dates)]\n",
    "noaa_missing_dates_df = pd.DataFrame(noaa_missing_dates, columns=[\"date\"])\n",
    "noaa_missing_dates_df.groupby(noaa_missing_dates_df[\"date\"].dt.year).size()"
   ]
  },
  {
   "cell_type": "markdown",
   "id": "7346adb5",
   "metadata": {},
   "source": [
    "* Looks like almost all the missing dates are from the period 2012-2018.\n",
    "* <code>hds_data</code> dataframe comes in handy, as we can use it to fill the missing days.\n",
    "* But, are there any missing dates from <code>hds_data</code>? "
   ]
  },
  {
   "cell_type": "code",
   "execution_count": 10,
   "id": "64441c81",
   "metadata": {},
   "outputs": [
    {
     "data": {
      "text/plain": [
       "0"
      ]
     },
     "execution_count": 10,
     "metadata": {},
     "output_type": "execute_result"
    }
   ],
   "source": [
    "dates_2010_2019 = pd.date_range(start='2010-01-01', end='2019/12/31') # a DateTimeIndex of all the days between 1/1/2010 and 31/12/2019\n",
    "len(dates_2010_2019)-len(hds_dates)"
   ]
  },
  {
   "cell_type": "markdown",
   "id": "7da549a1",
   "metadata": {},
   "source": [
    "* There isn't a day missing from <code>hds_data</code>, so we can complete our data using it."
   ]
  },
  {
   "cell_type": "markdown",
   "id": "d1c2202f",
   "metadata": {},
   "source": [
    "#### Missing values\n",
    "* It is necessary to also get an idea of the values that are missing from the dates that already exist in <code>noaa_data</code>."
   ]
  },
  {
   "cell_type": "code",
   "execution_count": 11,
   "id": "7519cd48",
   "metadata": {},
   "outputs": [
    {
     "data": {
      "text/plain": [
       "(478, 2311)"
      ]
     },
     "execution_count": 11,
     "metadata": {},
     "output_type": "execute_result"
    }
   ],
   "source": [
    "noaa_data[\"prcp\"].isnull().sum(), noaa_data[\"avg_temp\"].isnull().sum()"
   ]
  },
  {
   "cell_type": "markdown",
   "id": "a03bcdaa",
   "metadata": {},
   "source": [
    "* It looks like there are missing values.\n",
    "* Let's have an indication of how many of them can be completed using <code>hds_data</code>.\n",
    "* For that purpose we will calculate the missing values from the period 2010-2019 (of course from the existing dates in <code>noaa_data</code>)."
   ]
  },
  {
   "cell_type": "code",
   "execution_count": 12,
   "id": "db46af32",
   "metadata": {},
   "outputs": [
    {
     "data": {
      "text/plain": [
       "(102, 0)"
      ]
     },
     "execution_count": 12,
     "metadata": {},
     "output_type": "execute_result"
    }
   ],
   "source": [
    "(noaa_data[\"date\"].dt.year.isin(range(2010, 2020)) & noaa_data[\"prcp\"].isnull()).sum(), \\\n",
    "(noaa_data[\"date\"].dt.year.isin(range(2010, 2020)) & noaa_data[\"avg_temp\"].isnull()).sum()"
   ]
  },
  {
   "cell_type": "markdown",
   "id": "d56b6a36",
   "metadata": {},
   "source": [
    "* Most of the missing values cannot be filled from <code>hds_data</code>.\n",
    "* Especially, there are a lot of empty cells of *average temperature* (<code>avg_temp</code>).\n",
    "* An interesting idea is to use the average of the max and min temperature, as the average temperature of the day.\n",
    "* In order to apply that, we have to answer 2 questions:\n",
    "    1. How many fields of average temperature can be filled in this way?\n",
    "    2. And more importantly, how good estimation of the average temperature, the average(<code>min_temp</code>, <code>max_temp</code>) is?"
   ]
  },
  {
   "cell_type": "markdown",
   "id": "ba601cd3",
   "metadata": {},
   "source": [
    "* The first question can be easily answered."
   ]
  },
  {
   "cell_type": "code",
   "execution_count": 13,
   "id": "ed288955",
   "metadata": {},
   "outputs": [
    {
     "data": {
      "text/plain": [
       "2310"
      ]
     },
     "execution_count": 13,
     "metadata": {},
     "output_type": "execute_result"
    }
   ],
   "source": [
    "calculatable_avg_temp = ( \\\n",
    " ~ (noaa_data[\"max_temp\"].isnull()) & \\\n",
    " ~ (noaa_data[\"min_temp\"].isnull()) & \\\n",
    " (noaa_data[\"avg_temp\"].isnull()) \\\n",
    "                        )\n",
    "\n",
    "calculatable_avg_temp.sum() # the number of days with missing avg_temp but with available  max and min temp"
   ]
  },
  {
   "cell_type": "markdown",
   "id": "17ae7c9a",
   "metadata": {},
   "source": [
    "* The average temperature for almost every date can be filled if we choose to proceed with the application of this idea!\n",
    "* But, we have to answer the second prementioned question.\n",
    "* To do this, we will execute a very simple statistical analysis. "
   ]
  },
  {
   "cell_type": "code",
   "execution_count": 14,
   "id": "5a87db6f",
   "metadata": {},
   "outputs": [
    {
     "name": "stdout",
     "output_type": "stream",
     "text": [
      "obserbations: 19372\n",
      "correlation: 0.9945909224510429 \n",
      "mean of difference: -0.12309518893247984 \n",
      "standard deviation of difference: 0.7169931309904884\n"
     ]
    }
   ],
   "source": [
    "# rows of the noaa dataset with no temperature field missing (avg_temp, max_temp, min_temp all not null)\n",
    "noaa_data_full_temp = noaa_data[~ noaa_data.avg_temp.isnull() & \\\n",
    "                                ~ noaa_data.max_temp.isnull() & \\\n",
    "                                ~ noaa_data.min_temp.isnull()].copy()\n",
    "print(\"obserbations:\", len(noaa_data_full_temp))\n",
    "noaa_data_full_temp[\"avg_min_max_temp\"] = round((noaa_data_full_temp[\"min_temp\"] + noaa_data_full_temp[\"max_temp\"])/2, 1)\n",
    "\n",
    "diff_of_avgs = noaa_data_full_temp[\"avg_temp\"] - noaa_data_full_temp[\"avg_min_max_temp\"]\n",
    "corr = stats.pearsonr(noaa_data_full_temp[\"avg_min_max_temp\"], noaa_data_full_temp[\"avg_temp\"])[0]\n",
    "diff_mean = diff_of_avgs.mean()\n",
    "diff_std = diff_of_avgs.std()\n",
    "print(\"correlation: {} \\nmean of difference: {} \\nstandard deviation of difference: {}\".format(corr, diff_mean, diff_std))"
   ]
  },
  {
   "cell_type": "markdown",
   "id": "f960d506",
   "metadata": {},
   "source": [
    "* In the previous snipet of code, firstly, we created a view of the days that all min, max and average temperatures are available.\n",
    "* Then, we calculated the difference: <code>avg_temp</code> - average(<code>max_temp</code>, <code>min_temp</code>).\n",
    "* After, we found the Pearson correlation coefficient of the average(<code>max_temp</code>, <code>min_temp</code>), with the <code>avg_temp</code> and the mean and standard deviaton of this difference.\n",
    "* What conclusion can we make?\n",
    "    * The correlation coeffecient found is very high, over than 0.99\n",
    "    * The mean found is only -0.12, with a standard deviation of less that a Celsius degree.\n",
    "    * Also, the number of observations that we used is relatively large (19372).\n",
    "    * As a result, we conclude that the average of the max and min temperature provide a very good estimation of the average temperature of a day, in the context of the particular analysis."
   ]
  },
  {
   "cell_type": "markdown",
   "id": "7614730d",
   "metadata": {},
   "source": [
    "### Complete\n",
    "* After our exploration of the data, we identified that in order to complete our data we have to:\n",
    "    1. Fill the missing dates of <code>noaa_data</code>, from <code>hds_data</code>.\n",
    "    2. Fill the missing precipitations from the existing dates of <code>noaa_data</code>, from <code>hds_data</code>.\n",
    "    3. Fill the missing average temperatures of <code>noaa_data</code> using the average of max and min temperature."
   ]
  },
  {
   "cell_type": "markdown",
   "id": "eedb5978",
   "metadata": {},
   "source": [
    "* Initially, let's join <code>noaa_data</code> and <code>hds_data</code>.  \n",
    "\n",
    "**It is crucial to mention a hypothesis that we do for this analysis: we assume that the data of the two sources refer to the same location.** Even though, we know that they are gotten from different weather stations, they are close enough, that it is rational to assume that the differences are insignificant."
   ]
  },
  {
   "cell_type": "code",
   "execution_count": 15,
   "id": "f52857c1",
   "metadata": {},
   "outputs": [
    {
     "data": {
      "text/html": [
       "<div>\n",
       "<style scoped>\n",
       "    .dataframe tbody tr th:only-of-type {\n",
       "        vertical-align: middle;\n",
       "    }\n",
       "\n",
       "    .dataframe tbody tr th {\n",
       "        vertical-align: top;\n",
       "    }\n",
       "\n",
       "    .dataframe thead th {\n",
       "        text-align: right;\n",
       "    }\n",
       "</style>\n",
       "<table border=\"1\" class=\"dataframe\">\n",
       "  <thead>\n",
       "    <tr style=\"text-align: right;\">\n",
       "      <th></th>\n",
       "      <th>date</th>\n",
       "      <th>prcp_noaa</th>\n",
       "      <th>avg_temp_noaa</th>\n",
       "      <th>max_temp</th>\n",
       "      <th>min_temp</th>\n",
       "      <th>avg_temp_hds</th>\n",
       "      <th>prcp_hds</th>\n",
       "    </tr>\n",
       "  </thead>\n",
       "  <tbody>\n",
       "    <tr>\n",
       "      <th>20086</th>\n",
       "      <td>2010-01-01</td>\n",
       "      <td>NaN</td>\n",
       "      <td>18.0</td>\n",
       "      <td>21.8</td>\n",
       "      <td>NaN</td>\n",
       "      <td>17.9</td>\n",
       "      <td>0.2</td>\n",
       "    </tr>\n",
       "    <tr>\n",
       "      <th>20087</th>\n",
       "      <td>2010-01-02</td>\n",
       "      <td>0.0</td>\n",
       "      <td>16.0</td>\n",
       "      <td>17.8</td>\n",
       "      <td>13.8</td>\n",
       "      <td>15.6</td>\n",
       "      <td>0.0</td>\n",
       "    </tr>\n",
       "    <tr>\n",
       "      <th>20088</th>\n",
       "      <td>2010-01-03</td>\n",
       "      <td>0.0</td>\n",
       "      <td>13.5</td>\n",
       "      <td>15.6</td>\n",
       "      <td>10.8</td>\n",
       "      <td>13.5</td>\n",
       "      <td>0.0</td>\n",
       "    </tr>\n",
       "    <tr>\n",
       "      <th>20089</th>\n",
       "      <td>2010-01-04</td>\n",
       "      <td>0.0</td>\n",
       "      <td>8.9</td>\n",
       "      <td>11.0</td>\n",
       "      <td>5.8</td>\n",
       "      <td>9.5</td>\n",
       "      <td>0.0</td>\n",
       "    </tr>\n",
       "    <tr>\n",
       "      <th>20090</th>\n",
       "      <td>2010-01-05</td>\n",
       "      <td>0.0</td>\n",
       "      <td>13.1</td>\n",
       "      <td>16.0</td>\n",
       "      <td>8.6</td>\n",
       "      <td>13.4</td>\n",
       "      <td>0.0</td>\n",
       "    </tr>\n",
       "  </tbody>\n",
       "</table>\n",
       "</div>"
      ],
      "text/plain": [
       "            date  prcp_noaa  avg_temp_noaa  max_temp  min_temp  avg_temp_hds  \\\n",
       "20086 2010-01-01        NaN           18.0      21.8       NaN          17.9   \n",
       "20087 2010-01-02        0.0           16.0      17.8      13.8          15.6   \n",
       "20088 2010-01-03        0.0           13.5      15.6      10.8          13.5   \n",
       "20089 2010-01-04        0.0            8.9      11.0       5.8           9.5   \n",
       "20090 2010-01-05        0.0           13.1      16.0       8.6          13.4   \n",
       "\n",
       "       prcp_hds  \n",
       "20086       0.2  \n",
       "20087       0.0  \n",
       "20088       0.0  \n",
       "20089       0.0  \n",
       "20090       0.0  "
      ]
     },
     "execution_count": 15,
     "metadata": {},
     "output_type": "execute_result"
    }
   ],
   "source": [
    "full_data = pd.merge(noaa_data, hds_data, how =\"outer\", on =\"date\", suffixes=('_noaa', '_hds')) # outer is used in order to \n",
    "                                                                                                  # also get the missing dates\n",
    "full_data = full_data.sort_values(by=[\"date\"]) # after adding the new data our data are not in chronological order\n",
    "full_data = full_data.reset_index(drop=True) # reset the index after reordering the rows\n",
    "full_data[full_data[\"date\"].dt.year.isin(range(2010, 2020))].head(5)"
   ]
  },
  {
   "cell_type": "markdown",
   "id": "6e556cd7",
   "metadata": {},
   "source": [
    "* Next, we will create a new column for precipitation, that we will contain:\n",
    "    * <code>prcp_noaa</code> if it is not <code>NaN</code>.\n",
    "    * <code>prcp_hds</code> if it is not <code>NaN</code> and <code>prcp_noaa</code> is <code>NaN</code>.\n",
    "    * <code>NaN</code> in different case."
   ]
  },
  {
   "cell_type": "code",
   "execution_count": 16,
   "id": "11ff494e",
   "metadata": {},
   "outputs": [
    {
     "data": {
      "text/html": [
       "<div>\n",
       "<style scoped>\n",
       "    .dataframe tbody tr th:only-of-type {\n",
       "        vertical-align: middle;\n",
       "    }\n",
       "\n",
       "    .dataframe tbody tr th {\n",
       "        vertical-align: top;\n",
       "    }\n",
       "\n",
       "    .dataframe thead th {\n",
       "        text-align: right;\n",
       "    }\n",
       "</style>\n",
       "<table border=\"1\" class=\"dataframe\">\n",
       "  <thead>\n",
       "    <tr style=\"text-align: right;\">\n",
       "      <th></th>\n",
       "      <th>date</th>\n",
       "      <th>prcp_noaa</th>\n",
       "      <th>avg_temp_noaa</th>\n",
       "      <th>max_temp</th>\n",
       "      <th>min_temp</th>\n",
       "      <th>avg_temp_hds</th>\n",
       "      <th>prcp_hds</th>\n",
       "      <th>prcp</th>\n",
       "    </tr>\n",
       "  </thead>\n",
       "  <tbody>\n",
       "    <tr>\n",
       "      <th>20086</th>\n",
       "      <td>2010-01-01</td>\n",
       "      <td>NaN</td>\n",
       "      <td>18.0</td>\n",
       "      <td>21.8</td>\n",
       "      <td>NaN</td>\n",
       "      <td>17.9</td>\n",
       "      <td>0.2</td>\n",
       "      <td>0.2</td>\n",
       "    </tr>\n",
       "    <tr>\n",
       "      <th>20087</th>\n",
       "      <td>2010-01-02</td>\n",
       "      <td>0.0</td>\n",
       "      <td>16.0</td>\n",
       "      <td>17.8</td>\n",
       "      <td>13.8</td>\n",
       "      <td>15.6</td>\n",
       "      <td>0.0</td>\n",
       "      <td>0.0</td>\n",
       "    </tr>\n",
       "    <tr>\n",
       "      <th>20088</th>\n",
       "      <td>2010-01-03</td>\n",
       "      <td>0.0</td>\n",
       "      <td>13.5</td>\n",
       "      <td>15.6</td>\n",
       "      <td>10.8</td>\n",
       "      <td>13.5</td>\n",
       "      <td>0.0</td>\n",
       "      <td>0.0</td>\n",
       "    </tr>\n",
       "    <tr>\n",
       "      <th>20089</th>\n",
       "      <td>2010-01-04</td>\n",
       "      <td>0.0</td>\n",
       "      <td>8.9</td>\n",
       "      <td>11.0</td>\n",
       "      <td>5.8</td>\n",
       "      <td>9.5</td>\n",
       "      <td>0.0</td>\n",
       "      <td>0.0</td>\n",
       "    </tr>\n",
       "    <tr>\n",
       "      <th>20090</th>\n",
       "      <td>2010-01-05</td>\n",
       "      <td>0.0</td>\n",
       "      <td>13.1</td>\n",
       "      <td>16.0</td>\n",
       "      <td>8.6</td>\n",
       "      <td>13.4</td>\n",
       "      <td>0.0</td>\n",
       "      <td>0.0</td>\n",
       "    </tr>\n",
       "  </tbody>\n",
       "</table>\n",
       "</div>"
      ],
      "text/plain": [
       "            date  prcp_noaa  avg_temp_noaa  max_temp  min_temp  avg_temp_hds  \\\n",
       "20086 2010-01-01        NaN           18.0      21.8       NaN          17.9   \n",
       "20087 2010-01-02        0.0           16.0      17.8      13.8          15.6   \n",
       "20088 2010-01-03        0.0           13.5      15.6      10.8          13.5   \n",
       "20089 2010-01-04        0.0            8.9      11.0       5.8           9.5   \n",
       "20090 2010-01-05        0.0           13.1      16.0       8.6          13.4   \n",
       "\n",
       "       prcp_hds  prcp  \n",
       "20086       0.2   0.2  \n",
       "20087       0.0   0.0  \n",
       "20088       0.0   0.0  \n",
       "20089       0.0   0.0  \n",
       "20090       0.0   0.0  "
      ]
     },
     "execution_count": 16,
     "metadata": {},
     "output_type": "execute_result"
    }
   ],
   "source": [
    "full_data[\"prcp\"] = full_data[\"prcp_noaa\"].fillna(full_data[\"prcp_hds\"])\n",
    "full_data[full_data[\"date\"].dt.year.isin(range(2010, 2020))].head(5)"
   ]
  },
  {
   "cell_type": "markdown",
   "id": "384f8073",
   "metadata": {},
   "source": [
    "* We will follow the corresponding procedure for the average temperature.\n",
    "* In the new column we will collect the average temperatures from <code>noaa_data</code>, but also the average temperatures from <code>hds_data</code> for the dates that were missing from <code>noaa_data</code>."
   ]
  },
  {
   "cell_type": "code",
   "execution_count": 17,
   "id": "2ea2aedc",
   "metadata": {},
   "outputs": [
    {
     "data": {
      "text/html": [
       "<div>\n",
       "<style scoped>\n",
       "    .dataframe tbody tr th:only-of-type {\n",
       "        vertical-align: middle;\n",
       "    }\n",
       "\n",
       "    .dataframe tbody tr th {\n",
       "        vertical-align: top;\n",
       "    }\n",
       "\n",
       "    .dataframe thead th {\n",
       "        text-align: right;\n",
       "    }\n",
       "</style>\n",
       "<table border=\"1\" class=\"dataframe\">\n",
       "  <thead>\n",
       "    <tr style=\"text-align: right;\">\n",
       "      <th></th>\n",
       "      <th>date</th>\n",
       "      <th>prcp_noaa</th>\n",
       "      <th>avg_temp_noaa</th>\n",
       "      <th>max_temp</th>\n",
       "      <th>min_temp</th>\n",
       "      <th>avg_temp_hds</th>\n",
       "      <th>prcp_hds</th>\n",
       "      <th>prcp</th>\n",
       "      <th>avg_temp</th>\n",
       "    </tr>\n",
       "  </thead>\n",
       "  <tbody>\n",
       "    <tr>\n",
       "      <th>20086</th>\n",
       "      <td>2010-01-01</td>\n",
       "      <td>NaN</td>\n",
       "      <td>18.0</td>\n",
       "      <td>21.8</td>\n",
       "      <td>NaN</td>\n",
       "      <td>17.9</td>\n",
       "      <td>0.2</td>\n",
       "      <td>0.2</td>\n",
       "      <td>18.0</td>\n",
       "    </tr>\n",
       "    <tr>\n",
       "      <th>20087</th>\n",
       "      <td>2010-01-02</td>\n",
       "      <td>0.0</td>\n",
       "      <td>16.0</td>\n",
       "      <td>17.8</td>\n",
       "      <td>13.8</td>\n",
       "      <td>15.6</td>\n",
       "      <td>0.0</td>\n",
       "      <td>0.0</td>\n",
       "      <td>16.0</td>\n",
       "    </tr>\n",
       "    <tr>\n",
       "      <th>20088</th>\n",
       "      <td>2010-01-03</td>\n",
       "      <td>0.0</td>\n",
       "      <td>13.5</td>\n",
       "      <td>15.6</td>\n",
       "      <td>10.8</td>\n",
       "      <td>13.5</td>\n",
       "      <td>0.0</td>\n",
       "      <td>0.0</td>\n",
       "      <td>13.5</td>\n",
       "    </tr>\n",
       "    <tr>\n",
       "      <th>20089</th>\n",
       "      <td>2010-01-04</td>\n",
       "      <td>0.0</td>\n",
       "      <td>8.9</td>\n",
       "      <td>11.0</td>\n",
       "      <td>5.8</td>\n",
       "      <td>9.5</td>\n",
       "      <td>0.0</td>\n",
       "      <td>0.0</td>\n",
       "      <td>8.9</td>\n",
       "    </tr>\n",
       "    <tr>\n",
       "      <th>20090</th>\n",
       "      <td>2010-01-05</td>\n",
       "      <td>0.0</td>\n",
       "      <td>13.1</td>\n",
       "      <td>16.0</td>\n",
       "      <td>8.6</td>\n",
       "      <td>13.4</td>\n",
       "      <td>0.0</td>\n",
       "      <td>0.0</td>\n",
       "      <td>13.1</td>\n",
       "    </tr>\n",
       "  </tbody>\n",
       "</table>\n",
       "</div>"
      ],
      "text/plain": [
       "            date  prcp_noaa  avg_temp_noaa  max_temp  min_temp  avg_temp_hds  \\\n",
       "20086 2010-01-01        NaN           18.0      21.8       NaN          17.9   \n",
       "20087 2010-01-02        0.0           16.0      17.8      13.8          15.6   \n",
       "20088 2010-01-03        0.0           13.5      15.6      10.8          13.5   \n",
       "20089 2010-01-04        0.0            8.9      11.0       5.8           9.5   \n",
       "20090 2010-01-05        0.0           13.1      16.0       8.6          13.4   \n",
       "\n",
       "       prcp_hds  prcp  avg_temp  \n",
       "20086       0.2   0.2      18.0  \n",
       "20087       0.0   0.0      16.0  \n",
       "20088       0.0   0.0      13.5  \n",
       "20089       0.0   0.0       8.9  \n",
       "20090       0.0   0.0      13.1  "
      ]
     },
     "execution_count": 17,
     "metadata": {},
     "output_type": "execute_result"
    }
   ],
   "source": [
    "full_data[\"avg_temp\"] = full_data[\"avg_temp_noaa\"].fillna(full_data[\"avg_temp_hds\"])\n",
    "full_data[full_data[\"date\"].dt.year.isin(range(2010, 2020))].head(5)"
   ]
  },
  {
   "cell_type": "markdown",
   "id": "ebba7694",
   "metadata": {},
   "source": [
    "* Then we will add in the newly created <code>avg_temp</code> column the average(<code>max_temp</code>, <code>min_temp</code>) for the missing <code>avg_temp</code> values.\n",
    "* *Note: in  case we don't want to use the average of min and max temperature as the average temperature of the day, the below cell should be commented out.*"
   ]
  },
  {
   "cell_type": "code",
   "execution_count": 18,
   "id": "27b13991",
   "metadata": {},
   "outputs": [],
   "source": [
    "# we have to recalculate calculateble_avg_temp after the merge\n",
    "calculatable_avg_temp = ( \\\n",
    " ~ (full_data[\"max_temp\"].isnull()) & \\\n",
    " ~ (full_data[\"min_temp\"].isnull()) & \\\n",
    " (full_data[\"avg_temp_noaa\"].isnull()) \\\n",
    "                        )\n",
    "                         \n",
    "full_data[\"avg_temp\"] = full_data[\"avg_temp\"].where(~ calculatable_avg_temp, (full_data[\"max_temp\"] + full_data[\"min_temp\"]) /2)"
   ]
  },
  {
   "cell_type": "markdown",
   "id": "ef65033b",
   "metadata": {},
   "source": [
    "* We will create a copy of <code>full_data</code> dataframe that will contain only the columns that are useful for our analysis.\n",
    "* This will be the dataframe that we will work on."
   ]
  },
  {
   "cell_type": "code",
   "execution_count": 19,
   "id": "8dc9144a",
   "metadata": {},
   "outputs": [
    {
     "data": {
      "text/html": [
       "<div>\n",
       "<style scoped>\n",
       "    .dataframe tbody tr th:only-of-type {\n",
       "        vertical-align: middle;\n",
       "    }\n",
       "\n",
       "    .dataframe tbody tr th {\n",
       "        vertical-align: top;\n",
       "    }\n",
       "\n",
       "    .dataframe thead th {\n",
       "        text-align: right;\n",
       "    }\n",
       "</style>\n",
       "<table border=\"1\" class=\"dataframe\">\n",
       "  <thead>\n",
       "    <tr style=\"text-align: right;\">\n",
       "      <th></th>\n",
       "      <th>date</th>\n",
       "      <th>prcp</th>\n",
       "      <th>avg_temp</th>\n",
       "    </tr>\n",
       "  </thead>\n",
       "  <tbody>\n",
       "    <tr>\n",
       "      <th>0</th>\n",
       "      <td>1955-01-01</td>\n",
       "      <td>0.0</td>\n",
       "      <td>14.35</td>\n",
       "    </tr>\n",
       "    <tr>\n",
       "      <th>1</th>\n",
       "      <td>1955-01-02</td>\n",
       "      <td>2.0</td>\n",
       "      <td>10.70</td>\n",
       "    </tr>\n",
       "    <tr>\n",
       "      <th>2</th>\n",
       "      <td>1955-01-03</td>\n",
       "      <td>0.0</td>\n",
       "      <td>12.70</td>\n",
       "    </tr>\n",
       "    <tr>\n",
       "      <th>3</th>\n",
       "      <td>1955-01-04</td>\n",
       "      <td>0.0</td>\n",
       "      <td>13.05</td>\n",
       "    </tr>\n",
       "    <tr>\n",
       "      <th>4</th>\n",
       "      <td>1955-01-05</td>\n",
       "      <td>0.0</td>\n",
       "      <td>13.15</td>\n",
       "    </tr>\n",
       "  </tbody>\n",
       "</table>\n",
       "</div>"
      ],
      "text/plain": [
       "        date  prcp  avg_temp\n",
       "0 1955-01-01   0.0     14.35\n",
       "1 1955-01-02   2.0     10.70\n",
       "2 1955-01-03   0.0     12.70\n",
       "3 1955-01-04   0.0     13.05\n",
       "4 1955-01-05   0.0     13.15"
      ]
     },
     "execution_count": 19,
     "metadata": {},
     "output_type": "execute_result"
    }
   ],
   "source": [
    "df = full_data[[\"date\", \"prcp\", \"avg_temp\"]].copy()\n",
    "df.head(5)"
   ]
  },
  {
   "cell_type": "markdown",
   "id": "dc8afa44",
   "metadata": {},
   "source": [
    "### Overview of data\n",
    "* Let's calculate again some characteristics of our data after completing them."
   ]
  },
  {
   "cell_type": "code",
   "execution_count": 20,
   "id": "e9a0c299",
   "metadata": {},
   "outputs": [
    {
     "name": "stdout",
     "output_type": "stream",
     "text": [
      "missing dates: 3\n",
      "missing average temperatures: 2\n",
      "missing precipitations: 376\n"
     ]
    }
   ],
   "source": [
    "print(\"missing dates:\", len(all_dates) - len(df))\n",
    "print(\"missing average temperatures:\", df[\"avg_temp\"].isnull().sum())\n",
    "print(\"missing precipitations:\", df[\"prcp\"].isnull().sum())"
   ]
  },
  {
   "cell_type": "markdown",
   "id": "2992c150",
   "metadata": {},
   "source": [
    "#### Looks like our data are much more complete now and we can move on with our analysis!"
   ]
  },
  {
   "cell_type": "markdown",
   "id": "fb95e24e",
   "metadata": {},
   "source": [
    "## Deviation of Summer Temperatures\n",
    "* Beginning our analysis we will calculate the mean summer temperature deviation from a baseline of 1974-1999 and we will create the corresponding graph.\n",
    "* An identical graph can be found in page 7 of the [report on extreme events](http://www.hnms.gr/emy/en/pdf/2020_GRsignificantEVENT_en.pdf) of the Hellenic National Meteorological Service."
   ]
  },
  {
   "cell_type": "markdown",
   "id": "c449254e",
   "metadata": {},
   "source": [
    "* A column with the year of each row will be useful afterwards."
   ]
  },
  {
   "cell_type": "code",
   "execution_count": 21,
   "id": "558a1d87",
   "metadata": {},
   "outputs": [],
   "source": [
    "df[\"year\"] = df[\"date\"].dt.year"
   ]
  },
  {
   "cell_type": "markdown",
   "id": "08a3849e",
   "metadata": {},
   "source": [
    "* Then, we will generate a view of the dataframe that contains only the summer days (by summer day we mean every day of June, July and August)."
   ]
  },
  {
   "cell_type": "code",
   "execution_count": 22,
   "id": "31142eac",
   "metadata": {},
   "outputs": [
    {
     "data": {
      "text/html": [
       "<div>\n",
       "<style scoped>\n",
       "    .dataframe tbody tr th:only-of-type {\n",
       "        vertical-align: middle;\n",
       "    }\n",
       "\n",
       "    .dataframe tbody tr th {\n",
       "        vertical-align: top;\n",
       "    }\n",
       "\n",
       "    .dataframe thead th {\n",
       "        text-align: right;\n",
       "    }\n",
       "</style>\n",
       "<table border=\"1\" class=\"dataframe\">\n",
       "  <thead>\n",
       "    <tr style=\"text-align: right;\">\n",
       "      <th></th>\n",
       "      <th>date</th>\n",
       "      <th>prcp</th>\n",
       "      <th>avg_temp</th>\n",
       "      <th>year</th>\n",
       "    </tr>\n",
       "  </thead>\n",
       "  <tbody>\n",
       "    <tr>\n",
       "      <th>151</th>\n",
       "      <td>1955-06-01</td>\n",
       "      <td>0.0</td>\n",
       "      <td>21.8</td>\n",
       "      <td>1955</td>\n",
       "    </tr>\n",
       "    <tr>\n",
       "      <th>152</th>\n",
       "      <td>1955-06-02</td>\n",
       "      <td>0.0</td>\n",
       "      <td>21.7</td>\n",
       "      <td>1955</td>\n",
       "    </tr>\n",
       "    <tr>\n",
       "      <th>153</th>\n",
       "      <td>1955-06-03</td>\n",
       "      <td>0.0</td>\n",
       "      <td>21.5</td>\n",
       "      <td>1955</td>\n",
       "    </tr>\n",
       "    <tr>\n",
       "      <th>154</th>\n",
       "      <td>1955-06-04</td>\n",
       "      <td>0.0</td>\n",
       "      <td>22.7</td>\n",
       "      <td>1955</td>\n",
       "    </tr>\n",
       "    <tr>\n",
       "      <th>155</th>\n",
       "      <td>1955-06-05</td>\n",
       "      <td>0.0</td>\n",
       "      <td>22.5</td>\n",
       "      <td>1955</td>\n",
       "    </tr>\n",
       "  </tbody>\n",
       "</table>\n",
       "</div>"
      ],
      "text/plain": [
       "          date  prcp  avg_temp  year\n",
       "151 1955-06-01   0.0      21.8  1955\n",
       "152 1955-06-02   0.0      21.7  1955\n",
       "153 1955-06-03   0.0      21.5  1955\n",
       "154 1955-06-04   0.0      22.7  1955\n",
       "155 1955-06-05   0.0      22.5  1955"
      ]
     },
     "execution_count": 22,
     "metadata": {},
     "output_type": "execute_result"
    }
   ],
   "source": [
    "summerdays = df[df[\"date\"].dt.month.isin(range(6, 9))]\n",
    "summerdays.head(5)"
   ]
  },
  {
   "cell_type": "markdown",
   "id": "46dd2f2c",
   "metadata": {},
   "source": [
    "* Now the mean temperature of the summer days within the base period 1974-1999, can be easily calculated.\n",
    "* This is the baseline temperature that we will use to calculate the deviation."
   ]
  },
  {
   "cell_type": "code",
   "execution_count": 23,
   "id": "e48adc8c",
   "metadata": {},
   "outputs": [
    {
     "data": {
      "text/plain": [
       "26.230727424749166"
      ]
     },
     "execution_count": 23,
     "metadata": {},
     "output_type": "execute_result"
    }
   ],
   "source": [
    "base_summer_temp = summerdays.loc[summerdays[\"year\"].isin(range(1974, 2000)), \"avg_temp\"].mean() # summerdays from 1974-1999\n",
    "base_summer_temp"
   ]
  },
  {
   "cell_type": "markdown",
   "id": "f565f56e",
   "metadata": {},
   "source": [
    "* In order to calculate the average temperature separately for each summer, we will group the summer days of every year."
   ]
  },
  {
   "cell_type": "code",
   "execution_count": 24,
   "id": "ce8c454e",
   "metadata": {},
   "outputs": [
    {
     "name": "stdout",
     "output_type": "stream",
     "text": [
      "1955\n",
      "          date  prcp  avg_temp  year\n",
      "151 1955-06-01   0.0      21.8  1955\n",
      "152 1955-06-02   0.0      21.7  1955\n",
      "153 1955-06-03   0.0      21.5  1955\n",
      "1956\n",
      "          date  prcp  avg_temp  year\n",
      "517 1956-06-01   0.0     20.85  1956\n",
      "518 1956-06-02   0.0     23.00  1956\n",
      "519 1956-06-03   0.0     21.70  1956\n",
      "1957\n",
      "          date  prcp  avg_temp  year\n",
      "882 1957-06-01   0.0      21.2  1957\n",
      "883 1957-06-02   0.0      24.6  1957\n",
      "884 1957-06-03   0.0      24.8  1957\n"
     ]
    }
   ],
   "source": [
    "summers_grouped = summerdays.groupby(\"year\")\n",
    "for name, summer_group in list(summers_grouped)[:3]:\n",
    "    print(name)\n",
    "    print(summer_group[:3])"
   ]
  },
  {
   "cell_type": "markdown",
   "id": "b46161b3",
   "metadata": {},
   "source": [
    "* Now we need to calculate the average temperature of each summer."
   ]
  },
  {
   "cell_type": "code",
   "execution_count": 25,
   "id": "a2a6189e",
   "metadata": {},
   "outputs": [
    {
     "data": {
      "text/plain": [
       "year\n",
       "1955    25.951087\n",
       "1956    27.143478\n",
       "1957    27.371739\n",
       "1958    27.081522\n",
       "1959    26.401087\n",
       "Name: avg_temp, dtype: float64"
      ]
     },
     "execution_count": 25,
     "metadata": {},
     "output_type": "execute_result"
    }
   ],
   "source": [
    "summers_temp = summers_grouped[\"avg_temp\"].mean()\n",
    "summers_temp.head(5)"
   ]
  },
  {
   "cell_type": "markdown",
   "id": "fd57fb73",
   "metadata": {},
   "source": [
    "* Having calculated the average temperature of all the summers and also the baseline summer temperature, we can now calculate the deviation from the baseline for each summer."
   ]
  },
  {
   "cell_type": "code",
   "execution_count": 26,
   "id": "315499de",
   "metadata": {},
   "outputs": [
    {
     "data": {
      "text/plain": [
       "year\n",
       "1955   -0.279640\n",
       "1956    0.912751\n",
       "1957    1.141012\n",
       "1958    0.850794\n",
       "1959    0.170360\n",
       "Name: avg_temp, dtype: float64"
      ]
     },
     "execution_count": 26,
     "metadata": {},
     "output_type": "execute_result"
    }
   ],
   "source": [
    "summers_dev_from_base = summers_temp - base_summer_temp\n",
    "summers_dev_from_base.head(5)"
   ]
  },
  {
   "cell_type": "markdown",
   "id": "bd08d7a4",
   "metadata": {},
   "source": [
    "* Additionally, it would be nice if we added to our graph a line, representing the 10 years rolling avarege of the deviation from the mean.\n",
    "* In this way we will get a better picture of extreme events."
   ]
  },
  {
   "cell_type": "code",
   "execution_count": 27,
   "id": "24279e90",
   "metadata": {},
   "outputs": [],
   "source": [
    "summers_roll_avg_dev = summers_dev_from_base.rolling(10, min_periods=1).mean()"
   ]
  },
  {
   "cell_type": "markdown",
   "id": "25efbd80",
   "metadata": {},
   "source": [
    "### Plot\n",
    "* Now it is time to plot our graph!\n",
    "* We will use orange for the years with mean summer temperature over the baseline and blue for the years with mean summer temperature below it."
   ]
  },
  {
   "cell_type": "code",
   "execution_count": 28,
   "id": "9402ebe3",
   "metadata": {
    "scrolled": false
   },
   "outputs": [
    {
     "data": {
      "text/plain": [
       "[<matplotlib.lines.Line2D at 0x298e7664c70>]"
      ]
     },
     "execution_count": 28,
     "metadata": {},
     "output_type": "execute_result"
    },
    {
     "data": {
      "image/png": "[encoded data removed]",
      "text/plain": [
       "<Figure size 936x720 with 1 Axes>"
      ]
     },
     "metadata": {},
     "output_type": "display_data"
    }
   ],
   "source": [
    "plt.style.use('ggplot')\n",
    "plt.figure(figsize=(13, 10))\n",
    "plt.title(\"Mean Summer Temperature Difference from 1974-1999 Mean\")\n",
    "plt.bar(summers_dev_from_base.index, \n",
    "        summers_dev_from_base, \n",
    "        width=0.2, \n",
    "        color=np.where(summers_dev_from_base < 0, 'blue', 'orange'),\n",
    "        )\n",
    "plt.axhline(xmin=0.045, xmax=0.955, color=\"dimgrey\", linewidth=1) # for the line on the x axis\n",
    "plt.plot(summers_roll_avg_dev.index, summers_roll_avg_dev, color=\"cadetblue\")"
   ]
  },
  {
   "cell_type": "markdown",
   "id": "809b70ee",
   "metadata": {},
   "source": [
    "### Interpretation\n",
    "* The mean summer temperature fluctuated at relatively low levels in the period 1955-1995, and especially within 1964-1993.\n",
    "* In the period 1996-2020 the mean summer temperature is almost every year a degree higher than the baseline temperature.\n",
    "* Generally, the trend is upwards.\n",
    "* A  relative steadiness can be noted in the period 2014-2020.\n",
    "\n",
    "All the above observations can be explained by the increased human activity the latter years. The combustion of fuels and deforestation are only few causes of the problem. A positive insight is that the efforts against global change seem to yield results, flattening out the increase of the summer temperature, as the rolling average line indicates. "
   ]
  },
  {
   "cell_type": "markdown",
   "id": "24458ed1",
   "metadata": {},
   "source": [
    "## Evolution of Daily Temperatures\n",
    "* Moving on we will create a plot showing the daily temperature of each year.\n",
    "* This way we will get a better idea of the change in temperature through the years.\n",
    "* *Note: in our plot we will use 30-day rolling averages, to smooth the lines.*"
   ]
  },
  {
   "cell_type": "markdown",
   "id": "b6794e26",
   "metadata": {},
   "source": [
    "* Let's start by calculating the average temperature for each year for the full period from 1955 to 2020, to get a first picture."
   ]
  },
  {
   "cell_type": "code",
   "execution_count": 29,
   "id": "37fc4ec4",
   "metadata": {},
   "outputs": [
    {
     "data": {
      "text/plain": [
       "year\n",
       "1955    18.794110\n",
       "1956    18.151366\n",
       "1957    18.410714\n",
       "1958    18.710959\n",
       "1959    17.925890\n",
       "Name: avg_temp, dtype: float64"
      ]
     },
     "execution_count": 29,
     "metadata": {},
     "output_type": "execute_result"
    }
   ],
   "source": [
    "avg_year_temp = df.groupby(\"year\")[\"avg_temp\"].mean()\n",
    "avg_year_temp.head(5)"
   ]
  },
  {
   "cell_type": "markdown",
   "id": "99dbbb6c",
   "metadata": {},
   "source": [
    "* With the aim of depicting the general trend of the evolution of the temperature we will perform a simple linear regression.\n",
    "* We will also plot the results.\n",
    "* We will color red, the points that are over the line produced by the regression and blue, the points below it."
   ]
  },
  {
   "cell_type": "code",
   "execution_count": 30,
   "id": "30bc3efe",
   "metadata": {},
   "outputs": [
    {
     "data": {
      "text/plain": [
       "[<matplotlib.lines.Line2D at 0x298e77703d0>]"
      ]
     },
     "execution_count": 30,
     "metadata": {},
     "output_type": "execute_result"
    },
    {
     "data": {
      "image/png": "[encoded data removed]",
      "text/plain": [
       "<Figure size 576x576 with 1 Axes>"
      ]
     },
     "metadata": {},
     "output_type": "display_data"
    }
   ],
   "source": [
    "#https://stackoverflow.com/questions/6148207/linear-regression-with-matplotlib-numpy\n",
    "avg_year_temp_not_null = avg_year_temp[~ avg_year_temp.isnull()] # we use this in case we don't fill avg_temp with the average\n",
    "                                                                 # of max and min\n",
    "years = np.array(avg_year_temp_not_null.index)\n",
    "coef = np.polyfit(years, np.array(avg_year_temp_not_null),1)\n",
    "poly1d_fn = np.poly1d(coef)\n",
    "is_year_hot = avg_year_temp_not_null > poly1d_fn(years)\n",
    "\n",
    "plt.figure(figsize=(8, 8))\n",
    "plt.xlabel(\"Year\")\n",
    "plt.ylabel(\"Average Temperature\")\n",
    "plt.plot(years[is_year_hot], avg_year_temp_not_null[is_year_hot], \"ro\")\n",
    "plt.plot(years[~ is_year_hot], avg_year_temp_not_null[~ is_year_hot], \"bo\")\n",
    "plt.plot(years, poly1d_fn(years), '--k')"
   ]
  },
  {
   "cell_type": "markdown",
   "id": "02ca7069",
   "metadata": {},
   "source": [
    "* We can easily observe that it semms like the temperature is increasing.\n",
    "* This plot comes in alignment with our interpretation of the first graph we generated."
   ]
  },
  {
   "cell_type": "markdown",
   "id": "321dcb6c",
   "metadata": {},
   "source": [
    "* Next, we will add to our dataframe a new column that will contain the 30-day rolling average temperature for each day"
   ]
  },
  {
   "cell_type": "code",
   "execution_count": 31,
   "id": "a8b317ea",
   "metadata": {},
   "outputs": [
    {
     "data": {
      "text/html": [
       "<div>\n",
       "<style scoped>\n",
       "    .dataframe tbody tr th:only-of-type {\n",
       "        vertical-align: middle;\n",
       "    }\n",
       "\n",
       "    .dataframe tbody tr th {\n",
       "        vertical-align: top;\n",
       "    }\n",
       "\n",
       "    .dataframe thead th {\n",
       "        text-align: right;\n",
       "    }\n",
       "</style>\n",
       "<table border=\"1\" class=\"dataframe\">\n",
       "  <thead>\n",
       "    <tr style=\"text-align: right;\">\n",
       "      <th></th>\n",
       "      <th>date</th>\n",
       "      <th>prcp</th>\n",
       "      <th>avg_temp</th>\n",
       "      <th>year</th>\n",
       "      <th>rolling_avg_temp</th>\n",
       "    </tr>\n",
       "  </thead>\n",
       "  <tbody>\n",
       "    <tr>\n",
       "      <th>1000</th>\n",
       "      <td>1957-09-27</td>\n",
       "      <td>0.0</td>\n",
       "      <td>24.6</td>\n",
       "      <td>1957</td>\n",
       "      <td>24.846667</td>\n",
       "    </tr>\n",
       "    <tr>\n",
       "      <th>1001</th>\n",
       "      <td>1957-09-28</td>\n",
       "      <td>0.6</td>\n",
       "      <td>23.1</td>\n",
       "      <td>1957</td>\n",
       "      <td>24.700000</td>\n",
       "    </tr>\n",
       "    <tr>\n",
       "      <th>1002</th>\n",
       "      <td>1957-09-29</td>\n",
       "      <td>0.0</td>\n",
       "      <td>22.3</td>\n",
       "      <td>1957</td>\n",
       "      <td>24.516667</td>\n",
       "    </tr>\n",
       "    <tr>\n",
       "      <th>1003</th>\n",
       "      <td>1957-09-30</td>\n",
       "      <td>0.0</td>\n",
       "      <td>22.8</td>\n",
       "      <td>1957</td>\n",
       "      <td>24.380000</td>\n",
       "    </tr>\n",
       "    <tr>\n",
       "      <th>1004</th>\n",
       "      <td>1957-10-01</td>\n",
       "      <td>0.0</td>\n",
       "      <td>23.3</td>\n",
       "      <td>1957</td>\n",
       "      <td>24.263333</td>\n",
       "    </tr>\n",
       "  </tbody>\n",
       "</table>\n",
       "</div>"
      ],
      "text/plain": [
       "           date  prcp  avg_temp  year  rolling_avg_temp\n",
       "1000 1957-09-27   0.0      24.6  1957         24.846667\n",
       "1001 1957-09-28   0.6      23.1  1957         24.700000\n",
       "1002 1957-09-29   0.0      22.3  1957         24.516667\n",
       "1003 1957-09-30   0.0      22.8  1957         24.380000\n",
       "1004 1957-10-01   0.0      23.3  1957         24.263333"
      ]
     },
     "execution_count": 31,
     "metadata": {},
     "output_type": "execute_result"
    }
   ],
   "source": [
    "df[\"rolling_avg_temp\"] = df[\"avg_temp\"].rolling(30, min_periods=1).mean()\n",
    "df[1000:1005]"
   ]
  },
  {
   "cell_type": "markdown",
   "id": "5bf16771",
   "metadata": {},
   "source": [
    "* Also a column that shows the day of the year for every observation will come in handy later."
   ]
  },
  {
   "cell_type": "code",
   "execution_count": 32,
   "id": "b56e252b",
   "metadata": {},
   "outputs": [
    {
     "data": {
      "text/html": [
       "<div>\n",
       "<style scoped>\n",
       "    .dataframe tbody tr th:only-of-type {\n",
       "        vertical-align: middle;\n",
       "    }\n",
       "\n",
       "    .dataframe tbody tr th {\n",
       "        vertical-align: top;\n",
       "    }\n",
       "\n",
       "    .dataframe thead th {\n",
       "        text-align: right;\n",
       "    }\n",
       "</style>\n",
       "<table border=\"1\" class=\"dataframe\">\n",
       "  <thead>\n",
       "    <tr style=\"text-align: right;\">\n",
       "      <th></th>\n",
       "      <th>date</th>\n",
       "      <th>prcp</th>\n",
       "      <th>avg_temp</th>\n",
       "      <th>year</th>\n",
       "      <th>rolling_avg_temp</th>\n",
       "      <th>day_of_year</th>\n",
       "    </tr>\n",
       "  </thead>\n",
       "  <tbody>\n",
       "    <tr>\n",
       "      <th>0</th>\n",
       "      <td>1955-01-01</td>\n",
       "      <td>0.0</td>\n",
       "      <td>14.35</td>\n",
       "      <td>1955</td>\n",
       "      <td>14.350000</td>\n",
       "      <td>1</td>\n",
       "    </tr>\n",
       "    <tr>\n",
       "      <th>1</th>\n",
       "      <td>1955-01-02</td>\n",
       "      <td>2.0</td>\n",
       "      <td>10.70</td>\n",
       "      <td>1955</td>\n",
       "      <td>12.525000</td>\n",
       "      <td>2</td>\n",
       "    </tr>\n",
       "    <tr>\n",
       "      <th>2</th>\n",
       "      <td>1955-01-03</td>\n",
       "      <td>0.0</td>\n",
       "      <td>12.70</td>\n",
       "      <td>1955</td>\n",
       "      <td>12.583333</td>\n",
       "      <td>3</td>\n",
       "    </tr>\n",
       "    <tr>\n",
       "      <th>3</th>\n",
       "      <td>1955-01-04</td>\n",
       "      <td>0.0</td>\n",
       "      <td>13.05</td>\n",
       "      <td>1955</td>\n",
       "      <td>12.700000</td>\n",
       "      <td>4</td>\n",
       "    </tr>\n",
       "    <tr>\n",
       "      <th>4</th>\n",
       "      <td>1955-01-05</td>\n",
       "      <td>0.0</td>\n",
       "      <td>13.15</td>\n",
       "      <td>1955</td>\n",
       "      <td>12.790000</td>\n",
       "      <td>5</td>\n",
       "    </tr>\n",
       "  </tbody>\n",
       "</table>\n",
       "</div>"
      ],
      "text/plain": [
       "        date  prcp  avg_temp  year  rolling_avg_temp  day_of_year\n",
       "0 1955-01-01   0.0     14.35  1955         14.350000            1\n",
       "1 1955-01-02   2.0     10.70  1955         12.525000            2\n",
       "2 1955-01-03   0.0     12.70  1955         12.583333            3\n",
       "3 1955-01-04   0.0     13.05  1955         12.700000            4\n",
       "4 1955-01-05   0.0     13.15  1955         12.790000            5"
      ]
     },
     "execution_count": 32,
     "metadata": {},
     "output_type": "execute_result"
    }
   ],
   "source": [
    "df[\"day_of_year\"] = df[\"date\"].dt.dayofyear\n",
    "df.head(5)"
   ]
  },
  {
   "cell_type": "markdown",
   "id": "80aa6b5a",
   "metadata": {},
   "source": [
    "* Intending to create a different plot for each year, it is convenient to group our data."
   ]
  },
  {
   "cell_type": "code",
   "execution_count": 33,
   "id": "41573d9b",
   "metadata": {},
   "outputs": [
    {
     "name": "stdout",
     "output_type": "stream",
     "text": [
      "1955\n",
      "        date  prcp  avg_temp  year  rolling_avg_temp  day_of_year\n",
      "0 1955-01-01   0.0     14.35  1955         14.350000            1\n",
      "1 1955-01-02   2.0     10.70  1955         12.525000            2\n",
      "2 1955-01-03   0.0     12.70  1955         12.583333            3\n",
      "1956\n",
      "          date  prcp  avg_temp  year  rolling_avg_temp  day_of_year\n",
      "365 1956-01-01   0.0     16.35  1956         13.298333            1\n",
      "366 1956-01-02   0.0     14.50  1956         13.405000            2\n",
      "367 1956-01-03   0.0     12.15  1956         13.396667            3\n",
      "1957\n",
      "          date  prcp  avg_temp  year  rolling_avg_temp  day_of_year\n",
      "731 1957-01-01   0.0       9.8  1957         10.795000            1\n",
      "732 1957-01-02   0.0      10.3  1957         10.641667            2\n",
      "733 1957-01-03   0.3      10.4  1957         10.521667            3\n",
      "1958\n",
      "           date  prcp  avg_temp  year  rolling_avg_temp  day_of_year\n",
      "1096 1958-01-01   0.0      12.1  1958         11.503333            1\n",
      "1097 1958-01-02   0.0      11.8  1958         11.770000            2\n",
      "1098 1958-01-03   0.0      12.1  1958         12.020000            3\n",
      "1959\n",
      "           date  prcp  avg_temp  year  rolling_avg_temp  day_of_year\n",
      "1461 1959-01-01   0.0     10.90  1959         12.963333            1\n",
      "1462 1959-01-02   5.7     12.45  1959         13.055000            2\n",
      "1463 1959-01-03   5.7     13.70  1959         13.205000            3\n"
     ]
    }
   ],
   "source": [
    "df_grouped_year = df.groupby(\"year\")\n",
    "for year, year_group in list(df_grouped_year)[:5]:\n",
    "    print(year)\n",
    "    print(year_group[:3])"
   ]
  },
  {
   "cell_type": "markdown",
   "id": "3e537ded",
   "metadata": {},
   "source": [
    "* We will also use our baseline period, 1974-1999, as a yardstick."
   ]
  },
  {
   "cell_type": "code",
   "execution_count": 34,
   "id": "05da7c1c",
   "metadata": {},
   "outputs": [],
   "source": [
    "baseline_period = df.loc[df[\"year\"].isin(range(1974, 2000))] # all days from 1974-1999"
   ]
  },
  {
   "cell_type": "markdown",
   "id": "009ec96b",
   "metadata": {},
   "source": [
    "* To get the average temperature of each yearday during our baseline we will first **pivot** our table."
   ]
  },
  {
   "cell_type": "code",
   "execution_count": 35,
   "id": "cdb2045c",
   "metadata": {},
   "outputs": [
    {
     "data": {
      "text/html": [
       "<div>\n",
       "<style scoped>\n",
       "    .dataframe tbody tr th:only-of-type {\n",
       "        vertical-align: middle;\n",
       "    }\n",
       "\n",
       "    .dataframe tbody tr th {\n",
       "        vertical-align: top;\n",
       "    }\n",
       "\n",
       "    .dataframe thead th {\n",
       "        text-align: right;\n",
       "    }\n",
       "</style>\n",
       "<table border=\"1\" class=\"dataframe\">\n",
       "  <thead>\n",
       "    <tr style=\"text-align: right;\">\n",
       "      <th>day_of_year</th>\n",
       "      <th>1</th>\n",
       "      <th>2</th>\n",
       "      <th>3</th>\n",
       "      <th>4</th>\n",
       "      <th>5</th>\n",
       "      <th>6</th>\n",
       "      <th>7</th>\n",
       "      <th>8</th>\n",
       "      <th>9</th>\n",
       "      <th>10</th>\n",
       "      <th>...</th>\n",
       "      <th>357</th>\n",
       "      <th>358</th>\n",
       "      <th>359</th>\n",
       "      <th>360</th>\n",
       "      <th>361</th>\n",
       "      <th>362</th>\n",
       "      <th>363</th>\n",
       "      <th>364</th>\n",
       "      <th>365</th>\n",
       "      <th>366</th>\n",
       "    </tr>\n",
       "    <tr>\n",
       "      <th>year</th>\n",
       "      <th></th>\n",
       "      <th></th>\n",
       "      <th></th>\n",
       "      <th></th>\n",
       "      <th></th>\n",
       "      <th></th>\n",
       "      <th></th>\n",
       "      <th></th>\n",
       "      <th></th>\n",
       "      <th></th>\n",
       "      <th></th>\n",
       "      <th></th>\n",
       "      <th></th>\n",
       "      <th></th>\n",
       "      <th></th>\n",
       "      <th></th>\n",
       "      <th></th>\n",
       "      <th></th>\n",
       "      <th></th>\n",
       "      <th></th>\n",
       "      <th></th>\n",
       "    </tr>\n",
       "  </thead>\n",
       "  <tbody>\n",
       "    <tr>\n",
       "      <th>1974</th>\n",
       "      <td>11.6</td>\n",
       "      <td>13.7</td>\n",
       "      <td>12.2</td>\n",
       "      <td>10.8</td>\n",
       "      <td>9.6</td>\n",
       "      <td>8.7</td>\n",
       "      <td>9.7</td>\n",
       "      <td>9.7</td>\n",
       "      <td>8.5</td>\n",
       "      <td>9.3</td>\n",
       "      <td>...</td>\n",
       "      <td>11.1</td>\n",
       "      <td>11.3</td>\n",
       "      <td>11.1</td>\n",
       "      <td>10.2</td>\n",
       "      <td>11.7</td>\n",
       "      <td>11.6</td>\n",
       "      <td>11.6</td>\n",
       "      <td>12.0</td>\n",
       "      <td>12.8</td>\n",
       "      <td>NaN</td>\n",
       "    </tr>\n",
       "    <tr>\n",
       "      <th>1975</th>\n",
       "      <td>8.7</td>\n",
       "      <td>7.5</td>\n",
       "      <td>7.8</td>\n",
       "      <td>7.2</td>\n",
       "      <td>7.7</td>\n",
       "      <td>8.9</td>\n",
       "      <td>10.9</td>\n",
       "      <td>12.9</td>\n",
       "      <td>7.6</td>\n",
       "      <td>5.8</td>\n",
       "      <td>...</td>\n",
       "      <td>8.3</td>\n",
       "      <td>10.1</td>\n",
       "      <td>12.3</td>\n",
       "      <td>9.5</td>\n",
       "      <td>7.1</td>\n",
       "      <td>8.7</td>\n",
       "      <td>9.6</td>\n",
       "      <td>9.7</td>\n",
       "      <td>10.8</td>\n",
       "      <td>NaN</td>\n",
       "    </tr>\n",
       "    <tr>\n",
       "      <th>1976</th>\n",
       "      <td>11.3</td>\n",
       "      <td>12.4</td>\n",
       "      <td>13.6</td>\n",
       "      <td>13.6</td>\n",
       "      <td>8.4</td>\n",
       "      <td>9.5</td>\n",
       "      <td>11.4</td>\n",
       "      <td>10.6</td>\n",
       "      <td>8.7</td>\n",
       "      <td>9.1</td>\n",
       "      <td>...</td>\n",
       "      <td>10.5</td>\n",
       "      <td>9.1</td>\n",
       "      <td>9.1</td>\n",
       "      <td>9.9</td>\n",
       "      <td>10.3</td>\n",
       "      <td>8.2</td>\n",
       "      <td>5.6</td>\n",
       "      <td>7.0</td>\n",
       "      <td>13.4</td>\n",
       "      <td>12.6</td>\n",
       "    </tr>\n",
       "    <tr>\n",
       "      <th>1977</th>\n",
       "      <td>10.2</td>\n",
       "      <td>9.1</td>\n",
       "      <td>9.1</td>\n",
       "      <td>7.4</td>\n",
       "      <td>6.2</td>\n",
       "      <td>6.7</td>\n",
       "      <td>6.6</td>\n",
       "      <td>7.3</td>\n",
       "      <td>9.4</td>\n",
       "      <td>10.2</td>\n",
       "      <td>...</td>\n",
       "      <td>7.6</td>\n",
       "      <td>7.3</td>\n",
       "      <td>9.7</td>\n",
       "      <td>10.2</td>\n",
       "      <td>7.5</td>\n",
       "      <td>7.9</td>\n",
       "      <td>12.1</td>\n",
       "      <td>15.0</td>\n",
       "      <td>14.2</td>\n",
       "      <td>NaN</td>\n",
       "    </tr>\n",
       "    <tr>\n",
       "      <th>1978</th>\n",
       "      <td>7.0</td>\n",
       "      <td>4.6</td>\n",
       "      <td>6.1</td>\n",
       "      <td>8.9</td>\n",
       "      <td>9.4</td>\n",
       "      <td>4.2</td>\n",
       "      <td>4.4</td>\n",
       "      <td>5.2</td>\n",
       "      <td>2.3</td>\n",
       "      <td>4.9</td>\n",
       "      <td>...</td>\n",
       "      <td>14.1</td>\n",
       "      <td>10.8</td>\n",
       "      <td>11.1</td>\n",
       "      <td>13.0</td>\n",
       "      <td>12.4</td>\n",
       "      <td>14.0</td>\n",
       "      <td>14.1</td>\n",
       "      <td>14.9</td>\n",
       "      <td>14.4</td>\n",
       "      <td>NaN</td>\n",
       "    </tr>\n",
       "  </tbody>\n",
       "</table>\n",
       "<p>5 rows × 366 columns</p>\n",
       "</div>"
      ],
      "text/plain": [
       "day_of_year   1     2     3     4    5    6     7     8    9     10   ...  \\\n",
       "year                                                                  ...   \n",
       "1974         11.6  13.7  12.2  10.8  9.6  8.7   9.7   9.7  8.5   9.3  ...   \n",
       "1975          8.7   7.5   7.8   7.2  7.7  8.9  10.9  12.9  7.6   5.8  ...   \n",
       "1976         11.3  12.4  13.6  13.6  8.4  9.5  11.4  10.6  8.7   9.1  ...   \n",
       "1977         10.2   9.1   9.1   7.4  6.2  6.7   6.6   7.3  9.4  10.2  ...   \n",
       "1978          7.0   4.6   6.1   8.9  9.4  4.2   4.4   5.2  2.3   4.9  ...   \n",
       "\n",
       "day_of_year   357   358   359   360   361   362   363   364   365   366  \n",
       "year                                                                     \n",
       "1974         11.1  11.3  11.1  10.2  11.7  11.6  11.6  12.0  12.8   NaN  \n",
       "1975          8.3  10.1  12.3   9.5   7.1   8.7   9.6   9.7  10.8   NaN  \n",
       "1976         10.5   9.1   9.1   9.9  10.3   8.2   5.6   7.0  13.4  12.6  \n",
       "1977          7.6   7.3   9.7  10.2   7.5   7.9  12.1  15.0  14.2   NaN  \n",
       "1978         14.1  10.8  11.1  13.0  12.4  14.0  14.1  14.9  14.4   NaN  \n",
       "\n",
       "[5 rows x 366 columns]"
      ]
     },
     "execution_count": 35,
     "metadata": {},
     "output_type": "execute_result"
    }
   ],
   "source": [
    "base_avg_temp = baseline_period.pivot(index=\"year\", columns=\"day_of_year\", values=\"avg_temp\")\n",
    "base_avg_temp.head(5)"
   ]
  },
  {
   "cell_type": "markdown",
   "id": "7ffd0566",
   "metadata": {},
   "source": [
    "* Now we can calculate the average temperature of each yearday during the baseline period."
   ]
  },
  {
   "cell_type": "code",
   "execution_count": 36,
   "id": "58383309",
   "metadata": {},
   "outputs": [
    {
     "data": {
      "text/plain": [
       "day_of_year\n",
       "1    10.365385\n",
       "2    10.707692\n",
       "3    10.207692\n",
       "4     9.634615\n",
       "5     9.919231\n",
       "dtype: float64"
      ]
     },
     "execution_count": 36,
     "metadata": {},
     "output_type": "execute_result"
    }
   ],
   "source": [
    "base_yearday_avg_temp = base_avg_temp.mean()\n",
    "base_yearday_avg_temp.head(5)"
   ]
  },
  {
   "cell_type": "markdown",
   "id": "633bb8a1",
   "metadata": {},
   "source": [
    "* And as we mentioned before we will use a 30-day rolling average to smooth the line, that we will draw."
   ]
  },
  {
   "cell_type": "code",
   "execution_count": 37,
   "id": "d53b9df3",
   "metadata": {},
   "outputs": [
    {
     "data": {
      "text/plain": [
       "day_of_year\n",
       "1    10.365385\n",
       "2    10.536538\n",
       "3    10.426923\n",
       "4    10.228846\n",
       "5    10.166923\n",
       "dtype: float64"
      ]
     },
     "execution_count": 37,
     "metadata": {},
     "output_type": "execute_result"
    }
   ],
   "source": [
    "base_yearday_roll_avg_temp = base_yearday_avg_temp.rolling(30, min_periods=1).mean()\n",
    "base_yearday_roll_avg_temp.head(5)"
   ]
  },
  {
   "cell_type": "markdown",
   "id": "f5d2b5e0",
   "metadata": {},
   "source": [
    "### Plot\n",
    "* It is time to generate our plot!\n",
    "* We will draw a different line for each year, the colors are ranging from light orange to dark orange, the darker the color, the latter the year.\n",
    "* The black line is the average daily temperature for the baseline period of 1974-1999."
   ]
  },
  {
   "cell_type": "code",
   "execution_count": 38,
   "id": "dc62dce7",
   "metadata": {},
   "outputs": [
    {
     "data": {
      "image/png": "[encoded data removed]",
      "text/plain": [
       "<Figure size 1440x720 with 1 Axes>"
      ]
     },
     "metadata": {},
     "output_type": "display_data"
    }
   ],
   "source": [
    "def get_oranges_for_plot(): # returns a dictionary, that contains the appropriate color for every year\n",
    "    years = list(avg_year_temp_not_null.index) # we use again the avg_year_temp_not_null, we previously created,\n",
    "                                               # to get the years that contain at least one avg_temp\n",
    "    cmap = plt.get_cmap('Oranges')\n",
    "    colors = [cmap(i) for i in np.linspace(0, 1, len(years))] # https://stackoverflow.com/questions/16006572/plotting-different-colors-in-matplotlib\n",
    "    return dict(zip(years, colors)) # https://stackoverflow.com/questions/209840/how-do-i-convert-two-lists-into-a-dictionary\n",
    "    \n",
    "plt.style.use('ggplot')\n",
    "plt.figure(figsize=(20, 10))\n",
    "plt.xlabel(\"Date\")\n",
    "plt.ylabel(\"Daily Average Temperature\")\n",
    "colors = get_oranges_for_plot()\n",
    "\n",
    "for year, year_group in list(df_grouped_year):\n",
    "    # we use this condition in case we don't fill avg_temp with the average of max and min and to plot only \n",
    "    # the years that contain at least one avg_temp\n",
    "    if (year_group[\"avg_temp\"].count() == 0):\n",
    "        continue      \n",
    "    plt.plot(year_group[\"day_of_year\"], year_group[\"rolling_avg_temp\"], color=colors[year])\n",
    "\n",
    "# baseline plot\n",
    "plt.plot(base_yearday_roll_avg_temp, color=\"black\", linewidth=2)\n",
    "# for the x axis months values\n",
    "months = ['Jan', 'Feb', 'Mar', 'Apr', 'May', 'Jun', 'Jul', 'Aug', 'Sep', 'Oct', 'Nov', 'Dec']\n",
    "_ = plt.xticks(np.linspace(0,335,12), months) # assignment to _ is used in order to not print the list of matplotlib xticks \n",
    "                                              # (https://stackoverflow.com/questions/12056115/disable-the-output-of-matplotlib-pyplot)\n",
    "                                              # also, here the year period is equally divided per month, but if we wanted more\n",
    "                                              # accuracy we should use the appropriate space for each month."
   ]
  },
  {
   "cell_type": "markdown",
   "id": "e1e3b814",
   "metadata": {},
   "source": [
    "### Interpretation\n",
    "* Generally, darker colors are higher than the lighter ones, which means that the temperature has increased during the observed period.\n",
    "* This trend isn't detected only a particular season, but through the whole year.\n",
    "* An important increase of about 2.5 Celsius degrees can be noted the latter years relatively to the baseline.\n",
    "\n",
    "These points generalize the interpretation we made in the previous sector, as it seems that the tendency of increasing temperature isn't detected only a certain period of the year."
   ]
  },
  {
   "cell_type": "markdown",
   "id": "58d543c9",
   "metadata": {},
   "source": [
    "## Extreme Temperature Events\n",
    "* The number of extreme events is another measure that climatologists use. Extreme events are defined as those beyond 5% or 10% from the expected value.\n",
    "* For our analysis, we will focus on the extreme heat events, that are 10% above the baseline.\n",
    "* To do that we will compare every day of every year with the corresponding extreme value of the baseline. Here we can follow two approaches: \n",
    "    1. using yeardays (1 to 366)\n",
    "    2. using months and monthdays (1.1 to 31.12)  \n",
    "    Is there a difference? The answer is yes because of  leap years.  \n",
    "    We will seize the opportunity to use multidimensional index and we will follow the second approach."
   ]
  },
  {
   "cell_type": "markdown",
   "id": "9fb2693d",
   "metadata": {},
   "source": [
    "* We will start by adding two columns to our basic dataframe, one for the month and a second for the month day."
   ]
  },
  {
   "cell_type": "code",
   "execution_count": 39,
   "id": "305edcac",
   "metadata": {},
   "outputs": [
    {
     "data": {
      "text/html": [
       "<div>\n",
       "<style scoped>\n",
       "    .dataframe tbody tr th:only-of-type {\n",
       "        vertical-align: middle;\n",
       "    }\n",
       "\n",
       "    .dataframe tbody tr th {\n",
       "        vertical-align: top;\n",
       "    }\n",
       "\n",
       "    .dataframe thead th {\n",
       "        text-align: right;\n",
       "    }\n",
       "</style>\n",
       "<table border=\"1\" class=\"dataframe\">\n",
       "  <thead>\n",
       "    <tr style=\"text-align: right;\">\n",
       "      <th></th>\n",
       "      <th>date</th>\n",
       "      <th>prcp</th>\n",
       "      <th>avg_temp</th>\n",
       "      <th>year</th>\n",
       "      <th>rolling_avg_temp</th>\n",
       "      <th>day_of_year</th>\n",
       "      <th>month</th>\n",
       "      <th>month_day</th>\n",
       "    </tr>\n",
       "  </thead>\n",
       "  <tbody>\n",
       "    <tr>\n",
       "      <th>0</th>\n",
       "      <td>1955-01-01</td>\n",
       "      <td>0.0</td>\n",
       "      <td>14.35</td>\n",
       "      <td>1955</td>\n",
       "      <td>14.350000</td>\n",
       "      <td>1</td>\n",
       "      <td>1</td>\n",
       "      <td>1</td>\n",
       "    </tr>\n",
       "    <tr>\n",
       "      <th>1</th>\n",
       "      <td>1955-01-02</td>\n",
       "      <td>2.0</td>\n",
       "      <td>10.70</td>\n",
       "      <td>1955</td>\n",
       "      <td>12.525000</td>\n",
       "      <td>2</td>\n",
       "      <td>1</td>\n",
       "      <td>2</td>\n",
       "    </tr>\n",
       "    <tr>\n",
       "      <th>2</th>\n",
       "      <td>1955-01-03</td>\n",
       "      <td>0.0</td>\n",
       "      <td>12.70</td>\n",
       "      <td>1955</td>\n",
       "      <td>12.583333</td>\n",
       "      <td>3</td>\n",
       "      <td>1</td>\n",
       "      <td>3</td>\n",
       "    </tr>\n",
       "    <tr>\n",
       "      <th>3</th>\n",
       "      <td>1955-01-04</td>\n",
       "      <td>0.0</td>\n",
       "      <td>13.05</td>\n",
       "      <td>1955</td>\n",
       "      <td>12.700000</td>\n",
       "      <td>4</td>\n",
       "      <td>1</td>\n",
       "      <td>4</td>\n",
       "    </tr>\n",
       "    <tr>\n",
       "      <th>4</th>\n",
       "      <td>1955-01-05</td>\n",
       "      <td>0.0</td>\n",
       "      <td>13.15</td>\n",
       "      <td>1955</td>\n",
       "      <td>12.790000</td>\n",
       "      <td>5</td>\n",
       "      <td>1</td>\n",
       "      <td>5</td>\n",
       "    </tr>\n",
       "  </tbody>\n",
       "</table>\n",
       "</div>"
      ],
      "text/plain": [
       "        date  prcp  avg_temp  year  rolling_avg_temp  day_of_year  month  \\\n",
       "0 1955-01-01   0.0     14.35  1955         14.350000            1      1   \n",
       "1 1955-01-02   2.0     10.70  1955         12.525000            2      1   \n",
       "2 1955-01-03   0.0     12.70  1955         12.583333            3      1   \n",
       "3 1955-01-04   0.0     13.05  1955         12.700000            4      1   \n",
       "4 1955-01-05   0.0     13.15  1955         12.790000            5      1   \n",
       "\n",
       "   month_day  \n",
       "0          1  \n",
       "1          2  \n",
       "2          3  \n",
       "3          4  \n",
       "4          5  "
      ]
     },
     "execution_count": 39,
     "metadata": {},
     "output_type": "execute_result"
    }
   ],
   "source": [
    "df[\"month\"] = df[\"date\"].dt.month\n",
    "df[\"month_day\"] = df[\"date\"].dt.day\n",
    "df.head(5)"
   ]
  },
  {
   "cell_type": "markdown",
   "id": "08d8135d",
   "metadata": {},
   "source": [
    "* Then, we will create our new dataframe that will have <code>years</code> as index, <code>month</code> and <code>month_day</code> as columns and <code>avg_temp</code> as values."
   ]
  },
  {
   "cell_type": "code",
   "execution_count": 40,
   "id": "6a7ce547",
   "metadata": {},
   "outputs": [
    {
     "data": {
      "text/html": [
       "<div>\n",
       "<style scoped>\n",
       "    .dataframe tbody tr th:only-of-type {\n",
       "        vertical-align: middle;\n",
       "    }\n",
       "\n",
       "    .dataframe tbody tr th {\n",
       "        vertical-align: top;\n",
       "    }\n",
       "\n",
       "    .dataframe thead tr th {\n",
       "        text-align: left;\n",
       "    }\n",
       "\n",
       "    .dataframe thead tr:last-of-type th {\n",
       "        text-align: right;\n",
       "    }\n",
       "</style>\n",
       "<table border=\"1\" class=\"dataframe\">\n",
       "  <thead>\n",
       "    <tr>\n",
       "      <th>month</th>\n",
       "      <th colspan=\"10\" halign=\"left\">1</th>\n",
       "      <th>...</th>\n",
       "      <th colspan=\"9\" halign=\"left\">12</th>\n",
       "      <th>2</th>\n",
       "    </tr>\n",
       "    <tr>\n",
       "      <th>month_day</th>\n",
       "      <th>1</th>\n",
       "      <th>2</th>\n",
       "      <th>3</th>\n",
       "      <th>4</th>\n",
       "      <th>5</th>\n",
       "      <th>6</th>\n",
       "      <th>7</th>\n",
       "      <th>8</th>\n",
       "      <th>9</th>\n",
       "      <th>10</th>\n",
       "      <th>...</th>\n",
       "      <th>23</th>\n",
       "      <th>24</th>\n",
       "      <th>25</th>\n",
       "      <th>26</th>\n",
       "      <th>27</th>\n",
       "      <th>28</th>\n",
       "      <th>29</th>\n",
       "      <th>30</th>\n",
       "      <th>31</th>\n",
       "      <th>29</th>\n",
       "    </tr>\n",
       "    <tr>\n",
       "      <th>year</th>\n",
       "      <th></th>\n",
       "      <th></th>\n",
       "      <th></th>\n",
       "      <th></th>\n",
       "      <th></th>\n",
       "      <th></th>\n",
       "      <th></th>\n",
       "      <th></th>\n",
       "      <th></th>\n",
       "      <th></th>\n",
       "      <th></th>\n",
       "      <th></th>\n",
       "      <th></th>\n",
       "      <th></th>\n",
       "      <th></th>\n",
       "      <th></th>\n",
       "      <th></th>\n",
       "      <th></th>\n",
       "      <th></th>\n",
       "      <th></th>\n",
       "      <th></th>\n",
       "    </tr>\n",
       "  </thead>\n",
       "  <tbody>\n",
       "    <tr>\n",
       "      <th>1955</th>\n",
       "      <td>14.35</td>\n",
       "      <td>10.70</td>\n",
       "      <td>12.70</td>\n",
       "      <td>13.05</td>\n",
       "      <td>13.15</td>\n",
       "      <td>14.25</td>\n",
       "      <td>13.30</td>\n",
       "      <td>15.80</td>\n",
       "      <td>14.7</td>\n",
       "      <td>13.2</td>\n",
       "      <td>...</td>\n",
       "      <td>14.85</td>\n",
       "      <td>14.25</td>\n",
       "      <td>12.0</td>\n",
       "      <td>11.60</td>\n",
       "      <td>10.2</td>\n",
       "      <td>8.55</td>\n",
       "      <td>8.9</td>\n",
       "      <td>9.25</td>\n",
       "      <td>13.80</td>\n",
       "      <td>NaN</td>\n",
       "    </tr>\n",
       "    <tr>\n",
       "      <th>1956</th>\n",
       "      <td>16.35</td>\n",
       "      <td>14.50</td>\n",
       "      <td>12.15</td>\n",
       "      <td>11.65</td>\n",
       "      <td>8.60</td>\n",
       "      <td>7.15</td>\n",
       "      <td>9.15</td>\n",
       "      <td>10.35</td>\n",
       "      <td>10.3</td>\n",
       "      <td>8.7</td>\n",
       "      <td>...</td>\n",
       "      <td>9.80</td>\n",
       "      <td>14.30</td>\n",
       "      <td>12.4</td>\n",
       "      <td>10.30</td>\n",
       "      <td>11.2</td>\n",
       "      <td>8.30</td>\n",
       "      <td>9.0</td>\n",
       "      <td>9.15</td>\n",
       "      <td>8.15</td>\n",
       "      <td>9.35</td>\n",
       "    </tr>\n",
       "    <tr>\n",
       "      <th>1957</th>\n",
       "      <td>9.80</td>\n",
       "      <td>10.30</td>\n",
       "      <td>10.40</td>\n",
       "      <td>8.10</td>\n",
       "      <td>8.90</td>\n",
       "      <td>8.55</td>\n",
       "      <td>9.65</td>\n",
       "      <td>8.60</td>\n",
       "      <td>7.4</td>\n",
       "      <td>9.5</td>\n",
       "      <td>...</td>\n",
       "      <td>8.90</td>\n",
       "      <td>9.90</td>\n",
       "      <td>9.3</td>\n",
       "      <td>10.20</td>\n",
       "      <td>10.2</td>\n",
       "      <td>9.80</td>\n",
       "      <td>11.9</td>\n",
       "      <td>15.70</td>\n",
       "      <td>15.80</td>\n",
       "      <td>NaN</td>\n",
       "    </tr>\n",
       "    <tr>\n",
       "      <th>1958</th>\n",
       "      <td>12.10</td>\n",
       "      <td>11.80</td>\n",
       "      <td>12.10</td>\n",
       "      <td>10.30</td>\n",
       "      <td>8.50</td>\n",
       "      <td>10.20</td>\n",
       "      <td>13.60</td>\n",
       "      <td>15.60</td>\n",
       "      <td>7.8</td>\n",
       "      <td>5.8</td>\n",
       "      <td>...</td>\n",
       "      <td>16.80</td>\n",
       "      <td>16.40</td>\n",
       "      <td>15.3</td>\n",
       "      <td>12.90</td>\n",
       "      <td>13.6</td>\n",
       "      <td>12.40</td>\n",
       "      <td>13.5</td>\n",
       "      <td>11.20</td>\n",
       "      <td>9.00</td>\n",
       "      <td>NaN</td>\n",
       "    </tr>\n",
       "    <tr>\n",
       "      <th>1959</th>\n",
       "      <td>10.90</td>\n",
       "      <td>12.45</td>\n",
       "      <td>13.70</td>\n",
       "      <td>15.50</td>\n",
       "      <td>12.55</td>\n",
       "      <td>8.20</td>\n",
       "      <td>7.15</td>\n",
       "      <td>9.40</td>\n",
       "      <td>13.5</td>\n",
       "      <td>12.5</td>\n",
       "      <td>...</td>\n",
       "      <td>12.30</td>\n",
       "      <td>11.85</td>\n",
       "      <td>13.0</td>\n",
       "      <td>12.15</td>\n",
       "      <td>11.8</td>\n",
       "      <td>13.55</td>\n",
       "      <td>13.6</td>\n",
       "      <td>10.50</td>\n",
       "      <td>10.35</td>\n",
       "      <td>NaN</td>\n",
       "    </tr>\n",
       "  </tbody>\n",
       "</table>\n",
       "<p>5 rows × 366 columns</p>\n",
       "</div>"
      ],
      "text/plain": [
       "month         1                                                                \\\n",
       "month_day     1      2      3      4      5      6      7      8     9     10   \n",
       "year                                                                            \n",
       "1955       14.35  10.70  12.70  13.05  13.15  14.25  13.30  15.80  14.7  13.2   \n",
       "1956       16.35  14.50  12.15  11.65   8.60   7.15   9.15  10.35  10.3   8.7   \n",
       "1957        9.80  10.30  10.40   8.10   8.90   8.55   9.65   8.60   7.4   9.5   \n",
       "1958       12.10  11.80  12.10  10.30   8.50  10.20  13.60  15.60   7.8   5.8   \n",
       "1959       10.90  12.45  13.70  15.50  12.55   8.20   7.15   9.40  13.5  12.5   \n",
       "\n",
       "month      ...     12                                                       \\\n",
       "month_day  ...     23     24    25     26    27     28    29     30     31   \n",
       "year       ...                                                               \n",
       "1955       ...  14.85  14.25  12.0  11.60  10.2   8.55   8.9   9.25  13.80   \n",
       "1956       ...   9.80  14.30  12.4  10.30  11.2   8.30   9.0   9.15   8.15   \n",
       "1957       ...   8.90   9.90   9.3  10.20  10.2   9.80  11.9  15.70  15.80   \n",
       "1958       ...  16.80  16.40  15.3  12.90  13.6  12.40  13.5  11.20   9.00   \n",
       "1959       ...  12.30  11.85  13.0  12.15  11.8  13.55  13.6  10.50  10.35   \n",
       "\n",
       "month        2   \n",
       "month_day    29  \n",
       "year             \n",
       "1955        NaN  \n",
       "1956       9.35  \n",
       "1957        NaN  \n",
       "1958        NaN  \n",
       "1959        NaN  \n",
       "\n",
       "[5 rows x 366 columns]"
      ]
     },
     "execution_count": 40,
     "metadata": {},
     "output_type": "execute_result"
    }
   ],
   "source": [
    "month_day_avg_temp = df.pivot(index=\"year\", columns=[\"month\", \"month_day\"], values=\"avg_temp\")\n",
    "month_day_avg_temp.head(5)"
   ]
  },
  {
   "cell_type": "markdown",
   "id": "dabd46dc",
   "metadata": {},
   "source": [
    "* We will use the baseline period to define the extreme temperatures for each day-of-month.\n",
    "* So we have to, first, calculate the average temperature for each day-of-month within the period 1974-1999."
   ]
  },
  {
   "cell_type": "code",
   "execution_count": 41,
   "id": "b296ab61",
   "metadata": {},
   "outputs": [
    {
     "data": {
      "text/plain": [
       "month  month_day\n",
       "1      1            10.365385\n",
       "       2            10.707692\n",
       "       3            10.207692\n",
       "       4             9.634615\n",
       "       5             9.919231\n",
       "dtype: float64"
      ]
     },
     "execution_count": 41,
     "metadata": {},
     "output_type": "execute_result"
    }
   ],
   "source": [
    "base_month_day_avg_temp = month_day_avg_temp.loc[1974:1999]\n",
    "baseline_avg_temp = base_month_day_avg_temp.mean()\n",
    "baseline_avg_temp.head(5)"
   ]
  },
  {
   "cell_type": "markdown",
   "id": "6b01697e",
   "metadata": {},
   "source": [
    "* So the extreme temperature for each day is: expected value + 10% * |expected value| (absolute value here because of potential negative values)."
   ]
  },
  {
   "cell_type": "code",
   "execution_count": 42,
   "id": "5d625923",
   "metadata": {},
   "outputs": [
    {
     "data": {
      "text/plain": [
       "month  month_day\n",
       "1      1            11.401923\n",
       "       2            11.778462\n",
       "       3            11.228462\n",
       "       4            10.598077\n",
       "       5            10.911154\n",
       "dtype: float64"
      ]
     },
     "execution_count": 42,
     "metadata": {},
     "output_type": "execute_result"
    }
   ],
   "source": [
    "baseline_extreme_temp = baseline_avg_temp.map(lambda x : x + 0.1 * abs(x))\n",
    "baseline_extreme_temp.head(5)"
   ]
  },
  {
   "cell_type": "markdown",
   "id": "9109204f",
   "metadata": {},
   "source": [
    "* We will find the difference: average temperature - extreme temperature for all days."
   ]
  },
  {
   "cell_type": "code",
   "execution_count": 43,
   "id": "4d77d5eb",
   "metadata": {},
   "outputs": [
    {
     "data": {
      "text/html": [
       "<div>\n",
       "<style scoped>\n",
       "    .dataframe tbody tr th:only-of-type {\n",
       "        vertical-align: middle;\n",
       "    }\n",
       "\n",
       "    .dataframe tbody tr th {\n",
       "        vertical-align: top;\n",
       "    }\n",
       "\n",
       "    .dataframe thead tr th {\n",
       "        text-align: left;\n",
       "    }\n",
       "\n",
       "    .dataframe thead tr:last-of-type th {\n",
       "        text-align: right;\n",
       "    }\n",
       "</style>\n",
       "<table border=\"1\" class=\"dataframe\">\n",
       "  <thead>\n",
       "    <tr>\n",
       "      <th>month</th>\n",
       "      <th colspan=\"10\" halign=\"left\">1</th>\n",
       "      <th>...</th>\n",
       "      <th colspan=\"9\" halign=\"left\">12</th>\n",
       "      <th>2</th>\n",
       "    </tr>\n",
       "    <tr>\n",
       "      <th>month_day</th>\n",
       "      <th>1</th>\n",
       "      <th>2</th>\n",
       "      <th>3</th>\n",
       "      <th>4</th>\n",
       "      <th>5</th>\n",
       "      <th>6</th>\n",
       "      <th>7</th>\n",
       "      <th>8</th>\n",
       "      <th>9</th>\n",
       "      <th>10</th>\n",
       "      <th>...</th>\n",
       "      <th>23</th>\n",
       "      <th>24</th>\n",
       "      <th>25</th>\n",
       "      <th>26</th>\n",
       "      <th>27</th>\n",
       "      <th>28</th>\n",
       "      <th>29</th>\n",
       "      <th>30</th>\n",
       "      <th>31</th>\n",
       "      <th>29</th>\n",
       "    </tr>\n",
       "    <tr>\n",
       "      <th>year</th>\n",
       "      <th></th>\n",
       "      <th></th>\n",
       "      <th></th>\n",
       "      <th></th>\n",
       "      <th></th>\n",
       "      <th></th>\n",
       "      <th></th>\n",
       "      <th></th>\n",
       "      <th></th>\n",
       "      <th></th>\n",
       "      <th></th>\n",
       "      <th></th>\n",
       "      <th></th>\n",
       "      <th></th>\n",
       "      <th></th>\n",
       "      <th></th>\n",
       "      <th></th>\n",
       "      <th></th>\n",
       "      <th></th>\n",
       "      <th></th>\n",
       "      <th></th>\n",
       "    </tr>\n",
       "  </thead>\n",
       "  <tbody>\n",
       "    <tr>\n",
       "      <th>1955</th>\n",
       "      <td>2.948077</td>\n",
       "      <td>-1.078462</td>\n",
       "      <td>1.471538</td>\n",
       "      <td>2.451923</td>\n",
       "      <td>2.238846</td>\n",
       "      <td>3.440385</td>\n",
       "      <td>2.139231</td>\n",
       "      <td>4.939615</td>\n",
       "      <td>4.660385</td>\n",
       "      <td>2.508846</td>\n",
       "      <td>...</td>\n",
       "      <td>2.508846</td>\n",
       "      <td>2.585769</td>\n",
       "      <td>0.335769</td>\n",
       "      <td>0.612692</td>\n",
       "      <td>-0.546154</td>\n",
       "      <td>-2.678462</td>\n",
       "      <td>-2.954615</td>\n",
       "      <td>-3.239231</td>\n",
       "      <td>1.691538</td>\n",
       "      <td>NaN</td>\n",
       "    </tr>\n",
       "    <tr>\n",
       "      <th>1956</th>\n",
       "      <td>4.948077</td>\n",
       "      <td>2.721538</td>\n",
       "      <td>0.921538</td>\n",
       "      <td>1.051923</td>\n",
       "      <td>-2.311154</td>\n",
       "      <td>-3.659615</td>\n",
       "      <td>-2.010769</td>\n",
       "      <td>-0.510385</td>\n",
       "      <td>0.260385</td>\n",
       "      <td>-1.991154</td>\n",
       "      <td>...</td>\n",
       "      <td>-2.541154</td>\n",
       "      <td>2.635769</td>\n",
       "      <td>0.735769</td>\n",
       "      <td>-0.687308</td>\n",
       "      <td>0.453846</td>\n",
       "      <td>-2.928462</td>\n",
       "      <td>-2.854615</td>\n",
       "      <td>-3.339231</td>\n",
       "      <td>-3.958462</td>\n",
       "      <td>-0.953333</td>\n",
       "    </tr>\n",
       "    <tr>\n",
       "      <th>1957</th>\n",
       "      <td>-1.601923</td>\n",
       "      <td>-1.478462</td>\n",
       "      <td>-0.828462</td>\n",
       "      <td>-2.498077</td>\n",
       "      <td>-2.011154</td>\n",
       "      <td>-2.259615</td>\n",
       "      <td>-1.510769</td>\n",
       "      <td>-2.260385</td>\n",
       "      <td>-2.639615</td>\n",
       "      <td>-1.191154</td>\n",
       "      <td>...</td>\n",
       "      <td>-3.441154</td>\n",
       "      <td>-1.764231</td>\n",
       "      <td>-2.364231</td>\n",
       "      <td>-0.787308</td>\n",
       "      <td>-0.546154</td>\n",
       "      <td>-1.428462</td>\n",
       "      <td>0.045385</td>\n",
       "      <td>3.210769</td>\n",
       "      <td>3.691538</td>\n",
       "      <td>NaN</td>\n",
       "    </tr>\n",
       "    <tr>\n",
       "      <th>1958</th>\n",
       "      <td>0.698077</td>\n",
       "      <td>0.021538</td>\n",
       "      <td>0.871538</td>\n",
       "      <td>-0.298077</td>\n",
       "      <td>-2.411154</td>\n",
       "      <td>-0.609615</td>\n",
       "      <td>2.439231</td>\n",
       "      <td>4.739615</td>\n",
       "      <td>-2.239615</td>\n",
       "      <td>-4.891154</td>\n",
       "      <td>...</td>\n",
       "      <td>4.458846</td>\n",
       "      <td>4.735769</td>\n",
       "      <td>3.635769</td>\n",
       "      <td>1.912692</td>\n",
       "      <td>2.853846</td>\n",
       "      <td>1.171538</td>\n",
       "      <td>1.645385</td>\n",
       "      <td>-1.289231</td>\n",
       "      <td>-3.108462</td>\n",
       "      <td>NaN</td>\n",
       "    </tr>\n",
       "    <tr>\n",
       "      <th>1959</th>\n",
       "      <td>-0.501923</td>\n",
       "      <td>0.671538</td>\n",
       "      <td>2.471538</td>\n",
       "      <td>4.901923</td>\n",
       "      <td>1.638846</td>\n",
       "      <td>-2.609615</td>\n",
       "      <td>-4.010769</td>\n",
       "      <td>-1.460385</td>\n",
       "      <td>3.460385</td>\n",
       "      <td>1.808846</td>\n",
       "      <td>...</td>\n",
       "      <td>-0.041154</td>\n",
       "      <td>0.185769</td>\n",
       "      <td>1.335769</td>\n",
       "      <td>1.162692</td>\n",
       "      <td>1.053846</td>\n",
       "      <td>2.321538</td>\n",
       "      <td>1.745385</td>\n",
       "      <td>-1.989231</td>\n",
       "      <td>-1.758462</td>\n",
       "      <td>NaN</td>\n",
       "    </tr>\n",
       "  </tbody>\n",
       "</table>\n",
       "<p>5 rows × 366 columns</p>\n",
       "</div>"
      ],
      "text/plain": [
       "month            1                                                     \\\n",
       "month_day        1         2         3         4         5         6    \n",
       "year                                                                    \n",
       "1955       2.948077 -1.078462  1.471538  2.451923  2.238846  3.440385   \n",
       "1956       4.948077  2.721538  0.921538  1.051923 -2.311154 -3.659615   \n",
       "1957      -1.601923 -1.478462 -0.828462 -2.498077 -2.011154 -2.259615   \n",
       "1958       0.698077  0.021538  0.871538 -0.298077 -2.411154 -0.609615   \n",
       "1959      -0.501923  0.671538  2.471538  4.901923  1.638846 -2.609615   \n",
       "\n",
       "month                                              ...        12            \\\n",
       "month_day        7         8         9         10  ...        23        24   \n",
       "year                                               ...                       \n",
       "1955       2.139231  4.939615  4.660385  2.508846  ...  2.508846  2.585769   \n",
       "1956      -2.010769 -0.510385  0.260385 -1.991154  ... -2.541154  2.635769   \n",
       "1957      -1.510769 -2.260385 -2.639615 -1.191154  ... -3.441154 -1.764231   \n",
       "1958       2.439231  4.739615 -2.239615 -4.891154  ...  4.458846  4.735769   \n",
       "1959      -4.010769 -1.460385  3.460385  1.808846  ... -0.041154  0.185769   \n",
       "\n",
       "month                                                                  \\\n",
       "month_day        25        26        27        28        29        30   \n",
       "year                                                                    \n",
       "1955       0.335769  0.612692 -0.546154 -2.678462 -2.954615 -3.239231   \n",
       "1956       0.735769 -0.687308  0.453846 -2.928462 -2.854615 -3.339231   \n",
       "1957      -2.364231 -0.787308 -0.546154 -1.428462  0.045385  3.210769   \n",
       "1958       3.635769  1.912692  2.853846  1.171538  1.645385 -1.289231   \n",
       "1959       1.335769  1.162692  1.053846  2.321538  1.745385 -1.989231   \n",
       "\n",
       "month                      2   \n",
       "month_day        31        29  \n",
       "year                           \n",
       "1955       1.691538       NaN  \n",
       "1956      -3.958462 -0.953333  \n",
       "1957       3.691538       NaN  \n",
       "1958      -3.108462       NaN  \n",
       "1959      -1.758462       NaN  \n",
       "\n",
       "[5 rows x 366 columns]"
      ]
     },
     "execution_count": 43,
     "metadata": {},
     "output_type": "execute_result"
    }
   ],
   "source": [
    "diff_avg_extr = month_day_avg_temp - baseline_extreme_temp\n",
    "diff_avg_extr.head(5)"
   ]
  },
  {
   "cell_type": "markdown",
   "id": "2f10c36b",
   "metadata": {},
   "source": [
    "* At this moment, we prefer the <code>diff_avg_extr</code> to have <code>month</code> and <code>month_day</code> as rows and <code>year</code> as columns.\n",
    "* In this way, it is easier to exctract information for each year.\n",
    "* So, we will transpose the table."
   ]
  },
  {
   "cell_type": "code",
   "execution_count": 44,
   "id": "c15f24d1",
   "metadata": {},
   "outputs": [
    {
     "data": {
      "text/html": [
       "<div>\n",
       "<style scoped>\n",
       "    .dataframe tbody tr th:only-of-type {\n",
       "        vertical-align: middle;\n",
       "    }\n",
       "\n",
       "    .dataframe tbody tr th {\n",
       "        vertical-align: top;\n",
       "    }\n",
       "\n",
       "    .dataframe thead th {\n",
       "        text-align: right;\n",
       "    }\n",
       "</style>\n",
       "<table border=\"1\" class=\"dataframe\">\n",
       "  <thead>\n",
       "    <tr style=\"text-align: right;\">\n",
       "      <th></th>\n",
       "      <th>year</th>\n",
       "      <th>1955</th>\n",
       "      <th>1956</th>\n",
       "      <th>1957</th>\n",
       "      <th>1958</th>\n",
       "      <th>1959</th>\n",
       "      <th>1960</th>\n",
       "      <th>1961</th>\n",
       "      <th>1962</th>\n",
       "      <th>1963</th>\n",
       "      <th>1964</th>\n",
       "      <th>...</th>\n",
       "      <th>2011</th>\n",
       "      <th>2012</th>\n",
       "      <th>2013</th>\n",
       "      <th>2014</th>\n",
       "      <th>2015</th>\n",
       "      <th>2016</th>\n",
       "      <th>2017</th>\n",
       "      <th>2018</th>\n",
       "      <th>2019</th>\n",
       "      <th>2020</th>\n",
       "    </tr>\n",
       "    <tr>\n",
       "      <th>month</th>\n",
       "      <th>month_day</th>\n",
       "      <th></th>\n",
       "      <th></th>\n",
       "      <th></th>\n",
       "      <th></th>\n",
       "      <th></th>\n",
       "      <th></th>\n",
       "      <th></th>\n",
       "      <th></th>\n",
       "      <th></th>\n",
       "      <th></th>\n",
       "      <th></th>\n",
       "      <th></th>\n",
       "      <th></th>\n",
       "      <th></th>\n",
       "      <th></th>\n",
       "      <th></th>\n",
       "      <th></th>\n",
       "      <th></th>\n",
       "      <th></th>\n",
       "      <th></th>\n",
       "      <th></th>\n",
       "    </tr>\n",
       "  </thead>\n",
       "  <tbody>\n",
       "    <tr>\n",
       "      <th rowspan=\"5\" valign=\"top\">1</th>\n",
       "      <th>1</th>\n",
       "      <td>2.948077</td>\n",
       "      <td>4.948077</td>\n",
       "      <td>-1.601923</td>\n",
       "      <td>0.698077</td>\n",
       "      <td>-0.501923</td>\n",
       "      <td>-2.501923</td>\n",
       "      <td>0.598077</td>\n",
       "      <td>1.498077</td>\n",
       "      <td>3.698077</td>\n",
       "      <td>-2.201923</td>\n",
       "      <td>...</td>\n",
       "      <td>-1.501923</td>\n",
       "      <td>-1.201923</td>\n",
       "      <td>-0.101923</td>\n",
       "      <td>-1.601923</td>\n",
       "      <td>-7.001923</td>\n",
       "      <td>-7.601923</td>\n",
       "      <td>-5.401923</td>\n",
       "      <td>-0.101923</td>\n",
       "      <td>-3.101923</td>\n",
       "      <td>-3.001923</td>\n",
       "    </tr>\n",
       "    <tr>\n",
       "      <th>2</th>\n",
       "      <td>-1.078462</td>\n",
       "      <td>2.721538</td>\n",
       "      <td>-1.478462</td>\n",
       "      <td>0.021538</td>\n",
       "      <td>0.671538</td>\n",
       "      <td>-3.578462</td>\n",
       "      <td>0.421538</td>\n",
       "      <td>1.921538</td>\n",
       "      <td>2.121538</td>\n",
       "      <td>-2.478462</td>\n",
       "      <td>...</td>\n",
       "      <td>-0.278462</td>\n",
       "      <td>-2.278462</td>\n",
       "      <td>-0.878462</td>\n",
       "      <td>-0.478462</td>\n",
       "      <td>-7.278462</td>\n",
       "      <td>-3.878462</td>\n",
       "      <td>-3.378462</td>\n",
       "      <td>1.921538</td>\n",
       "      <td>-4.378462</td>\n",
       "      <td>-4.678462</td>\n",
       "    </tr>\n",
       "    <tr>\n",
       "      <th>3</th>\n",
       "      <td>1.471538</td>\n",
       "      <td>0.921538</td>\n",
       "      <td>-0.828462</td>\n",
       "      <td>0.871538</td>\n",
       "      <td>2.471538</td>\n",
       "      <td>-3.728462</td>\n",
       "      <td>2.371538</td>\n",
       "      <td>5.571538</td>\n",
       "      <td>1.971538</td>\n",
       "      <td>-3.628462</td>\n",
       "      <td>...</td>\n",
       "      <td>-0.228462</td>\n",
       "      <td>-1.528462</td>\n",
       "      <td>0.371538</td>\n",
       "      <td>-0.128462</td>\n",
       "      <td>-5.728462</td>\n",
       "      <td>0.271538</td>\n",
       "      <td>-0.128462</td>\n",
       "      <td>0.271538</td>\n",
       "      <td>-4.828462</td>\n",
       "      <td>-2.328462</td>\n",
       "    </tr>\n",
       "    <tr>\n",
       "      <th>4</th>\n",
       "      <td>2.451923</td>\n",
       "      <td>1.051923</td>\n",
       "      <td>-2.498077</td>\n",
       "      <td>-0.298077</td>\n",
       "      <td>4.901923</td>\n",
       "      <td>-0.398077</td>\n",
       "      <td>3.201923</td>\n",
       "      <td>1.101923</td>\n",
       "      <td>5.801923</td>\n",
       "      <td>-0.198077</td>\n",
       "      <td>...</td>\n",
       "      <td>-0.798077</td>\n",
       "      <td>0.701923</td>\n",
       "      <td>0.601923</td>\n",
       "      <td>0.201923</td>\n",
       "      <td>0.501923</td>\n",
       "      <td>2.801923</td>\n",
       "      <td>1.201923</td>\n",
       "      <td>-0.998077</td>\n",
       "      <td>-4.898077</td>\n",
       "      <td>-0.198077</td>\n",
       "    </tr>\n",
       "    <tr>\n",
       "      <th>5</th>\n",
       "      <td>2.238846</td>\n",
       "      <td>-2.311154</td>\n",
       "      <td>-2.011154</td>\n",
       "      <td>-2.411154</td>\n",
       "      <td>1.638846</td>\n",
       "      <td>-1.961154</td>\n",
       "      <td>4.388846</td>\n",
       "      <td>-2.111154</td>\n",
       "      <td>4.088846</td>\n",
       "      <td>-2.211154</td>\n",
       "      <td>...</td>\n",
       "      <td>-1.611154</td>\n",
       "      <td>0.188846</td>\n",
       "      <td>0.388846</td>\n",
       "      <td>0.888846</td>\n",
       "      <td>-4.711154</td>\n",
       "      <td>6.288846</td>\n",
       "      <td>2.288846</td>\n",
       "      <td>-0.511154</td>\n",
       "      <td>-7.011154</td>\n",
       "      <td>-1.311154</td>\n",
       "    </tr>\n",
       "  </tbody>\n",
       "</table>\n",
       "<p>5 rows × 66 columns</p>\n",
       "</div>"
      ],
      "text/plain": [
       "year                 1955      1956      1957      1958      1959      1960  \\\n",
       "month month_day                                                               \n",
       "1     1          2.948077  4.948077 -1.601923  0.698077 -0.501923 -2.501923   \n",
       "      2         -1.078462  2.721538 -1.478462  0.021538  0.671538 -3.578462   \n",
       "      3          1.471538  0.921538 -0.828462  0.871538  2.471538 -3.728462   \n",
       "      4          2.451923  1.051923 -2.498077 -0.298077  4.901923 -0.398077   \n",
       "      5          2.238846 -2.311154 -2.011154 -2.411154  1.638846 -1.961154   \n",
       "\n",
       "year                 1961      1962      1963      1964  ...      2011  \\\n",
       "month month_day                                          ...             \n",
       "1     1          0.598077  1.498077  3.698077 -2.201923  ... -1.501923   \n",
       "      2          0.421538  1.921538  2.121538 -2.478462  ... -0.278462   \n",
       "      3          2.371538  5.571538  1.971538 -3.628462  ... -0.228462   \n",
       "      4          3.201923  1.101923  5.801923 -0.198077  ... -0.798077   \n",
       "      5          4.388846 -2.111154  4.088846 -2.211154  ... -1.611154   \n",
       "\n",
       "year                 2012      2013      2014      2015      2016      2017  \\\n",
       "month month_day                                                               \n",
       "1     1         -1.201923 -0.101923 -1.601923 -7.001923 -7.601923 -5.401923   \n",
       "      2         -2.278462 -0.878462 -0.478462 -7.278462 -3.878462 -3.378462   \n",
       "      3         -1.528462  0.371538 -0.128462 -5.728462  0.271538 -0.128462   \n",
       "      4          0.701923  0.601923  0.201923  0.501923  2.801923  1.201923   \n",
       "      5          0.188846  0.388846  0.888846 -4.711154  6.288846  2.288846   \n",
       "\n",
       "year                 2018      2019      2020  \n",
       "month month_day                                \n",
       "1     1         -0.101923 -3.101923 -3.001923  \n",
       "      2          1.921538 -4.378462 -4.678462  \n",
       "      3          0.271538 -4.828462 -2.328462  \n",
       "      4         -0.998077 -4.898077 -0.198077  \n",
       "      5         -0.511154 -7.011154 -1.311154  \n",
       "\n",
       "[5 rows x 66 columns]"
      ]
     },
     "execution_count": 44,
     "metadata": {},
     "output_type": "execute_result"
    }
   ],
   "source": [
    "diff_avg_extr_t = diff_avg_extr.transpose()\n",
    "diff_avg_extr_t.head(5)"
   ]
  },
  {
   "cell_type": "markdown",
   "id": "b1803713",
   "metadata": {},
   "source": [
    "* Now we can calculate the number of days with extreme average temperature for each year.\n",
    "* An extreme heat event is a day that the difference: average temperature - extreme temperature is positive."
   ]
  },
  {
   "cell_type": "code",
   "execution_count": 45,
   "id": "582f1bc2",
   "metadata": {},
   "outputs": [
    {
     "data": {
      "text/plain": [
       "year\n",
       "1955    128\n",
       "1956    113\n",
       "1957    116\n",
       "1958    130\n",
       "1959     96\n",
       "dtype: int64"
      ]
     },
     "execution_count": 45,
     "metadata": {},
     "output_type": "execute_result"
    }
   ],
   "source": [
    "num_extreme_events = (diff_avg_extr_t > 0).sum()\n",
    "num_extreme_events.head(5)"
   ]
  },
  {
   "cell_type": "markdown",
   "id": "4fa6e371",
   "metadata": {},
   "source": [
    "* Then, we will calculate the percentage of the extreme heat events over the number of observations for each year.\n",
    "* We don't have the same number of observation for all years, so it's a better indicator."
   ]
  },
  {
   "cell_type": "code",
   "execution_count": 46,
   "id": "fe2b9c4e",
   "metadata": {},
   "outputs": [
    {
     "data": {
      "text/plain": [
       "year\n",
       "1955    0.350685\n",
       "1956    0.308743\n",
       "1957    0.318681\n",
       "1958    0.356164\n",
       "1959    0.263014\n",
       "dtype: float64"
      ]
     },
     "execution_count": 46,
     "metadata": {},
     "output_type": "execute_result"
    }
   ],
   "source": [
    "pct_extreme_events = num_extreme_events / diff_avg_extr_t.count()\n",
    "pct_extreme_events.head(5)"
   ]
  },
  {
   "cell_type": "markdown",
   "id": "f9c24660",
   "metadata": {},
   "source": [
    "* Again for our plot we will use our baseline period as yardstick.\n",
    "* For that purpose, we will calculate the average percentage of days with extreme temperature for the baseline period."
   ]
  },
  {
   "cell_type": "code",
   "execution_count": 47,
   "id": "f0e1aa6f",
   "metadata": {},
   "outputs": [
    {
     "data": {
      "text/plain": [
       "0.24834654827917796"
      ]
     },
     "execution_count": 47,
     "metadata": {},
     "output_type": "execute_result"
    }
   ],
   "source": [
    "baseline_extreme_events_pct = pct_extreme_events[pct_extreme_events.index.isin(range(1974,2000))].mean()\n",
    "baseline_extreme_events_pct"
   ]
  },
  {
   "cell_type": "markdown",
   "id": "0975e026",
   "metadata": {},
   "source": [
    "### Plot\n",
    "* We can now plot our data!\n",
    "* We will use the orange color for the years that are above the baseline and blue for the years below it."
   ]
  },
  {
   "cell_type": "code",
   "execution_count": 48,
   "id": "fcd5aee5",
   "metadata": {},
   "outputs": [
    {
     "data": {
      "text/plain": [
       "<matplotlib.lines.Line2D at 0x298e9a5c280>"
      ]
     },
     "execution_count": 48,
     "metadata": {},
     "output_type": "execute_result"
    },
    {
     "data": {
      "image/png": "[encoded data removed]",
      "text/plain": [
       "<Figure size 1008x648 with 1 Axes>"
      ]
     },
     "metadata": {},
     "output_type": "display_data"
    }
   ],
   "source": [
    "plt.style.use('ggplot')\n",
    "plt.figure(figsize=(14, 9))\n",
    "\n",
    "plt.bar(pct_extreme_events.index, \n",
    "        pct_extreme_events,\n",
    "        width=0.180,\n",
    "        color=np.where(pct_extreme_events < baseline_extreme_events_pct, 'blue', 'orange'))\n",
    "plt.axhline(baseline_extreme_events_pct, color=\"gray\")"
   ]
  },
  {
   "cell_type": "markdown",
   "id": "0a5ae03c",
   "metadata": {},
   "source": [
    "### Normalization\n",
    "* The procedure that we previously followed has two problems, that are related to the nature of Celsius as units of measurement:\n",
    "    1. We would get very different results, if we used another unit of measurement like Fahrehneit. That's because the 10% difference is related to the unit of measurement we use, as temperature units are not proportionally connected.\n",
    "    2. Celsius zero point is different that the absolute zero, which has implications when calculating percentage changes. For example a 10% increase from -10 is 1 Celsius degree, while a 10% increase from 5 is 0.5 Celsius degree, which means lower percentage change for higher temperature.\n",
    "* A first way to solve this issue is to use Kelvin degrees. This would work fine, we just had to adjust the 10% difference as to what we consider an extreme event.\n",
    "* Another solution would be to normalize our data. That's what we will do here.\n",
    "* We will use the formula x' = (x - xmin)/(xmax - xmin)\n",
    "* In other respects, the procedure that we will follow is the same as before, so the only complemenatry text to our code will be a note: ***Normalization***, before every component that we will normalize our data."
   ]
  },
  {
   "cell_type": "markdown",
   "id": "c81da4cd",
   "metadata": {},
   "source": [
    "Note: ***Normalization***"
   ]
  },
  {
   "cell_type": "code",
   "execution_count": 49,
   "id": "b8dbb82e",
   "metadata": {},
   "outputs": [
    {
     "data": {
      "text/html": [
       "<div>\n",
       "<style scoped>\n",
       "    .dataframe tbody tr th:only-of-type {\n",
       "        vertical-align: middle;\n",
       "    }\n",
       "\n",
       "    .dataframe tbody tr th {\n",
       "        vertical-align: top;\n",
       "    }\n",
       "\n",
       "    .dataframe thead tr th {\n",
       "        text-align: left;\n",
       "    }\n",
       "\n",
       "    .dataframe thead tr:last-of-type th {\n",
       "        text-align: right;\n",
       "    }\n",
       "</style>\n",
       "<table border=\"1\" class=\"dataframe\">\n",
       "  <thead>\n",
       "    <tr>\n",
       "      <th>month</th>\n",
       "      <th colspan=\"10\" halign=\"left\">1</th>\n",
       "      <th>...</th>\n",
       "      <th colspan=\"9\" halign=\"left\">12</th>\n",
       "      <th>2</th>\n",
       "    </tr>\n",
       "    <tr>\n",
       "      <th>month_day</th>\n",
       "      <th>1</th>\n",
       "      <th>2</th>\n",
       "      <th>3</th>\n",
       "      <th>4</th>\n",
       "      <th>5</th>\n",
       "      <th>6</th>\n",
       "      <th>7</th>\n",
       "      <th>8</th>\n",
       "      <th>9</th>\n",
       "      <th>10</th>\n",
       "      <th>...</th>\n",
       "      <th>23</th>\n",
       "      <th>24</th>\n",
       "      <th>25</th>\n",
       "      <th>26</th>\n",
       "      <th>27</th>\n",
       "      <th>28</th>\n",
       "      <th>29</th>\n",
       "      <th>30</th>\n",
       "      <th>31</th>\n",
       "      <th>29</th>\n",
       "    </tr>\n",
       "    <tr>\n",
       "      <th>year</th>\n",
       "      <th></th>\n",
       "      <th></th>\n",
       "      <th></th>\n",
       "      <th></th>\n",
       "      <th></th>\n",
       "      <th></th>\n",
       "      <th></th>\n",
       "      <th></th>\n",
       "      <th></th>\n",
       "      <th></th>\n",
       "      <th></th>\n",
       "      <th></th>\n",
       "      <th></th>\n",
       "      <th></th>\n",
       "      <th></th>\n",
       "      <th></th>\n",
       "      <th></th>\n",
       "      <th></th>\n",
       "      <th></th>\n",
       "      <th></th>\n",
       "      <th></th>\n",
       "    </tr>\n",
       "  </thead>\n",
       "  <tbody>\n",
       "    <tr>\n",
       "      <th>1955</th>\n",
       "      <td>0.443089</td>\n",
       "      <td>0.344173</td>\n",
       "      <td>0.398374</td>\n",
       "      <td>0.407859</td>\n",
       "      <td>0.410569</td>\n",
       "      <td>0.440379</td>\n",
       "      <td>0.414634</td>\n",
       "      <td>0.482385</td>\n",
       "      <td>0.452575</td>\n",
       "      <td>0.411924</td>\n",
       "      <td>...</td>\n",
       "      <td>0.456640</td>\n",
       "      <td>0.440379</td>\n",
       "      <td>0.379404</td>\n",
       "      <td>0.368564</td>\n",
       "      <td>0.330623</td>\n",
       "      <td>0.285908</td>\n",
       "      <td>0.295393</td>\n",
       "      <td>0.304878</td>\n",
       "      <td>0.428184</td>\n",
       "      <td>NaN</td>\n",
       "    </tr>\n",
       "    <tr>\n",
       "      <th>1956</th>\n",
       "      <td>0.497290</td>\n",
       "      <td>0.447154</td>\n",
       "      <td>0.383469</td>\n",
       "      <td>0.369919</td>\n",
       "      <td>0.287263</td>\n",
       "      <td>0.247967</td>\n",
       "      <td>0.302168</td>\n",
       "      <td>0.334688</td>\n",
       "      <td>0.333333</td>\n",
       "      <td>0.289973</td>\n",
       "      <td>...</td>\n",
       "      <td>0.319783</td>\n",
       "      <td>0.441734</td>\n",
       "      <td>0.390244</td>\n",
       "      <td>0.333333</td>\n",
       "      <td>0.357724</td>\n",
       "      <td>0.279133</td>\n",
       "      <td>0.298103</td>\n",
       "      <td>0.302168</td>\n",
       "      <td>0.275068</td>\n",
       "      <td>0.307588</td>\n",
       "    </tr>\n",
       "    <tr>\n",
       "      <th>1957</th>\n",
       "      <td>0.319783</td>\n",
       "      <td>0.333333</td>\n",
       "      <td>0.336043</td>\n",
       "      <td>0.273713</td>\n",
       "      <td>0.295393</td>\n",
       "      <td>0.285908</td>\n",
       "      <td>0.315718</td>\n",
       "      <td>0.287263</td>\n",
       "      <td>0.254743</td>\n",
       "      <td>0.311653</td>\n",
       "      <td>...</td>\n",
       "      <td>0.295393</td>\n",
       "      <td>0.322493</td>\n",
       "      <td>0.306233</td>\n",
       "      <td>0.330623</td>\n",
       "      <td>0.330623</td>\n",
       "      <td>0.319783</td>\n",
       "      <td>0.376694</td>\n",
       "      <td>0.479675</td>\n",
       "      <td>0.482385</td>\n",
       "      <td>NaN</td>\n",
       "    </tr>\n",
       "    <tr>\n",
       "      <th>1958</th>\n",
       "      <td>0.382114</td>\n",
       "      <td>0.373984</td>\n",
       "      <td>0.382114</td>\n",
       "      <td>0.333333</td>\n",
       "      <td>0.284553</td>\n",
       "      <td>0.330623</td>\n",
       "      <td>0.422764</td>\n",
       "      <td>0.476965</td>\n",
       "      <td>0.265583</td>\n",
       "      <td>0.211382</td>\n",
       "      <td>...</td>\n",
       "      <td>0.509485</td>\n",
       "      <td>0.498645</td>\n",
       "      <td>0.468835</td>\n",
       "      <td>0.403794</td>\n",
       "      <td>0.422764</td>\n",
       "      <td>0.390244</td>\n",
       "      <td>0.420054</td>\n",
       "      <td>0.357724</td>\n",
       "      <td>0.298103</td>\n",
       "      <td>NaN</td>\n",
       "    </tr>\n",
       "    <tr>\n",
       "      <th>1959</th>\n",
       "      <td>0.349593</td>\n",
       "      <td>0.391599</td>\n",
       "      <td>0.425474</td>\n",
       "      <td>0.474255</td>\n",
       "      <td>0.394309</td>\n",
       "      <td>0.276423</td>\n",
       "      <td>0.247967</td>\n",
       "      <td>0.308943</td>\n",
       "      <td>0.420054</td>\n",
       "      <td>0.392954</td>\n",
       "      <td>...</td>\n",
       "      <td>0.387534</td>\n",
       "      <td>0.375339</td>\n",
       "      <td>0.406504</td>\n",
       "      <td>0.383469</td>\n",
       "      <td>0.373984</td>\n",
       "      <td>0.421409</td>\n",
       "      <td>0.422764</td>\n",
       "      <td>0.338753</td>\n",
       "      <td>0.334688</td>\n",
       "      <td>NaN</td>\n",
       "    </tr>\n",
       "  </tbody>\n",
       "</table>\n",
       "<p>5 rows × 366 columns</p>\n",
       "</div>"
      ],
      "text/plain": [
       "month            1                                                     \\\n",
       "month_day        1         2         3         4         5         6    \n",
       "year                                                                    \n",
       "1955       0.443089  0.344173  0.398374  0.407859  0.410569  0.440379   \n",
       "1956       0.497290  0.447154  0.383469  0.369919  0.287263  0.247967   \n",
       "1957       0.319783  0.333333  0.336043  0.273713  0.295393  0.285908   \n",
       "1958       0.382114  0.373984  0.382114  0.333333  0.284553  0.330623   \n",
       "1959       0.349593  0.391599  0.425474  0.474255  0.394309  0.276423   \n",
       "\n",
       "month                                              ...        12            \\\n",
       "month_day        7         8         9         10  ...        23        24   \n",
       "year                                               ...                       \n",
       "1955       0.414634  0.482385  0.452575  0.411924  ...  0.456640  0.440379   \n",
       "1956       0.302168  0.334688  0.333333  0.289973  ...  0.319783  0.441734   \n",
       "1957       0.315718  0.287263  0.254743  0.311653  ...  0.295393  0.322493   \n",
       "1958       0.422764  0.476965  0.265583  0.211382  ...  0.509485  0.498645   \n",
       "1959       0.247967  0.308943  0.420054  0.392954  ...  0.387534  0.375339   \n",
       "\n",
       "month                                                                  \\\n",
       "month_day        25        26        27        28        29        30   \n",
       "year                                                                    \n",
       "1955       0.379404  0.368564  0.330623  0.285908  0.295393  0.304878   \n",
       "1956       0.390244  0.333333  0.357724  0.279133  0.298103  0.302168   \n",
       "1957       0.306233  0.330623  0.330623  0.319783  0.376694  0.479675   \n",
       "1958       0.468835  0.403794  0.422764  0.390244  0.420054  0.357724   \n",
       "1959       0.406504  0.383469  0.373984  0.421409  0.422764  0.338753   \n",
       "\n",
       "month                      2   \n",
       "month_day        31        29  \n",
       "year                           \n",
       "1955       0.428184       NaN  \n",
       "1956       0.275068  0.307588  \n",
       "1957       0.482385       NaN  \n",
       "1958       0.298103       NaN  \n",
       "1959       0.334688       NaN  \n",
       "\n",
       "[5 rows x 366 columns]"
      ]
     },
     "execution_count": 49,
     "metadata": {},
     "output_type": "execute_result"
    }
   ],
   "source": [
    "min_avg_temp = df[\"avg_temp\"].min()\n",
    "max_avg_temp = df[\"avg_temp\"].max()\n",
    "month_day_avg_temp_norm = (df.pivot(index=\"year\", columns=[\"month\", \"month_day\"], values=\"avg_temp\")- min_avg_temp)/ \\\n",
    "                            (max_avg_temp - min_avg_temp)\n",
    "month_day_avg_temp_norm.head(5)"
   ]
  },
  {
   "cell_type": "markdown",
   "id": "9cc3b990",
   "metadata": {},
   "source": [
    "Note: ***Normalization***"
   ]
  },
  {
   "cell_type": "code",
   "execution_count": 50,
   "id": "c843a4e9",
   "metadata": {},
   "outputs": [
    {
     "data": {
      "text/plain": [
       "month  month_day\n",
       "1      1            0.335105\n",
       "       2            0.344382\n",
       "       3            0.330832\n",
       "       4            0.315301\n",
       "       5            0.323014\n",
       "dtype: float64"
      ]
     },
     "execution_count": 50,
     "metadata": {},
     "output_type": "execute_result"
    }
   ],
   "source": [
    "# base_month_day_avg_temp = month_day_avg_temp.loc[1974:1999] # already calculated\n",
    "baseline_avg_temp_norm = (base_month_day_avg_temp.mean() - min_avg_temp)/ (max_avg_temp - min_avg_temp)\n",
    "baseline_avg_temp_norm.head(5)"
   ]
  },
  {
   "cell_type": "code",
   "execution_count": 51,
   "id": "dded7995",
   "metadata": {},
   "outputs": [
    {
     "data": {
      "text/plain": [
       "month  month_day\n",
       "1      1            0.368616\n",
       "       2            0.378820\n",
       "       3            0.363915\n",
       "       4            0.346831\n",
       "       5            0.355316\n",
       "dtype: float64"
      ]
     },
     "execution_count": 51,
     "metadata": {},
     "output_type": "execute_result"
    }
   ],
   "source": [
    "baseline_extreme_temp_norm = baseline_avg_temp_norm.map(lambda x : x + 0.1 * abs(x))\n",
    "baseline_extreme_temp_norm.head(5)"
   ]
  },
  {
   "cell_type": "code",
   "execution_count": 52,
   "id": "fb549828",
   "metadata": {},
   "outputs": [
    {
     "data": {
      "text/html": [
       "<div>\n",
       "<style scoped>\n",
       "    .dataframe tbody tr th:only-of-type {\n",
       "        vertical-align: middle;\n",
       "    }\n",
       "\n",
       "    .dataframe tbody tr th {\n",
       "        vertical-align: top;\n",
       "    }\n",
       "\n",
       "    .dataframe thead tr th {\n",
       "        text-align: left;\n",
       "    }\n",
       "\n",
       "    .dataframe thead tr:last-of-type th {\n",
       "        text-align: right;\n",
       "    }\n",
       "</style>\n",
       "<table border=\"1\" class=\"dataframe\">\n",
       "  <thead>\n",
       "    <tr>\n",
       "      <th>month</th>\n",
       "      <th colspan=\"10\" halign=\"left\">1</th>\n",
       "      <th>...</th>\n",
       "      <th colspan=\"9\" halign=\"left\">12</th>\n",
       "      <th>2</th>\n",
       "    </tr>\n",
       "    <tr>\n",
       "      <th>month_day</th>\n",
       "      <th>1</th>\n",
       "      <th>2</th>\n",
       "      <th>3</th>\n",
       "      <th>4</th>\n",
       "      <th>5</th>\n",
       "      <th>6</th>\n",
       "      <th>7</th>\n",
       "      <th>8</th>\n",
       "      <th>9</th>\n",
       "      <th>10</th>\n",
       "      <th>...</th>\n",
       "      <th>23</th>\n",
       "      <th>24</th>\n",
       "      <th>25</th>\n",
       "      <th>26</th>\n",
       "      <th>27</th>\n",
       "      <th>28</th>\n",
       "      <th>29</th>\n",
       "      <th>30</th>\n",
       "      <th>31</th>\n",
       "      <th>29</th>\n",
       "    </tr>\n",
       "    <tr>\n",
       "      <th>year</th>\n",
       "      <th></th>\n",
       "      <th></th>\n",
       "      <th></th>\n",
       "      <th></th>\n",
       "      <th></th>\n",
       "      <th></th>\n",
       "      <th></th>\n",
       "      <th></th>\n",
       "      <th></th>\n",
       "      <th></th>\n",
       "      <th></th>\n",
       "      <th></th>\n",
       "      <th></th>\n",
       "      <th></th>\n",
       "      <th></th>\n",
       "      <th></th>\n",
       "      <th></th>\n",
       "      <th></th>\n",
       "      <th></th>\n",
       "      <th></th>\n",
       "      <th></th>\n",
       "    </tr>\n",
       "  </thead>\n",
       "  <tbody>\n",
       "    <tr>\n",
       "      <th>1955</th>\n",
       "      <td>0.074474</td>\n",
       "      <td>-0.034647</td>\n",
       "      <td>0.034459</td>\n",
       "      <td>0.061028</td>\n",
       "      <td>0.055253</td>\n",
       "      <td>0.087815</td>\n",
       "      <td>0.052554</td>\n",
       "      <td>0.128445</td>\n",
       "      <td>0.120878</td>\n",
       "      <td>0.062570</td>\n",
       "      <td>...</td>\n",
       "      <td>0.062570</td>\n",
       "      <td>0.064655</td>\n",
       "      <td>0.003679</td>\n",
       "      <td>0.011184</td>\n",
       "      <td>-0.020221</td>\n",
       "      <td>-0.078007</td>\n",
       "      <td>-0.085491</td>\n",
       "      <td>-0.093204</td>\n",
       "      <td>0.040421</td>\n",
       "      <td>NaN</td>\n",
       "    </tr>\n",
       "    <tr>\n",
       "      <th>1956</th>\n",
       "      <td>0.128674</td>\n",
       "      <td>0.068334</td>\n",
       "      <td>0.019554</td>\n",
       "      <td>0.023087</td>\n",
       "      <td>-0.068053</td>\n",
       "      <td>-0.104597</td>\n",
       "      <td>-0.059912</td>\n",
       "      <td>-0.019252</td>\n",
       "      <td>0.001636</td>\n",
       "      <td>-0.059381</td>\n",
       "      <td>...</td>\n",
       "      <td>-0.074286</td>\n",
       "      <td>0.066010</td>\n",
       "      <td>0.014519</td>\n",
       "      <td>-0.024046</td>\n",
       "      <td>0.006879</td>\n",
       "      <td>-0.084782</td>\n",
       "      <td>-0.082781</td>\n",
       "      <td>-0.095914</td>\n",
       "      <td>-0.112695</td>\n",
       "      <td>-0.031256</td>\n",
       "    </tr>\n",
       "    <tr>\n",
       "      <th>1957</th>\n",
       "      <td>-0.048833</td>\n",
       "      <td>-0.045487</td>\n",
       "      <td>-0.027872</td>\n",
       "      <td>-0.073119</td>\n",
       "      <td>-0.059923</td>\n",
       "      <td>-0.066656</td>\n",
       "      <td>-0.046362</td>\n",
       "      <td>-0.066677</td>\n",
       "      <td>-0.076954</td>\n",
       "      <td>-0.037701</td>\n",
       "      <td>...</td>\n",
       "      <td>-0.098676</td>\n",
       "      <td>-0.053231</td>\n",
       "      <td>-0.069491</td>\n",
       "      <td>-0.026756</td>\n",
       "      <td>-0.020221</td>\n",
       "      <td>-0.044132</td>\n",
       "      <td>-0.004190</td>\n",
       "      <td>0.081593</td>\n",
       "      <td>0.094622</td>\n",
       "      <td>NaN</td>\n",
       "    </tr>\n",
       "    <tr>\n",
       "      <th>1958</th>\n",
       "      <td>0.013498</td>\n",
       "      <td>-0.004836</td>\n",
       "      <td>0.018199</td>\n",
       "      <td>-0.013498</td>\n",
       "      <td>-0.070763</td>\n",
       "      <td>-0.021941</td>\n",
       "      <td>0.060684</td>\n",
       "      <td>0.123025</td>\n",
       "      <td>-0.066114</td>\n",
       "      <td>-0.137972</td>\n",
       "      <td>...</td>\n",
       "      <td>0.115416</td>\n",
       "      <td>0.122921</td>\n",
       "      <td>0.093110</td>\n",
       "      <td>0.046414</td>\n",
       "      <td>0.071920</td>\n",
       "      <td>0.026329</td>\n",
       "      <td>0.039170</td>\n",
       "      <td>-0.040359</td>\n",
       "      <td>-0.089660</td>\n",
       "      <td>NaN</td>\n",
       "    </tr>\n",
       "    <tr>\n",
       "      <th>1959</th>\n",
       "      <td>-0.019022</td>\n",
       "      <td>0.012779</td>\n",
       "      <td>0.061559</td>\n",
       "      <td>0.127423</td>\n",
       "      <td>0.038993</td>\n",
       "      <td>-0.076141</td>\n",
       "      <td>-0.114113</td>\n",
       "      <td>-0.044997</td>\n",
       "      <td>0.088357</td>\n",
       "      <td>0.043600</td>\n",
       "      <td>...</td>\n",
       "      <td>-0.006535</td>\n",
       "      <td>-0.000386</td>\n",
       "      <td>0.030780</td>\n",
       "      <td>0.026089</td>\n",
       "      <td>0.023139</td>\n",
       "      <td>0.057494</td>\n",
       "      <td>0.041880</td>\n",
       "      <td>-0.059329</td>\n",
       "      <td>-0.053075</td>\n",
       "      <td>NaN</td>\n",
       "    </tr>\n",
       "  </tbody>\n",
       "</table>\n",
       "<p>5 rows × 366 columns</p>\n",
       "</div>"
      ],
      "text/plain": [
       "month            1                                                     \\\n",
       "month_day        1         2         3         4         5         6    \n",
       "year                                                                    \n",
       "1955       0.074474 -0.034647  0.034459  0.061028  0.055253  0.087815   \n",
       "1956       0.128674  0.068334  0.019554  0.023087 -0.068053 -0.104597   \n",
       "1957      -0.048833 -0.045487 -0.027872 -0.073119 -0.059923 -0.066656   \n",
       "1958       0.013498 -0.004836  0.018199 -0.013498 -0.070763 -0.021941   \n",
       "1959      -0.019022  0.012779  0.061559  0.127423  0.038993 -0.076141   \n",
       "\n",
       "month                                              ...        12            \\\n",
       "month_day        7         8         9         10  ...        23        24   \n",
       "year                                               ...                       \n",
       "1955       0.052554  0.128445  0.120878  0.062570  ...  0.062570  0.064655   \n",
       "1956      -0.059912 -0.019252  0.001636 -0.059381  ... -0.074286  0.066010   \n",
       "1957      -0.046362 -0.066677 -0.076954 -0.037701  ... -0.098676 -0.053231   \n",
       "1958       0.060684  0.123025 -0.066114 -0.137972  ...  0.115416  0.122921   \n",
       "1959      -0.114113 -0.044997  0.088357  0.043600  ... -0.006535 -0.000386   \n",
       "\n",
       "month                                                                  \\\n",
       "month_day        25        26        27        28        29        30   \n",
       "year                                                                    \n",
       "1955       0.003679  0.011184 -0.020221 -0.078007 -0.085491 -0.093204   \n",
       "1956       0.014519 -0.024046  0.006879 -0.084782 -0.082781 -0.095914   \n",
       "1957      -0.069491 -0.026756 -0.020221 -0.044132 -0.004190  0.081593   \n",
       "1958       0.093110  0.046414  0.071920  0.026329  0.039170 -0.040359   \n",
       "1959       0.030780  0.026089  0.023139  0.057494  0.041880 -0.059329   \n",
       "\n",
       "month                      2   \n",
       "month_day        31        29  \n",
       "year                           \n",
       "1955       0.040421       NaN  \n",
       "1956      -0.112695 -0.031256  \n",
       "1957       0.094622       NaN  \n",
       "1958      -0.089660       NaN  \n",
       "1959      -0.053075       NaN  \n",
       "\n",
       "[5 rows x 366 columns]"
      ]
     },
     "execution_count": 52,
     "metadata": {},
     "output_type": "execute_result"
    }
   ],
   "source": [
    "diff_avg_extr_norm = month_day_avg_temp_norm - baseline_extreme_temp_norm\n",
    "diff_avg_extr_norm.head(5)"
   ]
  },
  {
   "cell_type": "code",
   "execution_count": 53,
   "id": "d5e233c7",
   "metadata": {},
   "outputs": [
    {
     "data": {
      "text/html": [
       "<div>\n",
       "<style scoped>\n",
       "    .dataframe tbody tr th:only-of-type {\n",
       "        vertical-align: middle;\n",
       "    }\n",
       "\n",
       "    .dataframe tbody tr th {\n",
       "        vertical-align: top;\n",
       "    }\n",
       "\n",
       "    .dataframe thead th {\n",
       "        text-align: right;\n",
       "    }\n",
       "</style>\n",
       "<table border=\"1\" class=\"dataframe\">\n",
       "  <thead>\n",
       "    <tr style=\"text-align: right;\">\n",
       "      <th></th>\n",
       "      <th>year</th>\n",
       "      <th>1955</th>\n",
       "      <th>1956</th>\n",
       "      <th>1957</th>\n",
       "      <th>1958</th>\n",
       "      <th>1959</th>\n",
       "      <th>1960</th>\n",
       "      <th>1961</th>\n",
       "      <th>1962</th>\n",
       "      <th>1963</th>\n",
       "      <th>1964</th>\n",
       "      <th>...</th>\n",
       "      <th>2011</th>\n",
       "      <th>2012</th>\n",
       "      <th>2013</th>\n",
       "      <th>2014</th>\n",
       "      <th>2015</th>\n",
       "      <th>2016</th>\n",
       "      <th>2017</th>\n",
       "      <th>2018</th>\n",
       "      <th>2019</th>\n",
       "      <th>2020</th>\n",
       "    </tr>\n",
       "    <tr>\n",
       "      <th>month</th>\n",
       "      <th>month_day</th>\n",
       "      <th></th>\n",
       "      <th></th>\n",
       "      <th></th>\n",
       "      <th></th>\n",
       "      <th></th>\n",
       "      <th></th>\n",
       "      <th></th>\n",
       "      <th></th>\n",
       "      <th></th>\n",
       "      <th></th>\n",
       "      <th></th>\n",
       "      <th></th>\n",
       "      <th></th>\n",
       "      <th></th>\n",
       "      <th></th>\n",
       "      <th></th>\n",
       "      <th></th>\n",
       "      <th></th>\n",
       "      <th></th>\n",
       "      <th></th>\n",
       "      <th></th>\n",
       "    </tr>\n",
       "  </thead>\n",
       "  <tbody>\n",
       "    <tr>\n",
       "      <th rowspan=\"5\" valign=\"top\">1</th>\n",
       "      <th>1</th>\n",
       "      <td>0.074474</td>\n",
       "      <td>0.128674</td>\n",
       "      <td>-0.048833</td>\n",
       "      <td>0.013498</td>\n",
       "      <td>-0.019022</td>\n",
       "      <td>-0.073223</td>\n",
       "      <td>0.010788</td>\n",
       "      <td>0.035178</td>\n",
       "      <td>0.094799</td>\n",
       "      <td>-0.065093</td>\n",
       "      <td>...</td>\n",
       "      <td>-0.046123</td>\n",
       "      <td>-0.037992</td>\n",
       "      <td>-0.008182</td>\n",
       "      <td>-0.048833</td>\n",
       "      <td>-0.195174</td>\n",
       "      <td>-0.211434</td>\n",
       "      <td>-0.151814</td>\n",
       "      <td>-0.008182</td>\n",
       "      <td>-0.089483</td>\n",
       "      <td>-0.086773</td>\n",
       "    </tr>\n",
       "    <tr>\n",
       "      <th>2</th>\n",
       "      <td>-0.034647</td>\n",
       "      <td>0.068334</td>\n",
       "      <td>-0.045487</td>\n",
       "      <td>-0.004836</td>\n",
       "      <td>0.012779</td>\n",
       "      <td>-0.102397</td>\n",
       "      <td>0.006004</td>\n",
       "      <td>0.046654</td>\n",
       "      <td>0.052074</td>\n",
       "      <td>-0.072587</td>\n",
       "      <td>...</td>\n",
       "      <td>-0.012966</td>\n",
       "      <td>-0.067167</td>\n",
       "      <td>-0.029227</td>\n",
       "      <td>-0.018386</td>\n",
       "      <td>-0.202668</td>\n",
       "      <td>-0.110527</td>\n",
       "      <td>-0.096977</td>\n",
       "      <td>0.046654</td>\n",
       "      <td>-0.124078</td>\n",
       "      <td>-0.132208</td>\n",
       "    </tr>\n",
       "    <tr>\n",
       "      <th>3</th>\n",
       "      <td>0.034459</td>\n",
       "      <td>0.019554</td>\n",
       "      <td>-0.027872</td>\n",
       "      <td>0.018199</td>\n",
       "      <td>0.061559</td>\n",
       "      <td>-0.106462</td>\n",
       "      <td>0.058849</td>\n",
       "      <td>0.145570</td>\n",
       "      <td>0.048009</td>\n",
       "      <td>-0.103752</td>\n",
       "      <td>...</td>\n",
       "      <td>-0.011611</td>\n",
       "      <td>-0.046842</td>\n",
       "      <td>0.004649</td>\n",
       "      <td>-0.008901</td>\n",
       "      <td>-0.160663</td>\n",
       "      <td>0.001939</td>\n",
       "      <td>-0.008901</td>\n",
       "      <td>0.001939</td>\n",
       "      <td>-0.136273</td>\n",
       "      <td>-0.068522</td>\n",
       "    </tr>\n",
       "    <tr>\n",
       "      <th>4</th>\n",
       "      <td>0.061028</td>\n",
       "      <td>0.023087</td>\n",
       "      <td>-0.073119</td>\n",
       "      <td>-0.013498</td>\n",
       "      <td>0.127423</td>\n",
       "      <td>-0.016208</td>\n",
       "      <td>0.081353</td>\n",
       "      <td>0.024442</td>\n",
       "      <td>0.151814</td>\n",
       "      <td>-0.010788</td>\n",
       "      <td>...</td>\n",
       "      <td>-0.027048</td>\n",
       "      <td>0.013602</td>\n",
       "      <td>0.010892</td>\n",
       "      <td>0.000052</td>\n",
       "      <td>0.008182</td>\n",
       "      <td>0.070513</td>\n",
       "      <td>0.027152</td>\n",
       "      <td>-0.032468</td>\n",
       "      <td>-0.138159</td>\n",
       "      <td>-0.010788</td>\n",
       "    </tr>\n",
       "    <tr>\n",
       "      <th>5</th>\n",
       "      <td>0.055253</td>\n",
       "      <td>-0.068053</td>\n",
       "      <td>-0.059923</td>\n",
       "      <td>-0.070763</td>\n",
       "      <td>0.038993</td>\n",
       "      <td>-0.058568</td>\n",
       "      <td>0.113519</td>\n",
       "      <td>-0.062633</td>\n",
       "      <td>0.105389</td>\n",
       "      <td>-0.065343</td>\n",
       "      <td>...</td>\n",
       "      <td>-0.049083</td>\n",
       "      <td>-0.000302</td>\n",
       "      <td>0.005118</td>\n",
       "      <td>0.018668</td>\n",
       "      <td>-0.133094</td>\n",
       "      <td>0.165009</td>\n",
       "      <td>0.056608</td>\n",
       "      <td>-0.019272</td>\n",
       "      <td>-0.195424</td>\n",
       "      <td>-0.040953</td>\n",
       "    </tr>\n",
       "  </tbody>\n",
       "</table>\n",
       "<p>5 rows × 66 columns</p>\n",
       "</div>"
      ],
      "text/plain": [
       "year                 1955      1956      1957      1958      1959      1960  \\\n",
       "month month_day                                                               \n",
       "1     1          0.074474  0.128674 -0.048833  0.013498 -0.019022 -0.073223   \n",
       "      2         -0.034647  0.068334 -0.045487 -0.004836  0.012779 -0.102397   \n",
       "      3          0.034459  0.019554 -0.027872  0.018199  0.061559 -0.106462   \n",
       "      4          0.061028  0.023087 -0.073119 -0.013498  0.127423 -0.016208   \n",
       "      5          0.055253 -0.068053 -0.059923 -0.070763  0.038993 -0.058568   \n",
       "\n",
       "year                 1961      1962      1963      1964  ...      2011  \\\n",
       "month month_day                                          ...             \n",
       "1     1          0.010788  0.035178  0.094799 -0.065093  ... -0.046123   \n",
       "      2          0.006004  0.046654  0.052074 -0.072587  ... -0.012966   \n",
       "      3          0.058849  0.145570  0.048009 -0.103752  ... -0.011611   \n",
       "      4          0.081353  0.024442  0.151814 -0.010788  ... -0.027048   \n",
       "      5          0.113519 -0.062633  0.105389 -0.065343  ... -0.049083   \n",
       "\n",
       "year                 2012      2013      2014      2015      2016      2017  \\\n",
       "month month_day                                                               \n",
       "1     1         -0.037992 -0.008182 -0.048833 -0.195174 -0.211434 -0.151814   \n",
       "      2         -0.067167 -0.029227 -0.018386 -0.202668 -0.110527 -0.096977   \n",
       "      3         -0.046842  0.004649 -0.008901 -0.160663  0.001939 -0.008901   \n",
       "      4          0.013602  0.010892  0.000052  0.008182  0.070513  0.027152   \n",
       "      5         -0.000302  0.005118  0.018668 -0.133094  0.165009  0.056608   \n",
       "\n",
       "year                 2018      2019      2020  \n",
       "month month_day                                \n",
       "1     1         -0.008182 -0.089483 -0.086773  \n",
       "      2          0.046654 -0.124078 -0.132208  \n",
       "      3          0.001939 -0.136273 -0.068522  \n",
       "      4         -0.032468 -0.138159 -0.010788  \n",
       "      5         -0.019272 -0.195424 -0.040953  \n",
       "\n",
       "[5 rows x 66 columns]"
      ]
     },
     "execution_count": 53,
     "metadata": {},
     "output_type": "execute_result"
    }
   ],
   "source": [
    "diff_avg_extr_norm_t = diff_avg_extr_norm.transpose()\n",
    "diff_avg_extr_norm_t.head(5)"
   ]
  },
  {
   "cell_type": "code",
   "execution_count": 54,
   "id": "00f09bb4",
   "metadata": {},
   "outputs": [
    {
     "data": {
      "text/plain": [
       "year\n",
       "1955    123\n",
       "1956    103\n",
       "1957    100\n",
       "1958    118\n",
       "1959     81\n",
       "dtype: int64"
      ]
     },
     "execution_count": 54,
     "metadata": {},
     "output_type": "execute_result"
    }
   ],
   "source": [
    "num_extreme_events_norm = (diff_avg_extr_norm_t > 0).sum()\n",
    "num_extreme_events_norm.head(5)"
   ]
  },
  {
   "cell_type": "code",
   "execution_count": 55,
   "id": "3cf6b5d9",
   "metadata": {},
   "outputs": [
    {
     "data": {
      "text/plain": [
       "year\n",
       "1955    0.350685\n",
       "1956    0.308743\n",
       "1957    0.318681\n",
       "1958    0.356164\n",
       "1959    0.263014\n",
       "dtype: float64"
      ]
     },
     "execution_count": 55,
     "metadata": {},
     "output_type": "execute_result"
    }
   ],
   "source": [
    "pct_extreme_events_norm = num_extreme_events_norm / diff_avg_extr_norm_t.count()\n",
    "pct_extreme_events.head(5)"
   ]
  },
  {
   "cell_type": "code",
   "execution_count": 56,
   "id": "72db974c",
   "metadata": {},
   "outputs": [
    {
     "data": {
      "text/plain": [
       "0.223177402730513"
      ]
     },
     "execution_count": 56,
     "metadata": {},
     "output_type": "execute_result"
    }
   ],
   "source": [
    "baseline_extreme_events_pct_norm = pct_extreme_events_norm[pct_extreme_events_norm.index.isin(range(1974,2000))].mean()\n",
    "baseline_extreme_events_pct_norm"
   ]
  },
  {
   "cell_type": "code",
   "execution_count": 57,
   "id": "01c18e2f",
   "metadata": {},
   "outputs": [
    {
     "data": {
      "text/plain": [
       "<matplotlib.lines.Line2D at 0x298ea05b0a0>"
      ]
     },
     "execution_count": 57,
     "metadata": {},
     "output_type": "execute_result"
    },
    {
     "data": {
      "image/png": "[encoded data removed]",
      "text/plain": [
       "<Figure size 1008x648 with 1 Axes>"
      ]
     },
     "metadata": {},
     "output_type": "display_data"
    }
   ],
   "source": [
    "plt.style.use('ggplot')\n",
    "plt.figure(figsize=(14, 9))\n",
    "\n",
    "plt.bar(pct_extreme_events_norm.index, \n",
    "        pct_extreme_events_norm,\n",
    "        width=0.184,\n",
    "        color=np.where(pct_extreme_events < baseline_extreme_events_pct, 'blue', 'orange'))\n",
    "plt.axhline(baseline_extreme_events_pct_norm, color=\"gray\")"
   ]
  },
  {
   "cell_type": "markdown",
   "id": "aa050c14",
   "metadata": {},
   "source": [
    "### Interpretation\n",
    "* Extreme events between 1973-1993 are relativley low.\n",
    "* The percentage of extreme events per year after 1993 is significantly larger, than the period before.\n",
    "\n",
    "It looks like the climate change is connected with extreme weather, or, at least, increase in extreme heat events. That is a serious problem, as it does not only cause problems in human living, but also disturbs the smooth operation of different ecosystems."
   ]
  },
  {
   "cell_type": "markdown",
   "id": "c3d0e24a",
   "metadata": {},
   "source": [
    "## Precipitation\n",
    "* We will also study the precipitation in the period 1955-2020.\n",
    "* More specifically, we will focus on the ratio of rainfall over rainy days over the years."
   ]
  },
  {
   "cell_type": "markdown",
   "id": "ed859aaf",
   "metadata": {},
   "source": [
    "* Again we will use <code>pivot</code>, but this time for the precipitation.\n",
    "* We want <code>day_of_year</code> as index and <code>year</code> as columns."
   ]
  },
  {
   "cell_type": "code",
   "execution_count": 58,
   "id": "7bbad8c6",
   "metadata": {},
   "outputs": [
    {
     "data": {
      "text/html": [
       "<div>\n",
       "<style scoped>\n",
       "    .dataframe tbody tr th:only-of-type {\n",
       "        vertical-align: middle;\n",
       "    }\n",
       "\n",
       "    .dataframe tbody tr th {\n",
       "        vertical-align: top;\n",
       "    }\n",
       "\n",
       "    .dataframe thead th {\n",
       "        text-align: right;\n",
       "    }\n",
       "</style>\n",
       "<table border=\"1\" class=\"dataframe\">\n",
       "  <thead>\n",
       "    <tr style=\"text-align: right;\">\n",
       "      <th>year</th>\n",
       "      <th>1955</th>\n",
       "      <th>1956</th>\n",
       "      <th>1957</th>\n",
       "      <th>1958</th>\n",
       "      <th>1959</th>\n",
       "      <th>1960</th>\n",
       "      <th>1961</th>\n",
       "      <th>1962</th>\n",
       "      <th>1963</th>\n",
       "      <th>1964</th>\n",
       "      <th>...</th>\n",
       "      <th>2011</th>\n",
       "      <th>2012</th>\n",
       "      <th>2013</th>\n",
       "      <th>2014</th>\n",
       "      <th>2015</th>\n",
       "      <th>2016</th>\n",
       "      <th>2017</th>\n",
       "      <th>2018</th>\n",
       "      <th>2019</th>\n",
       "      <th>2020</th>\n",
       "    </tr>\n",
       "    <tr>\n",
       "      <th>day_of_year</th>\n",
       "      <th></th>\n",
       "      <th></th>\n",
       "      <th></th>\n",
       "      <th></th>\n",
       "      <th></th>\n",
       "      <th></th>\n",
       "      <th></th>\n",
       "      <th></th>\n",
       "      <th></th>\n",
       "      <th></th>\n",
       "      <th></th>\n",
       "      <th></th>\n",
       "      <th></th>\n",
       "      <th></th>\n",
       "      <th></th>\n",
       "      <th></th>\n",
       "      <th></th>\n",
       "      <th></th>\n",
       "      <th></th>\n",
       "      <th></th>\n",
       "      <th></th>\n",
       "    </tr>\n",
       "  </thead>\n",
       "  <tbody>\n",
       "    <tr>\n",
       "      <th>1</th>\n",
       "      <td>0.0</td>\n",
       "      <td>0.0</td>\n",
       "      <td>0.0</td>\n",
       "      <td>0.0</td>\n",
       "      <td>0.0</td>\n",
       "      <td>1.1</td>\n",
       "      <td>0.0</td>\n",
       "      <td>0.0</td>\n",
       "      <td>0.0</td>\n",
       "      <td>0.1</td>\n",
       "      <td>...</td>\n",
       "      <td>0.0</td>\n",
       "      <td>0.0</td>\n",
       "      <td>0.0</td>\n",
       "      <td>8.4</td>\n",
       "      <td>1.4</td>\n",
       "      <td>0.0</td>\n",
       "      <td>0.0</td>\n",
       "      <td>0.0</td>\n",
       "      <td>68.3</td>\n",
       "      <td>0.0</td>\n",
       "    </tr>\n",
       "    <tr>\n",
       "      <th>2</th>\n",
       "      <td>2.0</td>\n",
       "      <td>0.0</td>\n",
       "      <td>0.0</td>\n",
       "      <td>0.0</td>\n",
       "      <td>5.7</td>\n",
       "      <td>0.0</td>\n",
       "      <td>0.0</td>\n",
       "      <td>0.0</td>\n",
       "      <td>0.0</td>\n",
       "      <td>0.0</td>\n",
       "      <td>...</td>\n",
       "      <td>0.0</td>\n",
       "      <td>0.0</td>\n",
       "      <td>0.0</td>\n",
       "      <td>0.2</td>\n",
       "      <td>0.0</td>\n",
       "      <td>0.5</td>\n",
       "      <td>0.0</td>\n",
       "      <td>0.0</td>\n",
       "      <td>0.0</td>\n",
       "      <td>1.5</td>\n",
       "    </tr>\n",
       "    <tr>\n",
       "      <th>3</th>\n",
       "      <td>0.0</td>\n",
       "      <td>0.0</td>\n",
       "      <td>0.3</td>\n",
       "      <td>0.0</td>\n",
       "      <td>5.7</td>\n",
       "      <td>5.6</td>\n",
       "      <td>0.0</td>\n",
       "      <td>0.0</td>\n",
       "      <td>0.0</td>\n",
       "      <td>0.0</td>\n",
       "      <td>...</td>\n",
       "      <td>18.8</td>\n",
       "      <td>0.0</td>\n",
       "      <td>0.2</td>\n",
       "      <td>0.0</td>\n",
       "      <td>0.0</td>\n",
       "      <td>2.2</td>\n",
       "      <td>0.0</td>\n",
       "      <td>1.0</td>\n",
       "      <td>0.5</td>\n",
       "      <td>3.3</td>\n",
       "    </tr>\n",
       "    <tr>\n",
       "      <th>4</th>\n",
       "      <td>0.0</td>\n",
       "      <td>0.0</td>\n",
       "      <td>4.0</td>\n",
       "      <td>0.0</td>\n",
       "      <td>0.0</td>\n",
       "      <td>23.8</td>\n",
       "      <td>0.0</td>\n",
       "      <td>0.0</td>\n",
       "      <td>0.0</td>\n",
       "      <td>13.4</td>\n",
       "      <td>...</td>\n",
       "      <td>6.1</td>\n",
       "      <td>0.0</td>\n",
       "      <td>0.0</td>\n",
       "      <td>0.0</td>\n",
       "      <td>0.0</td>\n",
       "      <td>0.0</td>\n",
       "      <td>0.0</td>\n",
       "      <td>0.3</td>\n",
       "      <td>10.4</td>\n",
       "      <td>0.0</td>\n",
       "    </tr>\n",
       "    <tr>\n",
       "      <th>5</th>\n",
       "      <td>0.0</td>\n",
       "      <td>0.0</td>\n",
       "      <td>0.0</td>\n",
       "      <td>0.0</td>\n",
       "      <td>4.0</td>\n",
       "      <td>0.0</td>\n",
       "      <td>0.0</td>\n",
       "      <td>0.0</td>\n",
       "      <td>0.0</td>\n",
       "      <td>0.0</td>\n",
       "      <td>...</td>\n",
       "      <td>0.0</td>\n",
       "      <td>0.0</td>\n",
       "      <td>0.0</td>\n",
       "      <td>0.0</td>\n",
       "      <td>0.0</td>\n",
       "      <td>0.0</td>\n",
       "      <td>0.0</td>\n",
       "      <td>0.0</td>\n",
       "      <td>4.8</td>\n",
       "      <td>0.0</td>\n",
       "    </tr>\n",
       "  </tbody>\n",
       "</table>\n",
       "<p>5 rows × 66 columns</p>\n",
       "</div>"
      ],
      "text/plain": [
       "year         1955  1956  1957  1958  1959  1960  1961  1962  1963  1964  ...  \\\n",
       "day_of_year                                                              ...   \n",
       "1             0.0   0.0   0.0   0.0   0.0   1.1   0.0   0.0   0.0   0.1  ...   \n",
       "2             2.0   0.0   0.0   0.0   5.7   0.0   0.0   0.0   0.0   0.0  ...   \n",
       "3             0.0   0.0   0.3   0.0   5.7   5.6   0.0   0.0   0.0   0.0  ...   \n",
       "4             0.0   0.0   4.0   0.0   0.0  23.8   0.0   0.0   0.0  13.4  ...   \n",
       "5             0.0   0.0   0.0   0.0   4.0   0.0   0.0   0.0   0.0   0.0  ...   \n",
       "\n",
       "year         2011  2012  2013  2014  2015  2016  2017  2018  2019  2020  \n",
       "day_of_year                                                              \n",
       "1             0.0   0.0   0.0   8.4   1.4   0.0   0.0   0.0  68.3   0.0  \n",
       "2             0.0   0.0   0.0   0.2   0.0   0.5   0.0   0.0   0.0   1.5  \n",
       "3            18.8   0.0   0.2   0.0   0.0   2.2   0.0   1.0   0.5   3.3  \n",
       "4             6.1   0.0   0.0   0.0   0.0   0.0   0.0   0.3  10.4   0.0  \n",
       "5             0.0   0.0   0.0   0.0   0.0   0.0   0.0   0.0   4.8   0.0  \n",
       "\n",
       "[5 rows x 66 columns]"
      ]
     },
     "execution_count": 58,
     "metadata": {},
     "output_type": "execute_result"
    }
   ],
   "source": [
    "full_years_prcp = df.pivot(index=\"day_of_year\", columns=\"year\", values=\"prcp\")\n",
    "full_years_prcp.head(5)"
   ]
  },
  {
   "cell_type": "markdown",
   "id": "d70dc1fa",
   "metadata": {},
   "source": [
    "* It is also necessary to calculate the number of rainy days for each year\n",
    "* A rainy day is a day that its precipitation is larger than zero."
   ]
  },
  {
   "cell_type": "code",
   "execution_count": 59,
   "id": "196f52e6",
   "metadata": {},
   "outputs": [
    {
     "data": {
      "text/plain": [
       "year\n",
       "1955    68\n",
       "1956    52\n",
       "1957    73\n",
       "1958    68\n",
       "1959    62\n",
       "dtype: int64"
      ]
     },
     "execution_count": 59,
     "metadata": {},
     "output_type": "execute_result"
    }
   ],
   "source": [
    "num_rainy_days = (full_years_prcp > 0).sum()\n",
    "num_rainy_days.head(5)"
   ]
  },
  {
   "cell_type": "markdown",
   "id": "189cf891",
   "metadata": {},
   "source": [
    "* We must also calculate the total precipitation for every year."
   ]
  },
  {
   "cell_type": "code",
   "execution_count": 60,
   "id": "bcabe826",
   "metadata": {},
   "outputs": [
    {
     "data": {
      "text/plain": [
       "year\n",
       "1955    547.0\n",
       "1956    281.3\n",
       "1957    303.2\n",
       "1958    350.0\n",
       "1959    214.0\n",
       "dtype: float64"
      ]
     },
     "execution_count": 60,
     "metadata": {},
     "output_type": "execute_result"
    }
   ],
   "source": [
    "total_prcp = full_years_prcp.sum()\n",
    "total_prcp.head(5)"
   ]
  },
  {
   "cell_type": "markdown",
   "id": "ed593d16",
   "metadata": {},
   "source": [
    "* And now we can find the average precipitation per year."
   ]
  },
  {
   "cell_type": "code",
   "execution_count": 61,
   "id": "e4a65149",
   "metadata": {},
   "outputs": [
    {
     "data": {
      "text/plain": [
       "year\n",
       "2011    7.484211\n",
       "2012    6.387500\n",
       "2013    7.777273\n",
       "2014    6.856250\n",
       "2015    7.185366\n",
       "2016    6.228571\n",
       "2017    6.339583\n",
       "2018    6.912727\n",
       "2019    9.827586\n",
       "2020    5.536842\n",
       "dtype: float64"
      ]
     },
     "execution_count": 61,
     "metadata": {},
     "output_type": "execute_result"
    }
   ],
   "source": [
    "avg_prcp = total_prcp / num_rainy_days\n",
    "avg_prcp.tail(10)"
   ]
  },
  {
   "cell_type": "markdown",
   "id": "457e54a7",
   "metadata": {},
   "source": [
    "* We will also plot a line of the 10 years rolling average."
   ]
  },
  {
   "cell_type": "code",
   "execution_count": 62,
   "id": "37a48db6",
   "metadata": {},
   "outputs": [
    {
     "data": {
      "text/plain": [
       "year\n",
       "1955    8.044118\n",
       "1956    6.726867\n",
       "1957    5.869053\n",
       "1958    5.688554\n",
       "1959    5.241166\n",
       "dtype: float64"
      ]
     },
     "execution_count": 62,
     "metadata": {},
     "output_type": "execute_result"
    }
   ],
   "source": [
    "roll_avg_prcp = avg_prcp.rolling(10, min_periods=1).mean()\n",
    "roll_avg_prcp.head(5)"
   ]
  },
  {
   "cell_type": "markdown",
   "id": "be1cbb7b",
   "metadata": {},
   "source": [
    "### Plot\n",
    "* We have now calcuated everything we need for our plot!"
   ]
  },
  {
   "cell_type": "code",
   "execution_count": 63,
   "id": "65d8a75e",
   "metadata": {},
   "outputs": [
    {
     "data": {
      "text/plain": [
       "[<matplotlib.lines.Line2D at 0x298e9eb5130>]"
      ]
     },
     "execution_count": 63,
     "metadata": {},
     "output_type": "execute_result"
    },
    {
     "data": {
      "image/png": "[encoded data removed]",
      "text/plain": [
       "<Figure size 864x720 with 1 Axes>"
      ]
     },
     "metadata": {},
     "output_type": "display_data"
    }
   ],
   "source": [
    "plt.style.use('ggplot')\n",
    "plt.figure(figsize=(12, 10))\n",
    "\n",
    "plt.bar(avg_prcp.index, \n",
    "        avg_prcp,\n",
    "        width=0.21,\n",
    "        color='blue')\n",
    "plt.plot(roll_avg_prcp, color=\"cadetblue\")"
   ]
  },
  {
   "cell_type": "markdown",
   "id": "a83c1b21",
   "metadata": {},
   "source": [
    "### Interpretation\n",
    "* As the 10 year rolling average shows, the average precipitation slowly increases as the years pass.\n",
    "* Especially, the last 10 years the average precipitation is almost exclusively above 6 mm, while the previous years this was far more rare.\n",
    "\n",
    "As we concluded before the weather seems to become more extreme, as a rusult of the climate change. Here we can see that we are getting rain in more concentrated bursts, as the average precipitation (per rainy day) slowly but steadily increases."
   ]
  },
  {
   "cell_type": "code",
   "execution_count": null,
   "id": "924df51a",
   "metadata": {},
   "outputs": [],
   "source": []
  }
 ],
 "metadata": {
  "kernelspec": {
   "display_name": "Python 3 (ipykernel)",
   "language": "python",
   "name": "python3"
  },
  "language_info": {
   "codemirror_mode": {
    "name": "ipython",
    "version": 3
   },
   "file_extension": ".py",
   "mimetype": "text/x-python",
   "name": "python",
   "nbconvert_exporter": "python",
   "pygments_lexer": "ipython3",
   "version": "3.9.0"
  }
 },
 "nbformat": 4,
 "nbformat_minor": 5
}
