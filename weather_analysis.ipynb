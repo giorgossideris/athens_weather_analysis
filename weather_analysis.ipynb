{
 "cells": [
  {
   "cell_type": "markdown",
   "id": "562f764f",
   "metadata": {},
   "source": [
    "# Analysis of Weather in Athens for the period 1955 - 2020\n",
    "* This is a project created in the context of the course: \"Applied Machine Learning\".\n",
    "* Data are obtained from:\n",
    "    1. The National Oceanic and Atmospheric Administration's National Centers for Environmental Information (https://www.ncdc.noaa.gov/cdo-web/)\n",
    "    2. The Helenic Data Service (https://hellenicdataservice.gr/main/)\n",
    "* The analysis will be done on [Jupyter](http://jupyter.org/).\n",
    "---\n",
    "> Georgios Sideris <br />\n",
    "> geosideris@aueb.gr"
   ]
  },
  {
   "cell_type": "markdown",
   "id": "7b93cdd4",
   "metadata": {},
   "source": [
    "## Import packages\n",
    "* To begin with, we will import the packages that we will use in the following segments of the project:\n",
    "    * [NumPy](https://www.numpy.org/)\n",
    "    * [pandas](https://pandas.pydata.org/)\n",
    "    * [matplotlib](https://matplotlib.org/)\n",
    "* Note the the prementioned packages **must be locally installed too** in order to be used."
   ]
  },
  {
   "cell_type": "code",
   "execution_count": 2,
   "id": "16c33298",
   "metadata": {},
   "outputs": [],
   "source": [
    "import numpy as np\n",
    "import pandas as pd\n",
    "import matplotlib.pyplot as plt\n",
    "\n",
    "%matplotlib inline"
   ]
  },
  {
   "cell_type": "markdown",
   "id": "4aef24e1",
   "metadata": {},
   "source": [
    "## Obtain the Data\n",
    "* The data used for the analysis can be found in the folder <code>data</code>:\n",
    "    * <code>data/hellinikon_noaa.csv</code>: contains the data downloaded from [NOAA](https://www.ncdc.noaa.gov/cdo-web/).\n",
    "    * <code>data/athens_hds.csv</code>: contains the data downloaded from [HDS](https://hellenicdataservice.gr/main/).\n",
    "* We will talk more about them in the following part.\n"
   ]
  },
  {
   "cell_type": "markdown",
   "id": "ebe9bebd",
   "metadata": {},
   "source": [
    "### Data from NOAA\n",
    "* The data downloaded from the National Oceanic and Atmospheric Administration's National Centers for Environmental Information refer to the weather station of **Hellinikon** and the period **1955 - 2020**.\n",
    "* To get them, the search feature of the NOAA website was used (https://www.ncdc.noaa.gov/cdo-web/search).\n",
    "* Specifically, the filters used were:\n",
    "    1. Dataset: *Daily Summaries*\n",
    "    2. Date range: *1955-01-01 to 2020-12-31*\n",
    "    3. Search for: *Stations*\n",
    "    4. Search Term: *Hellinikon*  \n",
    "* The station selected for the download is: *HELLINIKON, GR*\n",
    "* The output format chosen is: *Custom GHCN-Daily CSV*\n",
    "* Units were set to: *Metric* (in order to get the data in Celsius and millimeters instead of Fahrenheit and inches)\n",
    "* Lastly the data types for custom output chosen are:\n",
    "    1. Precipitation (PRCP) \n",
    "    2. Average Temperature (TAVG)\n",
    "    3. Maximum temperature (TMAX)\n",
    "    4. Minimum temperature (TMIN)\n",
    "* The downloaded file was renamed to <code>hellinikon_noaa.csv</code> and can be found at the <code>data</code> folder."
   ]
  },
  {
   "cell_type": "markdown",
   "id": "d85a53ba",
   "metadata": {},
   "source": [
    "#### Dataset from NOAA\n",
    "* Next we will generate a dataframe using the <code>data/hellinikon_noaa.csv</code> file."
   ]
  },
  {
   "cell_type": "code",
   "execution_count": 5,
   "id": "e77a2a37",
   "metadata": {},
   "outputs": [
    {
     "data": {
      "text/html": [
       "<div>\n",
       "<style scoped>\n",
       "    .dataframe tbody tr th:only-of-type {\n",
       "        vertical-align: middle;\n",
       "    }\n",
       "\n",
       "    .dataframe tbody tr th {\n",
       "        vertical-align: top;\n",
       "    }\n",
       "\n",
       "    .dataframe thead th {\n",
       "        text-align: right;\n",
       "    }\n",
       "</style>\n",
       "<table border=\"1\" class=\"dataframe\">\n",
       "  <thead>\n",
       "    <tr style=\"text-align: right;\">\n",
       "      <th></th>\n",
       "      <th>date</th>\n",
       "      <th>prcp</th>\n",
       "      <th>avg_temp</th>\n",
       "      <th>max_temp</th>\n",
       "      <th>min_temp</th>\n",
       "    </tr>\n",
       "  </thead>\n",
       "  <tbody>\n",
       "    <tr>\n",
       "      <th>0</th>\n",
       "      <td>1955-01-01</td>\n",
       "      <td>0.0</td>\n",
       "      <td>NaN</td>\n",
       "      <td>18.5</td>\n",
       "      <td>10.2</td>\n",
       "    </tr>\n",
       "    <tr>\n",
       "      <th>1</th>\n",
       "      <td>1955-01-02</td>\n",
       "      <td>2.0</td>\n",
       "      <td>NaN</td>\n",
       "      <td>14.4</td>\n",
       "      <td>7.0</td>\n",
       "    </tr>\n",
       "    <tr>\n",
       "      <th>2</th>\n",
       "      <td>1955-01-03</td>\n",
       "      <td>0.0</td>\n",
       "      <td>NaN</td>\n",
       "      <td>15.8</td>\n",
       "      <td>9.6</td>\n",
       "    </tr>\n",
       "    <tr>\n",
       "      <th>3</th>\n",
       "      <td>1955-01-04</td>\n",
       "      <td>0.0</td>\n",
       "      <td>NaN</td>\n",
       "      <td>18.8</td>\n",
       "      <td>7.3</td>\n",
       "    </tr>\n",
       "    <tr>\n",
       "      <th>4</th>\n",
       "      <td>1955-01-05</td>\n",
       "      <td>0.0</td>\n",
       "      <td>NaN</td>\n",
       "      <td>17.9</td>\n",
       "      <td>8.4</td>\n",
       "    </tr>\n",
       "  </tbody>\n",
       "</table>\n",
       "</div>"
      ],
      "text/plain": [
       "        date  prcp  avg_temp  max_temp  min_temp\n",
       "0 1955-01-01   0.0       NaN      18.5      10.2\n",
       "1 1955-01-02   2.0       NaN      14.4       7.0\n",
       "2 1955-01-03   0.0       NaN      15.8       9.6\n",
       "3 1955-01-04   0.0       NaN      18.8       7.3\n",
       "4 1955-01-05   0.0       NaN      17.9       8.4"
      ]
     },
     "execution_count": 5,
     "metadata": {},
     "output_type": "execute_result"
    }
   ],
   "source": [
    "data_hellinikon_noaa = \"data/hellinikon_noaa.csv\"\n",
    "noaa_data = pd.read_csv(data_hellinikon_noaa,\n",
    "                        parse_dates=[\"date\"], \n",
    "                        usecols = range(2, 7), \n",
    "                        header=0, \n",
    "                        names=[\"date\", \"prcp\", \"avg_temp\", \"max_temp\", \"min_temp\"])\n",
    "noaa_data.head(5)"
   ]
  },
  {
   "cell_type": "markdown",
   "id": "2a000ea2",
   "metadata": {},
   "source": [
    "### Data from HDS\n",
    "* The data from the Helenic Data Service refer to the weather station of **Athens** and the period **2010-2019**.\n",
    "* The relative file (**athens.csv**) can be found [here](https://data.hellenicdataservice.gr/dataset/66e1c19a-7b0e-456f-b465-b301a1130e3f).\n",
    "* The downloaded file was renamed to <code>athens_hds.csv</code> and can be found at the <code>data</code> folder."
   ]
  },
  {
   "cell_type": "markdown",
   "id": "ecf9bf49",
   "metadata": {},
   "source": [
    "#### Dataset from HDS\n",
    "* Next we will generate a dataframe using the <code>data/athens_hds.csv</code> file.\n",
    "* The particular file contains information that we are not interested in (documentation can be found [here](https://data.hellenicdataservice.gr/dataset/66e1c19a-7b0e-456f-b465-b301a1130e3f/resource/a7c024b3-8606-4f08-93e2-2042f5bd6748), so we will choose only the columns that refer to the *date*, the *average temperature* and the *precipitation* of each day."
   ]
  },
  {
   "cell_type": "code",
   "execution_count": 15,
   "id": "aab8ab25",
   "metadata": {},
   "outputs": [
    {
     "data": {
      "text/html": [
       "<div>\n",
       "<style scoped>\n",
       "    .dataframe tbody tr th:only-of-type {\n",
       "        vertical-align: middle;\n",
       "    }\n",
       "\n",
       "    .dataframe tbody tr th {\n",
       "        vertical-align: top;\n",
       "    }\n",
       "\n",
       "    .dataframe thead th {\n",
       "        text-align: right;\n",
       "    }\n",
       "</style>\n",
       "<table border=\"1\" class=\"dataframe\">\n",
       "  <thead>\n",
       "    <tr style=\"text-align: right;\">\n",
       "      <th></th>\n",
       "      <th>date</th>\n",
       "      <th>avg_temp</th>\n",
       "      <th>prcp</th>\n",
       "    </tr>\n",
       "  </thead>\n",
       "  <tbody>\n",
       "    <tr>\n",
       "      <th>0</th>\n",
       "      <td>2010-01-01</td>\n",
       "      <td>17.9</td>\n",
       "      <td>0.2</td>\n",
       "    </tr>\n",
       "    <tr>\n",
       "      <th>1</th>\n",
       "      <td>2010-01-02</td>\n",
       "      <td>15.6</td>\n",
       "      <td>0.0</td>\n",
       "    </tr>\n",
       "    <tr>\n",
       "      <th>2</th>\n",
       "      <td>2010-01-03</td>\n",
       "      <td>13.5</td>\n",
       "      <td>0.0</td>\n",
       "    </tr>\n",
       "    <tr>\n",
       "      <th>3</th>\n",
       "      <td>2010-01-04</td>\n",
       "      <td>9.5</td>\n",
       "      <td>0.0</td>\n",
       "    </tr>\n",
       "    <tr>\n",
       "      <th>4</th>\n",
       "      <td>2010-01-05</td>\n",
       "      <td>13.4</td>\n",
       "      <td>0.0</td>\n",
       "    </tr>\n",
       "  </tbody>\n",
       "</table>\n",
       "</div>"
      ],
      "text/plain": [
       "        date avg_temp  prcp\n",
       "0 2010-01-01     17.9   0.2\n",
       "1 2010-01-02     15.6   0.0\n",
       "2 2010-01-03     13.5   0.0\n",
       "3 2010-01-04      9.5   0.0\n",
       "4 2010-01-05     13.4   0.0"
      ]
     },
     "execution_count": 15,
     "metadata": {},
     "output_type": "execute_result"
    }
   ],
   "source": [
    "data_athens_hds = \"data/athens_hds.csv\"\n",
    "hds_data = pd.read_csv(data_athens_hds,\n",
    "                       usecols=[0, 1, 10],\n",
    "                       parse_dates=[\"date\"],\n",
    "                       names=[\"date\", \"avg_temp\", \"prcp\"])\n",
    "hds_data.head(5)"
   ]
  },
  {
   "cell_type": "markdown",
   "id": "9be23b15",
   "metadata": {},
   "source": [
    "## Explore completeness of data\n",
    "* Before using the generated dataframes we have to clean, explore and complete them."
   ]
  },
  {
   "cell_type": "markdown",
   "id": "72c7183e",
   "metadata": {},
   "source": [
    "### Clean\n",
    "* A first issue, is the fact that the data from HDS contain dashes (\"---\"), for missing values, instead of empty cells."
   ]
  },
  {
   "cell_type": "code",
   "execution_count": 9,
   "id": "d85fa7e9",
   "metadata": {},
   "outputs": [
    {
     "data": {
      "text/plain": [
       "date        datetime64[ns]\n",
       "avg_temp            object\n",
       "prcp               float64\n",
       "dtype: object"
      ]
     },
     "execution_count": 9,
     "metadata": {},
     "output_type": "execute_result"
    }
   ],
   "source": [
    "hds_data.dtypes"
   ]
  },
  {
   "cell_type": "markdown",
   "id": "8ab8ee62",
   "metadata": {},
   "source": [
    "* We can see that the <code>avg_temp</code> column was identified as of object type, instead of float64 (like <code>prcp</code>).\n",
    "* So, we will replace the dashes with <code>nan</code> values and turn the avg_temp column to float."
   ]
  },
  {
   "cell_type": "code",
   "execution_count": 18,
   "id": "b70d5b3a",
   "metadata": {},
   "outputs": [
    {
     "data": {
      "text/plain": [
       "date        datetime64[ns]\n",
       "avg_temp           float64\n",
       "prcp               float64\n",
       "dtype: object"
      ]
     },
     "execution_count": 18,
     "metadata": {},
     "output_type": "execute_result"
    }
   ],
   "source": [
    "hds_mapping = {\"---\": float(\"nan\")}\n",
    "hds_data[\"avg_temp\"] = hds_data[\"avg_temp\"] \\\n",
    "                       .map(lambda x : hds_mapping.get(x, float(x) if x != \"---\" else None)) # get(x, float(x)) raises exception\n",
    "hds_data.dtypes"
   ]
  },
  {
   "cell_type": "markdown",
   "id": "37c135da",
   "metadata": {},
   "source": [
    "* Now the types of the columns look good."
   ]
  },
  {
   "cell_type": "code",
   "execution_count": 19,
   "id": "4f5c448d",
   "metadata": {},
   "outputs": [
    {
     "data": {
      "text/plain": [
       "date        datetime64[ns]\n",
       "prcp               float64\n",
       "avg_temp           float64\n",
       "max_temp           float64\n",
       "min_temp           float64\n",
       "dtype: object"
      ]
     },
     "execution_count": 19,
     "metadata": {},
     "output_type": "execute_result"
    }
   ],
   "source": [
    "noaa_data.dtypes"
   ]
  },
  {
   "cell_type": "markdown",
   "id": "52610006",
   "metadata": {},
   "source": [
    "* The types of the NOAA dataframe are also good."
   ]
  },
  {
   "cell_type": "markdown",
   "id": "2fb03f2c",
   "metadata": {},
   "source": [
    "* Another potential problem could be the existence of duplicate dates.\n",
    "* Let's check it!"
   ]
  },
  {
   "cell_type": "code",
   "execution_count": 21,
   "id": "ec578f0b",
   "metadata": {
    "scrolled": true
   },
   "outputs": [
    {
     "data": {
      "text/plain": [
       "(0, 0)"
      ]
     },
     "execution_count": 21,
     "metadata": {},
     "output_type": "execute_result"
    }
   ],
   "source": [
    "noaa_dates = noaa_data[\"date\"]\n",
    "hds_dates = hds_data[\"date\"]\n",
    "noaa_dates.duplicated().sum(), hds_dates.duplicated().sum()"
   ]
  },
  {
   "cell_type": "markdown",
   "id": "50b08e50",
   "metadata": {},
   "source": [
    "* That's great! We don't have duplicate dates.\n",
    "* Now our data look clean, but are they complete?"
   ]
  },
  {
   "cell_type": "markdown",
   "id": "d98b8d17",
   "metadata": {},
   "source": [
    "### Explore\n",
    "* Next we will check if there are **missing dates** or **missing values** from the existing dates.\n",
    "* The <code>noaa_data</code> dataframe will be used as basis, while <code>hds_data</code> will be used as complement."
   ]
  },
  {
   "cell_type": "markdown",
   "id": "576a8b29",
   "metadata": {},
   "source": [
    "#### Missing dates"
   ]
  },
  {
   "cell_type": "code",
   "execution_count": 24,
   "id": "a3c17347",
   "metadata": {},
   "outputs": [
    {
     "data": {
      "text/plain": [
       "856"
      ]
     },
     "execution_count": 24,
     "metadata": {},
     "output_type": "execute_result"
    }
   ],
   "source": [
    "all_dates = pd.date_range(start='1955-01-01', end='2020/12/31') # a DateTimeIndex of all the days between 1/1/1955 and 31/12/20\n",
    "len(all_dates)-len(noaa_dates)"
   ]
  },
  {
   "cell_type": "markdown",
   "id": "4f012d7c",
   "metadata": {},
   "source": [
    "* It seems like 856 days from the noaa_data_set are missing.\n",
    "* Let's explore more."
   ]
  },
  {
   "cell_type": "code",
   "execution_count": 26,
   "id": "7d746fb0",
   "metadata": {},
   "outputs": [
    {
     "data": {
      "text/plain": [
       "date\n",
       "2006      2\n",
       "2007      1\n",
       "2012    206\n",
       "2013    355\n",
       "2014    267\n",
       "2016      1\n",
       "2017     23\n",
       "2018      1\n",
       "dtype: int64"
      ]
     },
     "execution_count": 26,
     "metadata": {},
     "output_type": "execute_result"
    }
   ],
   "source": [
    "noaa_missing_dates = all_dates[~all_dates.isin(noaa_dates)]\n",
    "noaa_missing_dates_df = pd.DataFrame(noaa_missing_dates, columns=[\"date\"])\n",
    "noaa_missing_dates_df.groupby(noaa_missing_dates_df[\"date\"].dt.year).size()"
   ]
  },
  {
   "cell_type": "markdown",
   "id": "571761aa",
   "metadata": {},
   "source": [
    "* Looks like almost all the missing dates are from the period 2012-2018.\n",
    "* <code>hds_data</code> dataframe comes in handy, as we can use it to fill the missing days.\n",
    "* But, are there any missing dates from <code>hds_data</code>? "
   ]
  },
  {
   "cell_type": "code",
   "execution_count": 28,
   "id": "341c89a8",
   "metadata": {},
   "outputs": [
    {
     "data": {
      "text/plain": [
       "0"
      ]
     },
     "execution_count": 28,
     "metadata": {},
     "output_type": "execute_result"
    }
   ],
   "source": [
    "dates_2010_2019 = pd.date_range(start='2010-01-01', end='2019/12/31') # a DateTimeIndex of all the days between 1/1/2010 and 31/12/2019\n",
    "len(dates_2010_2019)-len(hds_dates)"
   ]
  },
  {
   "cell_type": "markdown",
   "id": "c271fb5f",
   "metadata": {},
   "source": [
    "* There isn't a day missing from <code>hds_data</code>, so we can complete our data using it."
   ]
  },
  {
   "cell_type": "markdown",
   "id": "cceb6842",
   "metadata": {},
   "source": [
    "#### Missing values\n",
    "* It is necessary to also get an idea of the values that are missing from the dates that already exist in <code>noaa_data</code>."
   ]
  },
  {
   "cell_type": "code",
   "execution_count": 29,
   "id": "0f3e37cd",
   "metadata": {},
   "outputs": [
    {
     "data": {
      "text/plain": [
       "(478, 2311)"
      ]
     },
     "execution_count": 29,
     "metadata": {},
     "output_type": "execute_result"
    }
   ],
   "source": [
    "noaa_data[\"prcp\"].isnull().sum(), noaa_data[\"avg_temp\"].isnull().sum()"
   ]
  },
  {
   "cell_type": "markdown",
   "id": "39a03bfa",
   "metadata": {},
   "source": [
    "* It looks like there are missing values.\n",
    "* Let's have an indication of how many of them can be completed using <code>hds_data</code>.\n",
    "* For that purpose we will calculate the missing values from the period 2010-2019 (of course from the existing dates in <code>noaa_data</code>)."
   ]
  },
  {
   "cell_type": "code",
   "execution_count": 32,
   "id": "4f168ef6",
   "metadata": {},
   "outputs": [
    {
     "data": {
      "text/plain": [
       "(102, 0)"
      ]
     },
     "execution_count": 32,
     "metadata": {},
     "output_type": "execute_result"
    }
   ],
   "source": [
    "(noaa_data[\"date\"].dt.year.isin(range(2010, 2020)) & noaa_data[\"prcp\"].isnull()).sum(), \\\n",
    "(noaa_data[\"date\"].dt.year.isin(range(2010, 2020)) & noaa_data[\"avg_temp\"].isnull()).sum()"
   ]
  },
  {
   "cell_type": "markdown",
   "id": "38f475bc",
   "metadata": {},
   "source": [
    "* Most of the missing values cannot be filled from <code>hds_data</code>.\n",
    "* Especially, there are a lot of empty cells of *average temperature* (<code>avg_temp</code>).\n",
    "* An interesting idea is to use the average of the max and min temperature and use it as the average temperature of the day.\n",
    "* In order to apply that, we have to answer 2 questions:\n",
    "    1. How many fields of average temperature can be filled in this way?\n",
    "    2. And more importantly, how good estimation of the average temperature, the average(<code>min_temp</code>, <code>max_temp</code>) is?"
   ]
  },
  {
   "cell_type": "markdown",
   "id": "a8aea899",
   "metadata": {},
   "source": [
    "* The first question can be easily answered."
   ]
  },
  {
   "cell_type": "code",
   "execution_count": 34,
   "id": "fbb04246",
   "metadata": {},
   "outputs": [
    {
     "data": {
      "text/plain": [
       "2310"
      ]
     },
     "execution_count": 34,
     "metadata": {},
     "output_type": "execute_result"
    }
   ],
   "source": [
    "calculatable_avg_temp = ( \\\n",
    " ~ (noaa_data[\"max_temp\"].isnull()) & \\\n",
    " ~ (noaa_data[\"min_temp\"].isnull()) & \\\n",
    " (noaa_data[\"avg_temp\"].isnull()) \\\n",
    "                        )\n",
    "\n",
    "calculatable_avg_temp.sum() # the number of days with missing avg_temp but with available  max and min temp"
   ]
  },
  {
   "cell_type": "markdown",
   "id": "80c1b531",
   "metadata": {},
   "source": [
    "* The average temperature for almost every date can be filled if we choose to proceed with the application of this idea!\n",
    "* But, we have to answer the second prementioned question.\n",
    "* To do this we will execute a very simple statistical analysis. \n",
    "* **BUT**, it is important to note if the decision of using the average(<code>max_temp</code>, <code>min_temp</code>) is critical a further and more accurate analysis must be used."
   ]
  },
  {
   "cell_type": "code",
   "execution_count": 37,
   "id": "8ed4e814",
   "metadata": {},
   "outputs": [
    {
     "name": "stdout",
     "output_type": "stream",
     "text": [
      "19372\n"
     ]
    },
    {
     "data": {
      "text/plain": [
       "(-0.12309518893247984, 0.7169931309904884)"
      ]
     },
     "execution_count": 37,
     "metadata": {},
     "output_type": "execute_result"
    }
   ],
   "source": [
    "# rows of the noaa dataset with no temperature field missing (avg_temp, max_temp, min_temp all not null)\n",
    "noaa_data_full_temp = noaa_data[~ noaa_data.avg_temp.isnull() & \\\n",
    "                                ~ noaa_data.max_temp.isnull() & \\\n",
    "                                ~ noaa_data.min_temp.isnull()].copy()\n",
    "print(len(noaa_data_full_temp))\n",
    "noaa_data_full_temp[\"avg_min_max_temp\"] = round((noaa_data_full_temp[\"min_temp\"] + noaa_data_full_temp[\"max_temp\"])/2, 1)\n",
    "\n",
    "diff_of_avgs = noaa_data_full_temp[\"avg_temp\"] - noaa_data_full_temp[\"avg_min_max_temp\"]\n",
    "diff_of_avgs.mean(), diff_of_avgs.std()"
   ]
  },
  {
   "cell_type": "markdown",
   "id": "d288500d",
   "metadata": {},
   "source": [
    "* In the previous snipet of code, firstly, we created a view of the days that all min, max and average temperatures are available.\n",
    "* Then, we calculated the difference: <code>avg_temp</code> - average(<code>max_temp</code>, <code>min_temp</code>)\n",
    "* After, we found the mean and the standard deviaton of this difference.\n",
    "* What conclusion can we make?\n",
    "    * The mean found is only -0.12, with a standard deviation of less that a Celsius degree.\n",
    "    * Also, the number of observations that we used is relatively large (19372).\n",
    "    * As a result, we conclude that the average of the max and min temperature provide a very good estimation of the average temperature of a day, **in the context of the particular analysis**."
   ]
  },
  {
   "cell_type": "markdown",
   "id": "79dea253",
   "metadata": {},
   "source": [
    "### Complete\n",
    "* After our exploration of the data, we identified that in order to complete our data we have to:\n",
    "    1. Fill the missing dates of <code>noaa_data</code>, from <code>hds_data</code>.\n",
    "    2. Fill the missing precipitations from the existing dates of <code>noaa_data</code>, from <code>hds_data</code>.\n",
    "    3. Fill the missing average temperatures of <code>noaa_data</code> using the average of max and min temperature."
   ]
  },
  {
   "cell_type": "markdown",
   "id": "debc97d4",
   "metadata": {},
   "source": [
    "* Initially, let's join <code>noaa_data</code> and <code>hds_data</code>.  \n",
    "\n",
    "**It is crucial to mention a hypothesis that we do for this analysis: we assume that the data of the two sources refer to the same location.** Even though, we know that they are gotten from different weather stations, they are close enough, that it is rational to assume that the differences are insignificant."
   ]
  },
  {
   "cell_type": "code",
   "execution_count": 38,
   "id": "8de95c6f",
   "metadata": {},
   "outputs": [
    {
     "data": {
      "text/html": [
       "<div>\n",
       "<style scoped>\n",
       "    .dataframe tbody tr th:only-of-type {\n",
       "        vertical-align: middle;\n",
       "    }\n",
       "\n",
       "    .dataframe tbody tr th {\n",
       "        vertical-align: top;\n",
       "    }\n",
       "\n",
       "    .dataframe thead th {\n",
       "        text-align: right;\n",
       "    }\n",
       "</style>\n",
       "<table border=\"1\" class=\"dataframe\">\n",
       "  <thead>\n",
       "    <tr style=\"text-align: right;\">\n",
       "      <th></th>\n",
       "      <th>date</th>\n",
       "      <th>prcp_noaa</th>\n",
       "      <th>avg_temp_noaa</th>\n",
       "      <th>max_temp</th>\n",
       "      <th>min_temp</th>\n",
       "      <th>avg_temp_hds</th>\n",
       "      <th>prcp_hds</th>\n",
       "    </tr>\n",
       "  </thead>\n",
       "  <tbody>\n",
       "    <tr>\n",
       "      <th>20086</th>\n",
       "      <td>2010-01-01</td>\n",
       "      <td>NaN</td>\n",
       "      <td>18.0</td>\n",
       "      <td>21.8</td>\n",
       "      <td>NaN</td>\n",
       "      <td>17.9</td>\n",
       "      <td>0.2</td>\n",
       "    </tr>\n",
       "    <tr>\n",
       "      <th>20087</th>\n",
       "      <td>2010-01-02</td>\n",
       "      <td>0.0</td>\n",
       "      <td>16.0</td>\n",
       "      <td>17.8</td>\n",
       "      <td>13.8</td>\n",
       "      <td>15.6</td>\n",
       "      <td>0.0</td>\n",
       "    </tr>\n",
       "    <tr>\n",
       "      <th>20088</th>\n",
       "      <td>2010-01-03</td>\n",
       "      <td>0.0</td>\n",
       "      <td>13.5</td>\n",
       "      <td>15.6</td>\n",
       "      <td>10.8</td>\n",
       "      <td>13.5</td>\n",
       "      <td>0.0</td>\n",
       "    </tr>\n",
       "    <tr>\n",
       "      <th>20089</th>\n",
       "      <td>2010-01-04</td>\n",
       "      <td>0.0</td>\n",
       "      <td>8.9</td>\n",
       "      <td>11.0</td>\n",
       "      <td>5.8</td>\n",
       "      <td>9.5</td>\n",
       "      <td>0.0</td>\n",
       "    </tr>\n",
       "    <tr>\n",
       "      <th>20090</th>\n",
       "      <td>2010-01-05</td>\n",
       "      <td>0.0</td>\n",
       "      <td>13.1</td>\n",
       "      <td>16.0</td>\n",
       "      <td>8.6</td>\n",
       "      <td>13.4</td>\n",
       "      <td>0.0</td>\n",
       "    </tr>\n",
       "  </tbody>\n",
       "</table>\n",
       "</div>"
      ],
      "text/plain": [
       "            date  prcp_noaa  avg_temp_noaa  max_temp  min_temp  avg_temp_hds  \\\n",
       "20086 2010-01-01        NaN           18.0      21.8       NaN          17.9   \n",
       "20087 2010-01-02        0.0           16.0      17.8      13.8          15.6   \n",
       "20088 2010-01-03        0.0           13.5      15.6      10.8          13.5   \n",
       "20089 2010-01-04        0.0            8.9      11.0       5.8           9.5   \n",
       "20090 2010-01-05        0.0           13.1      16.0       8.6          13.4   \n",
       "\n",
       "       prcp_hds  \n",
       "20086       0.2  \n",
       "20087       0.0  \n",
       "20088       0.0  \n",
       "20089       0.0  \n",
       "20090       0.0  "
      ]
     },
     "execution_count": 38,
     "metadata": {},
     "output_type": "execute_result"
    }
   ],
   "source": [
    "full_data = pd.merge(noaa_data, hds_data, how = \"outer\", on = \"date\", suffixes=('_noaa', '_hds')) # outer is used in order to \n",
    "                                                                                                  # also get the missing dates\n",
    "full_data = full_data.sort_values(by = [\"date\"]) # after adding the new data our data are not in chronological order\n",
    "full_data = full_data.reset_index(drop = True) # reset the index after reordering the rows\n",
    "full_data[full_data[\"date\"].dt.year.isin(range(2010, 2020))].head(5)"
   ]
  },
  {
   "cell_type": "markdown",
   "id": "5c718775",
   "metadata": {},
   "source": [
    "* Next, we will create a new column for precipitation, that we will contain:\n",
    "    * <code>prcp_noaa</code> if it is not <code>NaN</code>.\n",
    "    * <code>prcp_hds</code> if it is not <code>Nan</code> and <code>prcp_noaa</code> is <code>NaN</code>.\n",
    "    * <code>NaN</code> in different case."
   ]
  },
  {
   "cell_type": "code",
   "execution_count": 39,
   "id": "7cca8844",
   "metadata": {},
   "outputs": [
    {
     "data": {
      "text/html": [
       "<div>\n",
       "<style scoped>\n",
       "    .dataframe tbody tr th:only-of-type {\n",
       "        vertical-align: middle;\n",
       "    }\n",
       "\n",
       "    .dataframe tbody tr th {\n",
       "        vertical-align: top;\n",
       "    }\n",
       "\n",
       "    .dataframe thead th {\n",
       "        text-align: right;\n",
       "    }\n",
       "</style>\n",
       "<table border=\"1\" class=\"dataframe\">\n",
       "  <thead>\n",
       "    <tr style=\"text-align: right;\">\n",
       "      <th></th>\n",
       "      <th>date</th>\n",
       "      <th>prcp_noaa</th>\n",
       "      <th>avg_temp_noaa</th>\n",
       "      <th>max_temp</th>\n",
       "      <th>min_temp</th>\n",
       "      <th>avg_temp_hds</th>\n",
       "      <th>prcp_hds</th>\n",
       "      <th>prcp</th>\n",
       "    </tr>\n",
       "  </thead>\n",
       "  <tbody>\n",
       "    <tr>\n",
       "      <th>20086</th>\n",
       "      <td>2010-01-01</td>\n",
       "      <td>NaN</td>\n",
       "      <td>18.0</td>\n",
       "      <td>21.8</td>\n",
       "      <td>NaN</td>\n",
       "      <td>17.9</td>\n",
       "      <td>0.2</td>\n",
       "      <td>0.2</td>\n",
       "    </tr>\n",
       "    <tr>\n",
       "      <th>20087</th>\n",
       "      <td>2010-01-02</td>\n",
       "      <td>0.0</td>\n",
       "      <td>16.0</td>\n",
       "      <td>17.8</td>\n",
       "      <td>13.8</td>\n",
       "      <td>15.6</td>\n",
       "      <td>0.0</td>\n",
       "      <td>0.0</td>\n",
       "    </tr>\n",
       "    <tr>\n",
       "      <th>20088</th>\n",
       "      <td>2010-01-03</td>\n",
       "      <td>0.0</td>\n",
       "      <td>13.5</td>\n",
       "      <td>15.6</td>\n",
       "      <td>10.8</td>\n",
       "      <td>13.5</td>\n",
       "      <td>0.0</td>\n",
       "      <td>0.0</td>\n",
       "    </tr>\n",
       "    <tr>\n",
       "      <th>20089</th>\n",
       "      <td>2010-01-04</td>\n",
       "      <td>0.0</td>\n",
       "      <td>8.9</td>\n",
       "      <td>11.0</td>\n",
       "      <td>5.8</td>\n",
       "      <td>9.5</td>\n",
       "      <td>0.0</td>\n",
       "      <td>0.0</td>\n",
       "    </tr>\n",
       "    <tr>\n",
       "      <th>20090</th>\n",
       "      <td>2010-01-05</td>\n",
       "      <td>0.0</td>\n",
       "      <td>13.1</td>\n",
       "      <td>16.0</td>\n",
       "      <td>8.6</td>\n",
       "      <td>13.4</td>\n",
       "      <td>0.0</td>\n",
       "      <td>0.0</td>\n",
       "    </tr>\n",
       "  </tbody>\n",
       "</table>\n",
       "</div>"
      ],
      "text/plain": [
       "            date  prcp_noaa  avg_temp_noaa  max_temp  min_temp  avg_temp_hds  \\\n",
       "20086 2010-01-01        NaN           18.0      21.8       NaN          17.9   \n",
       "20087 2010-01-02        0.0           16.0      17.8      13.8          15.6   \n",
       "20088 2010-01-03        0.0           13.5      15.6      10.8          13.5   \n",
       "20089 2010-01-04        0.0            8.9      11.0       5.8           9.5   \n",
       "20090 2010-01-05        0.0           13.1      16.0       8.6          13.4   \n",
       "\n",
       "       prcp_hds  prcp  \n",
       "20086       0.2   0.2  \n",
       "20087       0.0   0.0  \n",
       "20088       0.0   0.0  \n",
       "20089       0.0   0.0  \n",
       "20090       0.0   0.0  "
      ]
     },
     "execution_count": 39,
     "metadata": {},
     "output_type": "execute_result"
    }
   ],
   "source": [
    "full_data[\"prcp\"] = full_data[\"prcp_noaa\"].fillna(full_data[\"prcp_hds\"])\n",
    "full_data[full_data[\"date\"].dt.year.isin(range(2010, 2020))].head(5)"
   ]
  },
  {
   "cell_type": "markdown",
   "id": "f6e29fe6",
   "metadata": {},
   "source": [
    "* We will follow the corresponding procedure for the average temperature.\n",
    "* In the new column we will collect the average temperatures from <code>noaa_data</code>, but also the average temperatures from <code>hds_data</code> for the dates that were missing from <code>noaa_data</code>."
   ]
  },
  {
   "cell_type": "code",
   "execution_count": 40,
   "id": "64d54d6c",
   "metadata": {},
   "outputs": [
    {
     "data": {
      "text/html": [
       "<div>\n",
       "<style scoped>\n",
       "    .dataframe tbody tr th:only-of-type {\n",
       "        vertical-align: middle;\n",
       "    }\n",
       "\n",
       "    .dataframe tbody tr th {\n",
       "        vertical-align: top;\n",
       "    }\n",
       "\n",
       "    .dataframe thead th {\n",
       "        text-align: right;\n",
       "    }\n",
       "</style>\n",
       "<table border=\"1\" class=\"dataframe\">\n",
       "  <thead>\n",
       "    <tr style=\"text-align: right;\">\n",
       "      <th></th>\n",
       "      <th>date</th>\n",
       "      <th>prcp_noaa</th>\n",
       "      <th>avg_temp_noaa</th>\n",
       "      <th>max_temp</th>\n",
       "      <th>min_temp</th>\n",
       "      <th>avg_temp_hds</th>\n",
       "      <th>prcp_hds</th>\n",
       "      <th>prcp</th>\n",
       "      <th>avg_temp</th>\n",
       "    </tr>\n",
       "  </thead>\n",
       "  <tbody>\n",
       "    <tr>\n",
       "      <th>20086</th>\n",
       "      <td>2010-01-01</td>\n",
       "      <td>NaN</td>\n",
       "      <td>18.0</td>\n",
       "      <td>21.8</td>\n",
       "      <td>NaN</td>\n",
       "      <td>17.9</td>\n",
       "      <td>0.2</td>\n",
       "      <td>0.2</td>\n",
       "      <td>18.0</td>\n",
       "    </tr>\n",
       "    <tr>\n",
       "      <th>20087</th>\n",
       "      <td>2010-01-02</td>\n",
       "      <td>0.0</td>\n",
       "      <td>16.0</td>\n",
       "      <td>17.8</td>\n",
       "      <td>13.8</td>\n",
       "      <td>15.6</td>\n",
       "      <td>0.0</td>\n",
       "      <td>0.0</td>\n",
       "      <td>16.0</td>\n",
       "    </tr>\n",
       "    <tr>\n",
       "      <th>20088</th>\n",
       "      <td>2010-01-03</td>\n",
       "      <td>0.0</td>\n",
       "      <td>13.5</td>\n",
       "      <td>15.6</td>\n",
       "      <td>10.8</td>\n",
       "      <td>13.5</td>\n",
       "      <td>0.0</td>\n",
       "      <td>0.0</td>\n",
       "      <td>13.5</td>\n",
       "    </tr>\n",
       "    <tr>\n",
       "      <th>20089</th>\n",
       "      <td>2010-01-04</td>\n",
       "      <td>0.0</td>\n",
       "      <td>8.9</td>\n",
       "      <td>11.0</td>\n",
       "      <td>5.8</td>\n",
       "      <td>9.5</td>\n",
       "      <td>0.0</td>\n",
       "      <td>0.0</td>\n",
       "      <td>8.9</td>\n",
       "    </tr>\n",
       "    <tr>\n",
       "      <th>20090</th>\n",
       "      <td>2010-01-05</td>\n",
       "      <td>0.0</td>\n",
       "      <td>13.1</td>\n",
       "      <td>16.0</td>\n",
       "      <td>8.6</td>\n",
       "      <td>13.4</td>\n",
       "      <td>0.0</td>\n",
       "      <td>0.0</td>\n",
       "      <td>13.1</td>\n",
       "    </tr>\n",
       "  </tbody>\n",
       "</table>\n",
       "</div>"
      ],
      "text/plain": [
       "            date  prcp_noaa  avg_temp_noaa  max_temp  min_temp  avg_temp_hds  \\\n",
       "20086 2010-01-01        NaN           18.0      21.8       NaN          17.9   \n",
       "20087 2010-01-02        0.0           16.0      17.8      13.8          15.6   \n",
       "20088 2010-01-03        0.0           13.5      15.6      10.8          13.5   \n",
       "20089 2010-01-04        0.0            8.9      11.0       5.8           9.5   \n",
       "20090 2010-01-05        0.0           13.1      16.0       8.6          13.4   \n",
       "\n",
       "       prcp_hds  prcp  avg_temp  \n",
       "20086       0.2   0.2      18.0  \n",
       "20087       0.0   0.0      16.0  \n",
       "20088       0.0   0.0      13.5  \n",
       "20089       0.0   0.0       8.9  \n",
       "20090       0.0   0.0      13.1  "
      ]
     },
     "execution_count": 40,
     "metadata": {},
     "output_type": "execute_result"
    }
   ],
   "source": [
    "full_data[\"avg_temp\"] = full_data[\"avg_temp_noaa\"].fillna(full_data[\"avg_temp_hds\"])\n",
    "full_data[full_data[\"date\"].dt.year.isin(range(2010, 2020))].head(5)"
   ]
  },
  {
   "cell_type": "markdown",
   "id": "bde3ee86",
   "metadata": {},
   "source": [
    "* Then we will add in the newly created <code>avg_temp</code> column the average(<code>max_temp</code>, <code>min_temp</code>) for the missing <code>avg_temp</code> values."
   ]
  },
  {
   "cell_type": "code",
   "execution_count": 43,
   "id": "41094db1",
   "metadata": {},
   "outputs": [],
   "source": [
    "# we have to recalculate calculateble_avg_temp after the merge\n",
    "calculatable_avg_temp = ( \\\n",
    " ~ (full_data[\"max_temp\"].isnull()) & \\\n",
    " ~ (full_data[\"min_temp\"].isnull()) & \\\n",
    " (full_data[\"avg_temp_noaa\"].isnull()) \\\n",
    "                        )\n",
    "                         \n",
    "full_data[\"avg_temp\"] = full_data[\"avg_temp\"].where(~ calculatable_avg_temp, (full_data[\"max_temp\"] + full_data[\"min_temp\"]) /2)"
   ]
  },
  {
   "cell_type": "markdown",
   "id": "72ab2233",
   "metadata": {},
   "source": [
    "* We will create a copy of <code>full_data</code> dataframe that will contain only the columns that are useful for our analysis.\n",
    "* This will be the dataframe that we will work on."
   ]
  },
  {
   "cell_type": "code",
   "execution_count": 47,
   "id": "65320d80",
   "metadata": {},
   "outputs": [
    {
     "data": {
      "text/html": [
       "<div>\n",
       "<style scoped>\n",
       "    .dataframe tbody tr th:only-of-type {\n",
       "        vertical-align: middle;\n",
       "    }\n",
       "\n",
       "    .dataframe tbody tr th {\n",
       "        vertical-align: top;\n",
       "    }\n",
       "\n",
       "    .dataframe thead th {\n",
       "        text-align: right;\n",
       "    }\n",
       "</style>\n",
       "<table border=\"1\" class=\"dataframe\">\n",
       "  <thead>\n",
       "    <tr style=\"text-align: right;\">\n",
       "      <th></th>\n",
       "      <th>date</th>\n",
       "      <th>prcp</th>\n",
       "      <th>avg_temp</th>\n",
       "    </tr>\n",
       "  </thead>\n",
       "  <tbody>\n",
       "    <tr>\n",
       "      <th>0</th>\n",
       "      <td>1955-01-01</td>\n",
       "      <td>0.0</td>\n",
       "      <td>14.35</td>\n",
       "    </tr>\n",
       "    <tr>\n",
       "      <th>1</th>\n",
       "      <td>1955-01-02</td>\n",
       "      <td>2.0</td>\n",
       "      <td>10.70</td>\n",
       "    </tr>\n",
       "    <tr>\n",
       "      <th>2</th>\n",
       "      <td>1955-01-03</td>\n",
       "      <td>0.0</td>\n",
       "      <td>12.70</td>\n",
       "    </tr>\n",
       "    <tr>\n",
       "      <th>3</th>\n",
       "      <td>1955-01-04</td>\n",
       "      <td>0.0</td>\n",
       "      <td>13.05</td>\n",
       "    </tr>\n",
       "    <tr>\n",
       "      <th>4</th>\n",
       "      <td>1955-01-05</td>\n",
       "      <td>0.0</td>\n",
       "      <td>13.15</td>\n",
       "    </tr>\n",
       "  </tbody>\n",
       "</table>\n",
       "</div>"
      ],
      "text/plain": [
       "        date  prcp  avg_temp\n",
       "0 1955-01-01   0.0     14.35\n",
       "1 1955-01-02   2.0     10.70\n",
       "2 1955-01-03   0.0     12.70\n",
       "3 1955-01-04   0.0     13.05\n",
       "4 1955-01-05   0.0     13.15"
      ]
     },
     "execution_count": 47,
     "metadata": {},
     "output_type": "execute_result"
    }
   ],
   "source": [
    "df = full_data[[\"date\", \"prcp\", \"avg_temp\"]].copy()\n",
    "df.head(5)"
   ]
  },
  {
   "cell_type": "markdown",
   "id": "57228aa9",
   "metadata": {},
   "source": [
    "### Overview of data\n",
    "* Let's calculate again some characteristics of our data after completing them."
   ]
  },
  {
   "cell_type": "code",
   "execution_count": 48,
   "id": "5bc624d5",
   "metadata": {},
   "outputs": [
    {
     "name": "stdout",
     "output_type": "stream",
     "text": [
      "missing dates: 3\n",
      "missing average temperatures: 2\n",
      "missing precipitations: 376\n"
     ]
    }
   ],
   "source": [
    "print(\"missing dates:\", len(all_dates) - len(df))\n",
    "print(\"missing average temperatures:\", df[\"avg_temp\"].isnull().sum())\n",
    "print(\"missing precipitations:\", df[\"prcp\"].isnull().sum())"
   ]
  },
  {
   "cell_type": "markdown",
   "id": "30f7f165",
   "metadata": {},
   "source": [
    "#### Looks like our data are much more complete now and we can move on with our analysis!"
   ]
  },
  {
   "cell_type": "markdown",
   "id": "945c772a",
   "metadata": {},
   "source": [
    "## Deviation of Summer Temperatures\n",
    "* Beginning our analysis we will calculate the mean summer temperature deviation from a baseline of 1974-1999 and we will create the corresponding graph.\n",
    "* An identical graph can be found in page 7 of the [report on extreme events](http://www.hnms.gr/emy/en/pdf/2020_GRsignificantEVENT_en.pdf) of the Hellenic National Meteorological Service."
   ]
  },
  {
   "cell_type": "markdown",
   "id": "1e740bb7",
   "metadata": {},
   "source": [
    "* A column with the year of each row will be useful afterwards."
   ]
  },
  {
   "cell_type": "code",
   "execution_count": 49,
   "id": "a3d7ed51",
   "metadata": {},
   "outputs": [],
   "source": [
    "df[\"year\"] = df[\"date\"].dt.year"
   ]
  },
  {
   "cell_type": "markdown",
   "id": "8e530e1c",
   "metadata": {},
   "source": [
    "* Then we will generate a view of the dataframe that contains only the summer days (by summer day we mean every day of June, July and August)."
   ]
  },
  {
   "cell_type": "code",
   "execution_count": 50,
   "id": "3fb7f34c",
   "metadata": {},
   "outputs": [
    {
     "data": {
      "text/html": [
       "<div>\n",
       "<style scoped>\n",
       "    .dataframe tbody tr th:only-of-type {\n",
       "        vertical-align: middle;\n",
       "    }\n",
       "\n",
       "    .dataframe tbody tr th {\n",
       "        vertical-align: top;\n",
       "    }\n",
       "\n",
       "    .dataframe thead th {\n",
       "        text-align: right;\n",
       "    }\n",
       "</style>\n",
       "<table border=\"1\" class=\"dataframe\">\n",
       "  <thead>\n",
       "    <tr style=\"text-align: right;\">\n",
       "      <th></th>\n",
       "      <th>date</th>\n",
       "      <th>prcp</th>\n",
       "      <th>avg_temp</th>\n",
       "      <th>year</th>\n",
       "    </tr>\n",
       "  </thead>\n",
       "  <tbody>\n",
       "    <tr>\n",
       "      <th>151</th>\n",
       "      <td>1955-06-01</td>\n",
       "      <td>0.0</td>\n",
       "      <td>21.8</td>\n",
       "      <td>1955</td>\n",
       "    </tr>\n",
       "    <tr>\n",
       "      <th>152</th>\n",
       "      <td>1955-06-02</td>\n",
       "      <td>0.0</td>\n",
       "      <td>21.7</td>\n",
       "      <td>1955</td>\n",
       "    </tr>\n",
       "    <tr>\n",
       "      <th>153</th>\n",
       "      <td>1955-06-03</td>\n",
       "      <td>0.0</td>\n",
       "      <td>21.5</td>\n",
       "      <td>1955</td>\n",
       "    </tr>\n",
       "    <tr>\n",
       "      <th>154</th>\n",
       "      <td>1955-06-04</td>\n",
       "      <td>0.0</td>\n",
       "      <td>22.7</td>\n",
       "      <td>1955</td>\n",
       "    </tr>\n",
       "    <tr>\n",
       "      <th>155</th>\n",
       "      <td>1955-06-05</td>\n",
       "      <td>0.0</td>\n",
       "      <td>22.5</td>\n",
       "      <td>1955</td>\n",
       "    </tr>\n",
       "  </tbody>\n",
       "</table>\n",
       "</div>"
      ],
      "text/plain": [
       "          date  prcp  avg_temp  year\n",
       "151 1955-06-01   0.0      21.8  1955\n",
       "152 1955-06-02   0.0      21.7  1955\n",
       "153 1955-06-03   0.0      21.5  1955\n",
       "154 1955-06-04   0.0      22.7  1955\n",
       "155 1955-06-05   0.0      22.5  1955"
      ]
     },
     "execution_count": 50,
     "metadata": {},
     "output_type": "execute_result"
    }
   ],
   "source": [
    "summerdays = df[df[\"date\"].dt.month.isin(range(6, 9))]\n",
    "summerdays.head(5)"
   ]
  },
  {
   "cell_type": "markdown",
   "id": "f2d360b2",
   "metadata": {},
   "source": [
    "* Now the mean temperature of the summer days within the base period 1974-1999, can be easily calculated.\n",
    "* This is the baseline temperature that we will use to calculate the deviation."
   ]
  },
  {
   "cell_type": "code",
   "execution_count": 51,
   "id": "522cd884",
   "metadata": {},
   "outputs": [
    {
     "data": {
      "text/plain": [
       "26.230727424749166"
      ]
     },
     "execution_count": 51,
     "metadata": {},
     "output_type": "execute_result"
    }
   ],
   "source": [
    "base_summer_temp = summerdays.loc[summerdays[\"year\"].isin(range(1974, 2000)), \"avg_temp\"].mean() # summerdays from 1974-1999\n",
    "base_summer_temp"
   ]
  },
  {
   "cell_type": "markdown",
   "id": "2a039a13",
   "metadata": {},
   "source": [
    "* In order to calculate the average temperature separately for each summer, we will group the summer days of every year."
   ]
  },
  {
   "cell_type": "code",
   "execution_count": 52,
   "id": "e1026999",
   "metadata": {},
   "outputs": [
    {
     "name": "stdout",
     "output_type": "stream",
     "text": [
      "1955\n",
      "          date  prcp  avg_temp  year\n",
      "151 1955-06-01   0.0      21.8  1955\n",
      "152 1955-06-02   0.0      21.7  1955\n",
      "153 1955-06-03   0.0      21.5  1955\n",
      "1956\n",
      "          date  prcp  avg_temp  year\n",
      "517 1956-06-01   0.0     20.85  1956\n",
      "518 1956-06-02   0.0     23.00  1956\n",
      "519 1956-06-03   0.0     21.70  1956\n",
      "1957\n",
      "          date  prcp  avg_temp  year\n",
      "882 1957-06-01   0.0      21.2  1957\n",
      "883 1957-06-02   0.0      24.6  1957\n",
      "884 1957-06-03   0.0      24.8  1957\n"
     ]
    }
   ],
   "source": [
    "summers_grouped = summerdays.groupby(\"year\")\n",
    "for name, summer_group in list(summers_grouped)[:3]:\n",
    "    print(name)\n",
    "    print(summer_group[:3])"
   ]
  },
  {
   "cell_type": "markdown",
   "id": "924212e2",
   "metadata": {},
   "source": [
    "* Now we need to calculate the average temperature of each summer."
   ]
  },
  {
   "cell_type": "code",
   "execution_count": 53,
   "id": "d819f703",
   "metadata": {},
   "outputs": [
    {
     "data": {
      "text/plain": [
       "year\n",
       "1955    25.951087\n",
       "1956    27.143478\n",
       "1957    27.371739\n",
       "1958    27.081522\n",
       "1959    26.401087\n",
       "Name: avg_temp, dtype: float64"
      ]
     },
     "execution_count": 53,
     "metadata": {},
     "output_type": "execute_result"
    }
   ],
   "source": [
    "summers_temp = summers_grouped[\"avg_temp\"].mean()\n",
    "summers_temp.head(5)"
   ]
  },
  {
   "cell_type": "markdown",
   "id": "95709a6d",
   "metadata": {},
   "source": [
    "* Having calculated the average temperature of all the summers and also the baseline summer temperature, we can now calculate the deviation from the baseline for each summer."
   ]
  },
  {
   "cell_type": "code",
   "execution_count": 55,
   "id": "1abba571",
   "metadata": {},
   "outputs": [
    {
     "data": {
      "text/plain": [
       "year\n",
       "1955   -0.279640\n",
       "1956    0.912751\n",
       "1957    1.141012\n",
       "1958    0.850794\n",
       "1959    0.170360\n",
       "Name: avg_temp, dtype: float64"
      ]
     },
     "execution_count": 55,
     "metadata": {},
     "output_type": "execute_result"
    }
   ],
   "source": [
    "summers_dev_from_base = summers_temp - base_summer_temp\n",
    "summers_dev_from_base.head(5)"
   ]
  },
  {
   "cell_type": "markdown",
   "id": "969d67e6",
   "metadata": {},
   "source": [
    "* Additionally, it would be nice if we added to our graph a line, representing the 10 years rolling avarege of the deviation from the mean.\n",
    "* In this way we will get a better picture of extreme events."
   ]
  },
  {
   "cell_type": "code",
   "execution_count": 56,
   "id": "bbbcf0aa",
   "metadata": {},
   "outputs": [],
   "source": [
    "summers_roll_avg_dev = summers_dev_from_base.rolling(10, min_periods=1).mean()"
   ]
  },
  {
   "cell_type": "markdown",
   "id": "382d996f",
   "metadata": {},
   "source": [
    "* Now it is time to plot our graph!"
   ]
  },
  {
   "cell_type": "code",
   "execution_count": 57,
   "id": "6e9e6707",
   "metadata": {},
   "outputs": [
    {
     "data": {
      "text/plain": [
       "[<matplotlib.lines.Line2D at 0x2376a382730>]"
      ]
     },
     "execution_count": 57,
     "metadata": {},
     "output_type": "execute_result"
    },
    {
     "data": {
      "image/png": "[encoded data removed]",
      "text/plain": [
       "<Figure size 936x720 with 1 Axes>"
      ]
     },
     "metadata": {},
     "output_type": "display_data"
    }
   ],
   "source": [
    "plt.style.use('ggplot')\n",
    "plt.figure(figsize=(13, 10))\n",
    "plt.title(\"Mean Summer Temperature Difference from 1974-1999 Mean\")\n",
    "plt.bar(summers_dev_from_base.index, \n",
    "        summers_dev_from_base, \n",
    "        width = 0.2, \n",
    "        color=np.where(summers_dev_from_base < 0, 'blue', 'orange'),\n",
    "        )\n",
    "plt.axhline(xmin = 0.045, xmax = 0.955, color = \"dimgrey\", linewidth = 1) # for the line on the x axis\n",
    "plt.plot(summers_roll_avg_dev.index, summers_roll_avg_dev, color = \"cadetblue\")"
   ]
  },
  {
   "cell_type": "markdown",
   "id": "38fa2507",
   "metadata": {},
   "source": [
    "### Interpretation\n",
    "* The mean summer temperature fluctuated at relatively low levels in the period 1955-1995, and especially within 1964-1993.\n",
    "* In the period 1996-2020 the mean summer temperature is almost every year a degree higher than the baseline temperature.\n",
    "* Generally, the trend is upwards.\n",
    "* A  relative steadiness can be noted in the period 2014-2020.\n",
    "\n",
    "All the above observations can be explained by the increased human activity the latter years. The combustion of fuels and deforastation are only few causes of the problem. A positive insight is that the efforts against global change seem to yield results,  "
   ]
  }
 ],
 "metadata": {
  "kernelspec": {
   "display_name": "Python 3 (ipykernel)",
   "language": "python",
   "name": "python3"
  },
  "language_info": {
   "codemirror_mode": {
    "name": "ipython",
    "version": 3
   },
   "file_extension": ".py",
   "mimetype": "text/x-python",
   "name": "python",
   "nbconvert_exporter": "python",
   "pygments_lexer": "ipython3",
   "version": "3.9.0"
  }
 },
 "nbformat": 4,
 "nbformat_minor": 5
}
